{
  "cells": [
    {
      "cell_type": "markdown",
      "metadata": {
        "id": "view-in-github",
        "colab_type": "text"
      },
      "source": [
        "<a href=\"https://colab.research.google.com/github/Masciel-Sevilla/CalculadoraVLSM_MascielSevilla/blob/master/bien.ipynb\" target=\"_parent\"><img src=\"https://colab.research.google.com/assets/colab-badge.svg\" alt=\"Open In Colab\"/></a>"
      ]
    },
    {
      "cell_type": "code",
      "execution_count": 8,
      "metadata": {
        "colab": {
          "base_uri": "https://localhost:8080/",
          "height": 1000
        },
        "id": "gdtZNn7nfnn9",
        "outputId": "d14bec9e-133b-4f92-b555-80001e2e3ce9"
      },
      "outputs": [
        {
          "metadata": {
            "tags": null
          },
          "name": "stdout",
          "output_type": "stream",
          "text": [
            "Creando datasets...\n",
            "Found 1680 training images and 1680 training masks\n",
            "Found 210 validation images and 210 validation masks\n",
            "Entrenando modelo...\n"
          ]
        },
        {
          "data": {
            "text/html": [
              "<pre style=\"white-space:pre;overflow-x:auto;line-height:normal;font-family:Menlo,'DejaVu Sans Mono',consolas,'Courier New',monospace\"><span style=\"font-weight: bold\">Model: \"WeedDetectionModel\"</span>\n",
              "</pre>\n"
            ],
            "text/plain": [
              "\u001b[1mModel: \"WeedDetectionModel\"\u001b[0m\n"
            ]
          },
          "metadata": {},
          "output_type": "display_data"
        },
        {
          "data": {
            "text/html": [
              "<pre style=\"white-space:pre;overflow-x:auto;line-height:normal;font-family:Menlo,'DejaVu Sans Mono',consolas,'Courier New',monospace\">┏━━━━━━━━━━━━━━━━━━━━━┳━━━━━━━━━━━━━━━━━━━┳━━━━━━━━━━━━┳━━━━━━━━━━━━━━━━━━━┓\n",
              "┃<span style=\"font-weight: bold\"> Layer (type)        </span>┃<span style=\"font-weight: bold\"> Output Shape      </span>┃<span style=\"font-weight: bold\">    Param # </span>┃<span style=\"font-weight: bold\"> Connected to      </span>┃\n",
              "┡━━━━━━━━━━━━━━━━━━━━━╇━━━━━━━━━━━━━━━━━━━╇━━━━━━━━━━━━╇━━━━━━━━━━━━━━━━━━━┩\n",
              "│ input_layer_14      │ (<span style=\"color: #00d7ff; text-decoration-color: #00d7ff\">None</span>, <span style=\"color: #00af00; text-decoration-color: #00af00\">128</span>, <span style=\"color: #00af00; text-decoration-color: #00af00\">128</span>,  │          <span style=\"color: #00af00; text-decoration-color: #00af00\">0</span> │ -                 │\n",
              "│ (<span style=\"color: #0087ff; text-decoration-color: #0087ff\">InputLayer</span>)        │ <span style=\"color: #00af00; text-decoration-color: #00af00\">3</span>)                │            │                   │\n",
              "├─────────────────────┼───────────────────┼────────────┼───────────────────┤\n",
              "│ EfficientNetV2B0_B… │ [(<span style=\"color: #00d7ff; text-decoration-color: #00d7ff\">None</span>, <span style=\"color: #00af00; text-decoration-color: #00af00\">64</span>, <span style=\"color: #00af00; text-decoration-color: #00af00\">64</span>,   │  <span style=\"color: #00af00; text-decoration-color: #00af00\">5,919,312</span> │ input_layer_14[<span style=\"color: #00af00; text-decoration-color: #00af00\">0</span>… │\n",
              "│ (<span style=\"color: #0087ff; text-decoration-color: #0087ff\">Functional</span>)        │ <span style=\"color: #00af00; text-decoration-color: #00af00\">16</span>), (<span style=\"color: #00d7ff; text-decoration-color: #00d7ff\">None</span>, <span style=\"color: #00af00; text-decoration-color: #00af00\">32</span>,   │            │                   │\n",
              "│                     │ <span style=\"color: #00af00; text-decoration-color: #00af00\">32</span>, <span style=\"color: #00af00; text-decoration-color: #00af00\">64</span>), (<span style=\"color: #00d7ff; text-decoration-color: #00d7ff\">None</span>,   │            │                   │\n",
              "│                     │ <span style=\"color: #00af00; text-decoration-color: #00af00\">16</span>, <span style=\"color: #00af00; text-decoration-color: #00af00\">16</span>, <span style=\"color: #00af00; text-decoration-color: #00af00\">128</span>),     │            │                   │\n",
              "│                     │ (<span style=\"color: #00d7ff; text-decoration-color: #00d7ff\">None</span>, <span style=\"color: #00af00; text-decoration-color: #00af00\">16</span>, <span style=\"color: #00af00; text-decoration-color: #00af00\">16</span>,    │            │                   │\n",
              "│                     │ <span style=\"color: #00af00; text-decoration-color: #00af00\">192</span>), (<span style=\"color: #00d7ff; text-decoration-color: #00d7ff\">None</span>, <span style=\"color: #00af00; text-decoration-color: #00af00\">4</span>,   │            │                   │\n",
              "│                     │ <span style=\"color: #00af00; text-decoration-color: #00af00\">4</span>, <span style=\"color: #00af00; text-decoration-color: #00af00\">1280</span>)]         │            │                   │\n",
              "├─────────────────────┼───────────────────┼────────────┼───────────────────┤\n",
              "│ aspp_module_7       │ (<span style=\"color: #00d7ff; text-decoration-color: #00d7ff\">None</span>, <span style=\"color: #00af00; text-decoration-color: #00af00\">4</span>, <span style=\"color: #00af00; text-decoration-color: #00af00\">4</span>, <span style=\"color: #00af00; text-decoration-color: #00af00\">256</span>) │  <span style=\"color: #00af00; text-decoration-color: #00af00\">9,836,544</span> │ EfficientNetV2B0… │\n",
              "│ (<span style=\"color: #0087ff; text-decoration-color: #0087ff\">ASPPModule</span>)        │                   │            │                   │\n",
              "├─────────────────────┼───────────────────┼────────────┼───────────────────┤\n",
              "│ deformable_attenti… │ (<span style=\"color: #00d7ff; text-decoration-color: #00d7ff\">None</span>, <span style=\"color: #00af00; text-decoration-color: #00af00\">4</span>, <span style=\"color: #00af00; text-decoration-color: #00af00\">4</span>, <span style=\"color: #00af00; text-decoration-color: #00af00\">256</span>) │    <span style=\"color: #00af00; text-decoration-color: #00af00\">657,408</span> │ aspp_module_7[<span style=\"color: #00af00; text-decoration-color: #00af00\">0</span>]… │\n",
              "│ (<span style=\"color: #0087ff; text-decoration-color: #0087ff\">DeformableAttenti…</span> │                   │            │                   │\n",
              "├─────────────────────┼───────────────────┼────────────┼───────────────────┤\n",
              "│ conv2d_transpose_17 │ (<span style=\"color: #00d7ff; text-decoration-color: #00d7ff\">None</span>, <span style=\"color: #00af00; text-decoration-color: #00af00\">8</span>, <span style=\"color: #00af00; text-decoration-color: #00af00\">8</span>, <span style=\"color: #00af00; text-decoration-color: #00af00\">128</span>) │    <span style=\"color: #00af00; text-decoration-color: #00af00\">131,072</span> │ deformable_atten… │\n",
              "│ (<span style=\"color: #0087ff; text-decoration-color: #0087ff\">Conv2DTranspose</span>)   │                   │            │                   │\n",
              "├─────────────────────┼───────────────────┼────────────┼───────────────────┤\n",
              "│ batch_normalizatio… │ (<span style=\"color: #00d7ff; text-decoration-color: #00d7ff\">None</span>, <span style=\"color: #00af00; text-decoration-color: #00af00\">8</span>, <span style=\"color: #00af00; text-decoration-color: #00af00\">8</span>, <span style=\"color: #00af00; text-decoration-color: #00af00\">128</span>) │        <span style=\"color: #00af00; text-decoration-color: #00af00\">512</span> │ conv2d_transpose… │\n",
              "│ (<span style=\"color: #0087ff; text-decoration-color: #0087ff\">BatchNormalizatio…</span> │                   │            │                   │\n",
              "├─────────────────────┼───────────────────┼────────────┼───────────────────┤\n",
              "│ re_lu_92 (<span style=\"color: #0087ff; text-decoration-color: #0087ff\">ReLU</span>)     │ (<span style=\"color: #00d7ff; text-decoration-color: #00d7ff\">None</span>, <span style=\"color: #00af00; text-decoration-color: #00af00\">8</span>, <span style=\"color: #00af00; text-decoration-color: #00af00\">8</span>, <span style=\"color: #00af00; text-decoration-color: #00af00\">128</span>) │          <span style=\"color: #00af00; text-decoration-color: #00af00\">0</span> │ batch_normalizat… │\n",
              "├─────────────────────┼───────────────────┼────────────┼───────────────────┤\n",
              "│ dropout_25          │ (<span style=\"color: #00d7ff; text-decoration-color: #00d7ff\">None</span>, <span style=\"color: #00af00; text-decoration-color: #00af00\">8</span>, <span style=\"color: #00af00; text-decoration-color: #00af00\">8</span>, <span style=\"color: #00af00; text-decoration-color: #00af00\">128</span>) │          <span style=\"color: #00af00; text-decoration-color: #00af00\">0</span> │ re_lu_92[<span style=\"color: #00af00; text-decoration-color: #00af00\">0</span>][<span style=\"color: #00af00; text-decoration-color: #00af00\">0</span>]    │\n",
              "│ (<span style=\"color: #0087ff; text-decoration-color: #0087ff\">Dropout</span>)           │                   │            │                   │\n",
              "├─────────────────────┼───────────────────┼────────────┼───────────────────┤\n",
              "│ conv2d_transpose_18 │ (<span style=\"color: #00d7ff; text-decoration-color: #00d7ff\">None</span>, <span style=\"color: #00af00; text-decoration-color: #00af00\">16</span>, <span style=\"color: #00af00; text-decoration-color: #00af00\">16</span>,    │     <span style=\"color: #00af00; text-decoration-color: #00af00\">65,536</span> │ dropout_25[<span style=\"color: #00af00; text-decoration-color: #00af00\">0</span>][<span style=\"color: #00af00; text-decoration-color: #00af00\">0</span>]  │\n",
              "│ (<span style=\"color: #0087ff; text-decoration-color: #0087ff\">Conv2DTranspose</span>)   │ <span style=\"color: #00af00; text-decoration-color: #00af00\">128</span>)              │            │                   │\n",
              "├─────────────────────┼───────────────────┼────────────┼───────────────────┤\n",
              "│ batch_normalizatio… │ (<span style=\"color: #00d7ff; text-decoration-color: #00d7ff\">None</span>, <span style=\"color: #00af00; text-decoration-color: #00af00\">16</span>, <span style=\"color: #00af00; text-decoration-color: #00af00\">16</span>,    │        <span style=\"color: #00af00; text-decoration-color: #00af00\">512</span> │ conv2d_transpose… │\n",
              "│ (<span style=\"color: #0087ff; text-decoration-color: #0087ff\">BatchNormalizatio…</span> │ <span style=\"color: #00af00; text-decoration-color: #00af00\">128</span>)              │            │                   │\n",
              "├─────────────────────┼───────────────────┼────────────┼───────────────────┤\n",
              "│ conv2d_68 (<span style=\"color: #0087ff; text-decoration-color: #0087ff\">Conv2D</span>)  │ (<span style=\"color: #00d7ff; text-decoration-color: #00d7ff\">None</span>, <span style=\"color: #00af00; text-decoration-color: #00af00\">16</span>, <span style=\"color: #00af00; text-decoration-color: #00af00\">16</span>,    │     <span style=\"color: #00af00; text-decoration-color: #00af00\">24,576</span> │ EfficientNetV2B0… │\n",
              "│                     │ <span style=\"color: #00af00; text-decoration-color: #00af00\">128</span>)              │            │                   │\n",
              "├─────────────────────┼───────────────────┼────────────┼───────────────────┤\n",
              "│ conv2d_69 (<span style=\"color: #0087ff; text-decoration-color: #0087ff\">Conv2D</span>)  │ (<span style=\"color: #00d7ff; text-decoration-color: #00d7ff\">None</span>, <span style=\"color: #00af00; text-decoration-color: #00af00\">16</span>, <span style=\"color: #00af00; text-decoration-color: #00af00\">16</span>,    │     <span style=\"color: #00af00; text-decoration-color: #00af00\">16,384</span> │ EfficientNetV2B0… │\n",
              "│                     │ <span style=\"color: #00af00; text-decoration-color: #00af00\">128</span>)              │            │                   │\n",
              "├─────────────────────┼───────────────────┼────────────┼───────────────────┤\n",
              "│ re_lu_93 (<span style=\"color: #0087ff; text-decoration-color: #0087ff\">ReLU</span>)     │ (<span style=\"color: #00d7ff; text-decoration-color: #00d7ff\">None</span>, <span style=\"color: #00af00; text-decoration-color: #00af00\">16</span>, <span style=\"color: #00af00; text-decoration-color: #00af00\">16</span>,    │          <span style=\"color: #00af00; text-decoration-color: #00af00\">0</span> │ batch_normalizat… │\n",
              "│                     │ <span style=\"color: #00af00; text-decoration-color: #00af00\">128</span>)              │            │                   │\n",
              "├─────────────────────┼───────────────────┼────────────┼───────────────────┤\n",
              "│ batch_normalizatio… │ (<span style=\"color: #00d7ff; text-decoration-color: #00d7ff\">None</span>, <span style=\"color: #00af00; text-decoration-color: #00af00\">16</span>, <span style=\"color: #00af00; text-decoration-color: #00af00\">16</span>,    │        <span style=\"color: #00af00; text-decoration-color: #00af00\">512</span> │ conv2d_68[<span style=\"color: #00af00; text-decoration-color: #00af00\">0</span>][<span style=\"color: #00af00; text-decoration-color: #00af00\">0</span>]   │\n",
              "│ (<span style=\"color: #0087ff; text-decoration-color: #0087ff\">BatchNormalizatio…</span> │ <span style=\"color: #00af00; text-decoration-color: #00af00\">128</span>)              │            │                   │\n",
              "├─────────────────────┼───────────────────┼────────────┼───────────────────┤\n",
              "│ batch_normalizatio… │ (<span style=\"color: #00d7ff; text-decoration-color: #00d7ff\">None</span>, <span style=\"color: #00af00; text-decoration-color: #00af00\">16</span>, <span style=\"color: #00af00; text-decoration-color: #00af00\">16</span>,    │        <span style=\"color: #00af00; text-decoration-color: #00af00\">512</span> │ conv2d_69[<span style=\"color: #00af00; text-decoration-color: #00af00\">0</span>][<span style=\"color: #00af00; text-decoration-color: #00af00\">0</span>]   │\n",
              "│ (<span style=\"color: #0087ff; text-decoration-color: #0087ff\">BatchNormalizatio…</span> │ <span style=\"color: #00af00; text-decoration-color: #00af00\">128</span>)              │            │                   │\n",
              "├─────────────────────┼───────────────────┼────────────┼───────────────────┤\n",
              "│ dropout_26          │ (<span style=\"color: #00d7ff; text-decoration-color: #00d7ff\">None</span>, <span style=\"color: #00af00; text-decoration-color: #00af00\">16</span>, <span style=\"color: #00af00; text-decoration-color: #00af00\">16</span>,    │          <span style=\"color: #00af00; text-decoration-color: #00af00\">0</span> │ re_lu_93[<span style=\"color: #00af00; text-decoration-color: #00af00\">0</span>][<span style=\"color: #00af00; text-decoration-color: #00af00\">0</span>]    │\n",
              "│ (<span style=\"color: #0087ff; text-decoration-color: #0087ff\">Dropout</span>)           │ <span style=\"color: #00af00; text-decoration-color: #00af00\">128</span>)              │            │                   │\n",
              "├─────────────────────┼───────────────────┼────────────┼───────────────────┤\n",
              "│ re_lu_94 (<span style=\"color: #0087ff; text-decoration-color: #0087ff\">ReLU</span>)     │ (<span style=\"color: #00d7ff; text-decoration-color: #00d7ff\">None</span>, <span style=\"color: #00af00; text-decoration-color: #00af00\">16</span>, <span style=\"color: #00af00; text-decoration-color: #00af00\">16</span>,    │          <span style=\"color: #00af00; text-decoration-color: #00af00\">0</span> │ batch_normalizat… │\n",
              "│                     │ <span style=\"color: #00af00; text-decoration-color: #00af00\">128</span>)              │            │                   │\n",
              "├─────────────────────┼───────────────────┼────────────┼───────────────────┤\n",
              "│ re_lu_95 (<span style=\"color: #0087ff; text-decoration-color: #0087ff\">ReLU</span>)     │ (<span style=\"color: #00d7ff; text-decoration-color: #00d7ff\">None</span>, <span style=\"color: #00af00; text-decoration-color: #00af00\">16</span>, <span style=\"color: #00af00; text-decoration-color: #00af00\">16</span>,    │          <span style=\"color: #00af00; text-decoration-color: #00af00\">0</span> │ batch_normalizat… │\n",
              "│                     │ <span style=\"color: #00af00; text-decoration-color: #00af00\">128</span>)              │            │                   │\n",
              "├─────────────────────┼───────────────────┼────────────┼───────────────────┤\n",
              "│ concatenate_32      │ (<span style=\"color: #00d7ff; text-decoration-color: #00d7ff\">None</span>, <span style=\"color: #00af00; text-decoration-color: #00af00\">16</span>, <span style=\"color: #00af00; text-decoration-color: #00af00\">16</span>,    │          <span style=\"color: #00af00; text-decoration-color: #00af00\">0</span> │ dropout_26[<span style=\"color: #00af00; text-decoration-color: #00af00\">0</span>][<span style=\"color: #00af00; text-decoration-color: #00af00\">0</span>], │\n",
              "│ (<span style=\"color: #0087ff; text-decoration-color: #0087ff\">Concatenate</span>)       │ <span style=\"color: #00af00; text-decoration-color: #00af00\">384</span>)              │            │ re_lu_94[<span style=\"color: #00af00; text-decoration-color: #00af00\">0</span>][<span style=\"color: #00af00; text-decoration-color: #00af00\">0</span>],   │\n",
              "│                     │                   │            │ re_lu_95[<span style=\"color: #00af00; text-decoration-color: #00af00\">0</span>][<span style=\"color: #00af00; text-decoration-color: #00af00\">0</span>]    │\n",
              "├─────────────────────┼───────────────────┼────────────┼───────────────────┤\n",
              "│ conv2d_70 (<span style=\"color: #0087ff; text-decoration-color: #0087ff\">Conv2D</span>)  │ (<span style=\"color: #00d7ff; text-decoration-color: #00d7ff\">None</span>, <span style=\"color: #00af00; text-decoration-color: #00af00\">16</span>, <span style=\"color: #00af00; text-decoration-color: #00af00\">16</span>,    │    <span style=\"color: #00af00; text-decoration-color: #00af00\">442,368</span> │ concatenate_32[<span style=\"color: #00af00; text-decoration-color: #00af00\">0</span>… │\n",
              "│                     │ <span style=\"color: #00af00; text-decoration-color: #00af00\">128</span>)              │            │                   │\n",
              "├─────────────────────┼───────────────────┼────────────┼───────────────────┤\n",
              "│ batch_normalizatio… │ (<span style=\"color: #00d7ff; text-decoration-color: #00d7ff\">None</span>, <span style=\"color: #00af00; text-decoration-color: #00af00\">16</span>, <span style=\"color: #00af00; text-decoration-color: #00af00\">16</span>,    │        <span style=\"color: #00af00; text-decoration-color: #00af00\">512</span> │ conv2d_70[<span style=\"color: #00af00; text-decoration-color: #00af00\">0</span>][<span style=\"color: #00af00; text-decoration-color: #00af00\">0</span>]   │\n",
              "│ (<span style=\"color: #0087ff; text-decoration-color: #0087ff\">BatchNormalizatio…</span> │ <span style=\"color: #00af00; text-decoration-color: #00af00\">128</span>)              │            │                   │\n",
              "├─────────────────────┼───────────────────┼────────────┼───────────────────┤\n",
              "│ re_lu_96 (<span style=\"color: #0087ff; text-decoration-color: #0087ff\">ReLU</span>)     │ (<span style=\"color: #00d7ff; text-decoration-color: #00d7ff\">None</span>, <span style=\"color: #00af00; text-decoration-color: #00af00\">16</span>, <span style=\"color: #00af00; text-decoration-color: #00af00\">16</span>,    │          <span style=\"color: #00af00; text-decoration-color: #00af00\">0</span> │ batch_normalizat… │\n",
              "│                     │ <span style=\"color: #00af00; text-decoration-color: #00af00\">128</span>)              │            │                   │\n",
              "├─────────────────────┼───────────────────┼────────────┼───────────────────┤\n",
              "│ conv2d_71 (<span style=\"color: #0087ff; text-decoration-color: #0087ff\">Conv2D</span>)  │ (<span style=\"color: #00d7ff; text-decoration-color: #00d7ff\">None</span>, <span style=\"color: #00af00; text-decoration-color: #00af00\">16</span>, <span style=\"color: #00af00; text-decoration-color: #00af00\">16</span>,    │    <span style=\"color: #00af00; text-decoration-color: #00af00\">147,456</span> │ re_lu_96[<span style=\"color: #00af00; text-decoration-color: #00af00\">0</span>][<span style=\"color: #00af00; text-decoration-color: #00af00\">0</span>]    │\n",
              "│                     │ <span style=\"color: #00af00; text-decoration-color: #00af00\">128</span>)              │            │                   │\n",
              "├─────────────────────┼───────────────────┼────────────┼───────────────────┤\n",
              "│ batch_normalizatio… │ (<span style=\"color: #00d7ff; text-decoration-color: #00d7ff\">None</span>, <span style=\"color: #00af00; text-decoration-color: #00af00\">16</span>, <span style=\"color: #00af00; text-decoration-color: #00af00\">16</span>,    │        <span style=\"color: #00af00; text-decoration-color: #00af00\">512</span> │ conv2d_71[<span style=\"color: #00af00; text-decoration-color: #00af00\">0</span>][<span style=\"color: #00af00; text-decoration-color: #00af00\">0</span>]   │\n",
              "│ (<span style=\"color: #0087ff; text-decoration-color: #0087ff\">BatchNormalizatio…</span> │ <span style=\"color: #00af00; text-decoration-color: #00af00\">128</span>)              │            │                   │\n",
              "├─────────────────────┼───────────────────┼────────────┼───────────────────┤\n",
              "│ re_lu_97 (<span style=\"color: #0087ff; text-decoration-color: #0087ff\">ReLU</span>)     │ (<span style=\"color: #00d7ff; text-decoration-color: #00d7ff\">None</span>, <span style=\"color: #00af00; text-decoration-color: #00af00\">16</span>, <span style=\"color: #00af00; text-decoration-color: #00af00\">16</span>,    │          <span style=\"color: #00af00; text-decoration-color: #00af00\">0</span> │ batch_normalizat… │\n",
              "│                     │ <span style=\"color: #00af00; text-decoration-color: #00af00\">128</span>)              │            │                   │\n",
              "├─────────────────────┼───────────────────┼────────────┼───────────────────┤\n",
              "│ dropout_27          │ (<span style=\"color: #00d7ff; text-decoration-color: #00d7ff\">None</span>, <span style=\"color: #00af00; text-decoration-color: #00af00\">16</span>, <span style=\"color: #00af00; text-decoration-color: #00af00\">16</span>,    │          <span style=\"color: #00af00; text-decoration-color: #00af00\">0</span> │ re_lu_97[<span style=\"color: #00af00; text-decoration-color: #00af00\">0</span>][<span style=\"color: #00af00; text-decoration-color: #00af00\">0</span>]    │\n",
              "│ (<span style=\"color: #0087ff; text-decoration-color: #0087ff\">Dropout</span>)           │ <span style=\"color: #00af00; text-decoration-color: #00af00\">128</span>)              │            │                   │\n",
              "├─────────────────────┼───────────────────┼────────────┼───────────────────┤\n",
              "│ conv2d_transpose_19 │ (<span style=\"color: #00d7ff; text-decoration-color: #00d7ff\">None</span>, <span style=\"color: #00af00; text-decoration-color: #00af00\">32</span>, <span style=\"color: #00af00; text-decoration-color: #00af00\">32</span>,    │     <span style=\"color: #00af00; text-decoration-color: #00af00\">32,768</span> │ dropout_27[<span style=\"color: #00af00; text-decoration-color: #00af00\">0</span>][<span style=\"color: #00af00; text-decoration-color: #00af00\">0</span>]  │\n",
              "│ (<span style=\"color: #0087ff; text-decoration-color: #0087ff\">Conv2DTranspose</span>)   │ <span style=\"color: #00af00; text-decoration-color: #00af00\">64</span>)               │            │                   │\n",
              "├─────────────────────┼───────────────────┼────────────┼───────────────────┤\n",
              "│ batch_normalizatio… │ (<span style=\"color: #00d7ff; text-decoration-color: #00d7ff\">None</span>, <span style=\"color: #00af00; text-decoration-color: #00af00\">32</span>, <span style=\"color: #00af00; text-decoration-color: #00af00\">32</span>,    │        <span style=\"color: #00af00; text-decoration-color: #00af00\">256</span> │ conv2d_transpose… │\n",
              "│ (<span style=\"color: #0087ff; text-decoration-color: #0087ff\">BatchNormalizatio…</span> │ <span style=\"color: #00af00; text-decoration-color: #00af00\">64</span>)               │            │                   │\n",
              "├─────────────────────┼───────────────────┼────────────┼───────────────────┤\n",
              "│ conv2d_72 (<span style=\"color: #0087ff; text-decoration-color: #0087ff\">Conv2D</span>)  │ (<span style=\"color: #00d7ff; text-decoration-color: #00d7ff\">None</span>, <span style=\"color: #00af00; text-decoration-color: #00af00\">32</span>, <span style=\"color: #00af00; text-decoration-color: #00af00\">32</span>,    │      <span style=\"color: #00af00; text-decoration-color: #00af00\">4,096</span> │ EfficientNetV2B0… │\n",
              "│                     │ <span style=\"color: #00af00; text-decoration-color: #00af00\">64</span>)               │            │                   │\n",
              "├─────────────────────┼───────────────────┼────────────┼───────────────────┤\n",
              "│ re_lu_98 (<span style=\"color: #0087ff; text-decoration-color: #0087ff\">ReLU</span>)     │ (<span style=\"color: #00d7ff; text-decoration-color: #00d7ff\">None</span>, <span style=\"color: #00af00; text-decoration-color: #00af00\">32</span>, <span style=\"color: #00af00; text-decoration-color: #00af00\">32</span>,    │          <span style=\"color: #00af00; text-decoration-color: #00af00\">0</span> │ batch_normalizat… │\n",
              "│                     │ <span style=\"color: #00af00; text-decoration-color: #00af00\">64</span>)               │            │                   │\n",
              "├─────────────────────┼───────────────────┼────────────┼───────────────────┤\n",
              "│ batch_normalizatio… │ (<span style=\"color: #00d7ff; text-decoration-color: #00d7ff\">None</span>, <span style=\"color: #00af00; text-decoration-color: #00af00\">32</span>, <span style=\"color: #00af00; text-decoration-color: #00af00\">32</span>,    │        <span style=\"color: #00af00; text-decoration-color: #00af00\">256</span> │ conv2d_72[<span style=\"color: #00af00; text-decoration-color: #00af00\">0</span>][<span style=\"color: #00af00; text-decoration-color: #00af00\">0</span>]   │\n",
              "│ (<span style=\"color: #0087ff; text-decoration-color: #0087ff\">BatchNormalizatio…</span> │ <span style=\"color: #00af00; text-decoration-color: #00af00\">64</span>)               │            │                   │\n",
              "├─────────────────────┼───────────────────┼────────────┼───────────────────┤\n",
              "│ dropout_28          │ (<span style=\"color: #00d7ff; text-decoration-color: #00d7ff\">None</span>, <span style=\"color: #00af00; text-decoration-color: #00af00\">32</span>, <span style=\"color: #00af00; text-decoration-color: #00af00\">32</span>,    │          <span style=\"color: #00af00; text-decoration-color: #00af00\">0</span> │ re_lu_98[<span style=\"color: #00af00; text-decoration-color: #00af00\">0</span>][<span style=\"color: #00af00; text-decoration-color: #00af00\">0</span>]    │\n",
              "│ (<span style=\"color: #0087ff; text-decoration-color: #0087ff\">Dropout</span>)           │ <span style=\"color: #00af00; text-decoration-color: #00af00\">64</span>)               │            │                   │\n",
              "├─────────────────────┼───────────────────┼────────────┼───────────────────┤\n",
              "│ re_lu_99 (<span style=\"color: #0087ff; text-decoration-color: #0087ff\">ReLU</span>)     │ (<span style=\"color: #00d7ff; text-decoration-color: #00d7ff\">None</span>, <span style=\"color: #00af00; text-decoration-color: #00af00\">32</span>, <span style=\"color: #00af00; text-decoration-color: #00af00\">32</span>,    │          <span style=\"color: #00af00; text-decoration-color: #00af00\">0</span> │ batch_normalizat… │\n",
              "│                     │ <span style=\"color: #00af00; text-decoration-color: #00af00\">64</span>)               │            │                   │\n",
              "├─────────────────────┼───────────────────┼────────────┼───────────────────┤\n",
              "│ concatenate_33      │ (<span style=\"color: #00d7ff; text-decoration-color: #00d7ff\">None</span>, <span style=\"color: #00af00; text-decoration-color: #00af00\">32</span>, <span style=\"color: #00af00; text-decoration-color: #00af00\">32</span>,    │          <span style=\"color: #00af00; text-decoration-color: #00af00\">0</span> │ dropout_28[<span style=\"color: #00af00; text-decoration-color: #00af00\">0</span>][<span style=\"color: #00af00; text-decoration-color: #00af00\">0</span>], │\n",
              "│ (<span style=\"color: #0087ff; text-decoration-color: #0087ff\">Concatenate</span>)       │ <span style=\"color: #00af00; text-decoration-color: #00af00\">128</span>)              │            │ re_lu_99[<span style=\"color: #00af00; text-decoration-color: #00af00\">0</span>][<span style=\"color: #00af00; text-decoration-color: #00af00\">0</span>]    │\n",
              "├─────────────────────┼───────────────────┼────────────┼───────────────────┤\n",
              "│ conv2d_73 (<span style=\"color: #0087ff; text-decoration-color: #0087ff\">Conv2D</span>)  │ (<span style=\"color: #00d7ff; text-decoration-color: #00d7ff\">None</span>, <span style=\"color: #00af00; text-decoration-color: #00af00\">32</span>, <span style=\"color: #00af00; text-decoration-color: #00af00\">32</span>,    │     <span style=\"color: #00af00; text-decoration-color: #00af00\">73,728</span> │ concatenate_33[<span style=\"color: #00af00; text-decoration-color: #00af00\">0</span>… │\n",
              "│                     │ <span style=\"color: #00af00; text-decoration-color: #00af00\">64</span>)               │            │                   │\n",
              "├─────────────────────┼───────────────────┼────────────┼───────────────────┤\n",
              "│ batch_normalizatio… │ (<span style=\"color: #00d7ff; text-decoration-color: #00d7ff\">None</span>, <span style=\"color: #00af00; text-decoration-color: #00af00\">32</span>, <span style=\"color: #00af00; text-decoration-color: #00af00\">32</span>,    │        <span style=\"color: #00af00; text-decoration-color: #00af00\">256</span> │ conv2d_73[<span style=\"color: #00af00; text-decoration-color: #00af00\">0</span>][<span style=\"color: #00af00; text-decoration-color: #00af00\">0</span>]   │\n",
              "│ (<span style=\"color: #0087ff; text-decoration-color: #0087ff\">BatchNormalizatio…</span> │ <span style=\"color: #00af00; text-decoration-color: #00af00\">64</span>)               │            │                   │\n",
              "├─────────────────────┼───────────────────┼────────────┼───────────────────┤\n",
              "│ re_lu_100 (<span style=\"color: #0087ff; text-decoration-color: #0087ff\">ReLU</span>)    │ (<span style=\"color: #00d7ff; text-decoration-color: #00d7ff\">None</span>, <span style=\"color: #00af00; text-decoration-color: #00af00\">32</span>, <span style=\"color: #00af00; text-decoration-color: #00af00\">32</span>,    │          <span style=\"color: #00af00; text-decoration-color: #00af00\">0</span> │ batch_normalizat… │\n",
              "│                     │ <span style=\"color: #00af00; text-decoration-color: #00af00\">64</span>)               │            │                   │\n",
              "├─────────────────────┼───────────────────┼────────────┼───────────────────┤\n",
              "│ conv2d_74 (<span style=\"color: #0087ff; text-decoration-color: #0087ff\">Conv2D</span>)  │ (<span style=\"color: #00d7ff; text-decoration-color: #00d7ff\">None</span>, <span style=\"color: #00af00; text-decoration-color: #00af00\">32</span>, <span style=\"color: #00af00; text-decoration-color: #00af00\">32</span>,    │     <span style=\"color: #00af00; text-decoration-color: #00af00\">36,864</span> │ re_lu_100[<span style=\"color: #00af00; text-decoration-color: #00af00\">0</span>][<span style=\"color: #00af00; text-decoration-color: #00af00\">0</span>]   │\n",
              "│                     │ <span style=\"color: #00af00; text-decoration-color: #00af00\">64</span>)               │            │                   │\n",
              "├─────────────────────┼───────────────────┼────────────┼───────────────────┤\n",
              "│ batch_normalizatio… │ (<span style=\"color: #00d7ff; text-decoration-color: #00d7ff\">None</span>, <span style=\"color: #00af00; text-decoration-color: #00af00\">32</span>, <span style=\"color: #00af00; text-decoration-color: #00af00\">32</span>,    │        <span style=\"color: #00af00; text-decoration-color: #00af00\">256</span> │ conv2d_74[<span style=\"color: #00af00; text-decoration-color: #00af00\">0</span>][<span style=\"color: #00af00; text-decoration-color: #00af00\">0</span>]   │\n",
              "│ (<span style=\"color: #0087ff; text-decoration-color: #0087ff\">BatchNormalizatio…</span> │ <span style=\"color: #00af00; text-decoration-color: #00af00\">64</span>)               │            │                   │\n",
              "├─────────────────────┼───────────────────┼────────────┼───────────────────┤\n",
              "│ re_lu_101 (<span style=\"color: #0087ff; text-decoration-color: #0087ff\">ReLU</span>)    │ (<span style=\"color: #00d7ff; text-decoration-color: #00d7ff\">None</span>, <span style=\"color: #00af00; text-decoration-color: #00af00\">32</span>, <span style=\"color: #00af00; text-decoration-color: #00af00\">32</span>,    │          <span style=\"color: #00af00; text-decoration-color: #00af00\">0</span> │ batch_normalizat… │\n",
              "│                     │ <span style=\"color: #00af00; text-decoration-color: #00af00\">64</span>)               │            │                   │\n",
              "├─────────────────────┼───────────────────┼────────────┼───────────────────┤\n",
              "│ dropout_29          │ (<span style=\"color: #00d7ff; text-decoration-color: #00d7ff\">None</span>, <span style=\"color: #00af00; text-decoration-color: #00af00\">32</span>, <span style=\"color: #00af00; text-decoration-color: #00af00\">32</span>,    │          <span style=\"color: #00af00; text-decoration-color: #00af00\">0</span> │ re_lu_101[<span style=\"color: #00af00; text-decoration-color: #00af00\">0</span>][<span style=\"color: #00af00; text-decoration-color: #00af00\">0</span>]   │\n",
              "│ (<span style=\"color: #0087ff; text-decoration-color: #0087ff\">Dropout</span>)           │ <span style=\"color: #00af00; text-decoration-color: #00af00\">64</span>)               │            │                   │\n",
              "├─────────────────────┼───────────────────┼────────────┼───────────────────┤\n",
              "│ conv2d_transpose_20 │ (<span style=\"color: #00d7ff; text-decoration-color: #00d7ff\">None</span>, <span style=\"color: #00af00; text-decoration-color: #00af00\">64</span>, <span style=\"color: #00af00; text-decoration-color: #00af00\">64</span>,    │      <span style=\"color: #00af00; text-decoration-color: #00af00\">8,192</span> │ dropout_29[<span style=\"color: #00af00; text-decoration-color: #00af00\">0</span>][<span style=\"color: #00af00; text-decoration-color: #00af00\">0</span>]  │\n",
              "│ (<span style=\"color: #0087ff; text-decoration-color: #0087ff\">Conv2DTranspose</span>)   │ <span style=\"color: #00af00; text-decoration-color: #00af00\">32</span>)               │            │                   │\n",
              "├─────────────────────┼───────────────────┼────────────┼───────────────────┤\n",
              "│ batch_normalizatio… │ (<span style=\"color: #00d7ff; text-decoration-color: #00d7ff\">None</span>, <span style=\"color: #00af00; text-decoration-color: #00af00\">64</span>, <span style=\"color: #00af00; text-decoration-color: #00af00\">64</span>,    │        <span style=\"color: #00af00; text-decoration-color: #00af00\">128</span> │ conv2d_transpose… │\n",
              "│ (<span style=\"color: #0087ff; text-decoration-color: #0087ff\">BatchNormalizatio…</span> │ <span style=\"color: #00af00; text-decoration-color: #00af00\">32</span>)               │            │                   │\n",
              "├─────────────────────┼───────────────────┼────────────┼───────────────────┤\n",
              "│ conv2d_75 (<span style=\"color: #0087ff; text-decoration-color: #0087ff\">Conv2D</span>)  │ (<span style=\"color: #00d7ff; text-decoration-color: #00d7ff\">None</span>, <span style=\"color: #00af00; text-decoration-color: #00af00\">64</span>, <span style=\"color: #00af00; text-decoration-color: #00af00\">64</span>,    │        <span style=\"color: #00af00; text-decoration-color: #00af00\">512</span> │ EfficientNetV2B0… │\n",
              "│                     │ <span style=\"color: #00af00; text-decoration-color: #00af00\">32</span>)               │            │                   │\n",
              "├─────────────────────┼───────────────────┼────────────┼───────────────────┤\n",
              "│ re_lu_102 (<span style=\"color: #0087ff; text-decoration-color: #0087ff\">ReLU</span>)    │ (<span style=\"color: #00d7ff; text-decoration-color: #00d7ff\">None</span>, <span style=\"color: #00af00; text-decoration-color: #00af00\">64</span>, <span style=\"color: #00af00; text-decoration-color: #00af00\">64</span>,    │          <span style=\"color: #00af00; text-decoration-color: #00af00\">0</span> │ batch_normalizat… │\n",
              "│                     │ <span style=\"color: #00af00; text-decoration-color: #00af00\">32</span>)               │            │                   │\n",
              "├─────────────────────┼───────────────────┼────────────┼───────────────────┤\n",
              "│ batch_normalizatio… │ (<span style=\"color: #00d7ff; text-decoration-color: #00d7ff\">None</span>, <span style=\"color: #00af00; text-decoration-color: #00af00\">64</span>, <span style=\"color: #00af00; text-decoration-color: #00af00\">64</span>,    │        <span style=\"color: #00af00; text-decoration-color: #00af00\">128</span> │ conv2d_75[<span style=\"color: #00af00; text-decoration-color: #00af00\">0</span>][<span style=\"color: #00af00; text-decoration-color: #00af00\">0</span>]   │\n",
              "│ (<span style=\"color: #0087ff; text-decoration-color: #0087ff\">BatchNormalizatio…</span> │ <span style=\"color: #00af00; text-decoration-color: #00af00\">32</span>)               │            │                   │\n",
              "├─────────────────────┼───────────────────┼────────────┼───────────────────┤\n",
              "│ dropout_30          │ (<span style=\"color: #00d7ff; text-decoration-color: #00d7ff\">None</span>, <span style=\"color: #00af00; text-decoration-color: #00af00\">64</span>, <span style=\"color: #00af00; text-decoration-color: #00af00\">64</span>,    │          <span style=\"color: #00af00; text-decoration-color: #00af00\">0</span> │ re_lu_102[<span style=\"color: #00af00; text-decoration-color: #00af00\">0</span>][<span style=\"color: #00af00; text-decoration-color: #00af00\">0</span>]   │\n",
              "│ (<span style=\"color: #0087ff; text-decoration-color: #0087ff\">Dropout</span>)           │ <span style=\"color: #00af00; text-decoration-color: #00af00\">32</span>)               │            │                   │\n",
              "├─────────────────────┼───────────────────┼────────────┼───────────────────┤\n",
              "│ re_lu_103 (<span style=\"color: #0087ff; text-decoration-color: #0087ff\">ReLU</span>)    │ (<span style=\"color: #00d7ff; text-decoration-color: #00d7ff\">None</span>, <span style=\"color: #00af00; text-decoration-color: #00af00\">64</span>, <span style=\"color: #00af00; text-decoration-color: #00af00\">64</span>,    │          <span style=\"color: #00af00; text-decoration-color: #00af00\">0</span> │ batch_normalizat… │\n",
              "│                     │ <span style=\"color: #00af00; text-decoration-color: #00af00\">32</span>)               │            │                   │\n",
              "├─────────────────────┼───────────────────┼────────────┼───────────────────┤\n",
              "│ concatenate_34      │ (<span style=\"color: #00d7ff; text-decoration-color: #00d7ff\">None</span>, <span style=\"color: #00af00; text-decoration-color: #00af00\">64</span>, <span style=\"color: #00af00; text-decoration-color: #00af00\">64</span>,    │          <span style=\"color: #00af00; text-decoration-color: #00af00\">0</span> │ dropout_30[<span style=\"color: #00af00; text-decoration-color: #00af00\">0</span>][<span style=\"color: #00af00; text-decoration-color: #00af00\">0</span>], │\n",
              "│ (<span style=\"color: #0087ff; text-decoration-color: #0087ff\">Concatenate</span>)       │ <span style=\"color: #00af00; text-decoration-color: #00af00\">64</span>)               │            │ re_lu_103[<span style=\"color: #00af00; text-decoration-color: #00af00\">0</span>][<span style=\"color: #00af00; text-decoration-color: #00af00\">0</span>]   │\n",
              "├─────────────────────┼───────────────────┼────────────┼───────────────────┤\n",
              "│ conv2d_76 (<span style=\"color: #0087ff; text-decoration-color: #0087ff\">Conv2D</span>)  │ (<span style=\"color: #00d7ff; text-decoration-color: #00d7ff\">None</span>, <span style=\"color: #00af00; text-decoration-color: #00af00\">64</span>, <span style=\"color: #00af00; text-decoration-color: #00af00\">64</span>,    │     <span style=\"color: #00af00; text-decoration-color: #00af00\">18,432</span> │ concatenate_34[<span style=\"color: #00af00; text-decoration-color: #00af00\">0</span>… │\n",
              "│                     │ <span style=\"color: #00af00; text-decoration-color: #00af00\">32</span>)               │            │                   │\n",
              "├─────────────────────┼───────────────────┼────────────┼───────────────────┤\n",
              "│ batch_normalizatio… │ (<span style=\"color: #00d7ff; text-decoration-color: #00d7ff\">None</span>, <span style=\"color: #00af00; text-decoration-color: #00af00\">64</span>, <span style=\"color: #00af00; text-decoration-color: #00af00\">64</span>,    │        <span style=\"color: #00af00; text-decoration-color: #00af00\">128</span> │ conv2d_76[<span style=\"color: #00af00; text-decoration-color: #00af00\">0</span>][<span style=\"color: #00af00; text-decoration-color: #00af00\">0</span>]   │\n",
              "│ (<span style=\"color: #0087ff; text-decoration-color: #0087ff\">BatchNormalizatio…</span> │ <span style=\"color: #00af00; text-decoration-color: #00af00\">32</span>)               │            │                   │\n",
              "├─────────────────────┼───────────────────┼────────────┼───────────────────┤\n",
              "│ re_lu_104 (<span style=\"color: #0087ff; text-decoration-color: #0087ff\">ReLU</span>)    │ (<span style=\"color: #00d7ff; text-decoration-color: #00d7ff\">None</span>, <span style=\"color: #00af00; text-decoration-color: #00af00\">64</span>, <span style=\"color: #00af00; text-decoration-color: #00af00\">64</span>,    │          <span style=\"color: #00af00; text-decoration-color: #00af00\">0</span> │ batch_normalizat… │\n",
              "│                     │ <span style=\"color: #00af00; text-decoration-color: #00af00\">32</span>)               │            │                   │\n",
              "├─────────────────────┼───────────────────┼────────────┼───────────────────┤\n",
              "│ conv2d_77 (<span style=\"color: #0087ff; text-decoration-color: #0087ff\">Conv2D</span>)  │ (<span style=\"color: #00d7ff; text-decoration-color: #00d7ff\">None</span>, <span style=\"color: #00af00; text-decoration-color: #00af00\">64</span>, <span style=\"color: #00af00; text-decoration-color: #00af00\">64</span>,    │      <span style=\"color: #00af00; text-decoration-color: #00af00\">9,216</span> │ re_lu_104[<span style=\"color: #00af00; text-decoration-color: #00af00\">0</span>][<span style=\"color: #00af00; text-decoration-color: #00af00\">0</span>]   │\n",
              "│                     │ <span style=\"color: #00af00; text-decoration-color: #00af00\">32</span>)               │            │                   │\n",
              "├─────────────────────┼───────────────────┼────────────┼───────────────────┤\n",
              "│ batch_normalizatio… │ (<span style=\"color: #00d7ff; text-decoration-color: #00d7ff\">None</span>, <span style=\"color: #00af00; text-decoration-color: #00af00\">64</span>, <span style=\"color: #00af00; text-decoration-color: #00af00\">64</span>,    │        <span style=\"color: #00af00; text-decoration-color: #00af00\">128</span> │ conv2d_77[<span style=\"color: #00af00; text-decoration-color: #00af00\">0</span>][<span style=\"color: #00af00; text-decoration-color: #00af00\">0</span>]   │\n",
              "│ (<span style=\"color: #0087ff; text-decoration-color: #0087ff\">BatchNormalizatio…</span> │ <span style=\"color: #00af00; text-decoration-color: #00af00\">32</span>)               │            │                   │\n",
              "├─────────────────────┼───────────────────┼────────────┼───────────────────┤\n",
              "│ re_lu_105 (<span style=\"color: #0087ff; text-decoration-color: #0087ff\">ReLU</span>)    │ (<span style=\"color: #00d7ff; text-decoration-color: #00d7ff\">None</span>, <span style=\"color: #00af00; text-decoration-color: #00af00\">64</span>, <span style=\"color: #00af00; text-decoration-color: #00af00\">64</span>,    │          <span style=\"color: #00af00; text-decoration-color: #00af00\">0</span> │ batch_normalizat… │\n",
              "│                     │ <span style=\"color: #00af00; text-decoration-color: #00af00\">32</span>)               │            │                   │\n",
              "├─────────────────────┼───────────────────┼────────────┼───────────────────┤\n",
              "│ dropout_31          │ (<span style=\"color: #00d7ff; text-decoration-color: #00d7ff\">None</span>, <span style=\"color: #00af00; text-decoration-color: #00af00\">64</span>, <span style=\"color: #00af00; text-decoration-color: #00af00\">64</span>,    │          <span style=\"color: #00af00; text-decoration-color: #00af00\">0</span> │ re_lu_105[<span style=\"color: #00af00; text-decoration-color: #00af00\">0</span>][<span style=\"color: #00af00; text-decoration-color: #00af00\">0</span>]   │\n",
              "│ (<span style=\"color: #0087ff; text-decoration-color: #0087ff\">Dropout</span>)           │ <span style=\"color: #00af00; text-decoration-color: #00af00\">32</span>)               │            │                   │\n",
              "├─────────────────────┼───────────────────┼────────────┼───────────────────┤\n",
              "│ conv2d_transpose_21 │ (<span style=\"color: #00d7ff; text-decoration-color: #00d7ff\">None</span>, <span style=\"color: #00af00; text-decoration-color: #00af00\">128</span>, <span style=\"color: #00af00; text-decoration-color: #00af00\">128</span>,  │        <span style=\"color: #00af00; text-decoration-color: #00af00\">768</span> │ dropout_31[<span style=\"color: #00af00; text-decoration-color: #00af00\">0</span>][<span style=\"color: #00af00; text-decoration-color: #00af00\">0</span>]  │\n",
              "│ (<span style=\"color: #0087ff; text-decoration-color: #0087ff\">Conv2DTranspose</span>)   │ <span style=\"color: #00af00; text-decoration-color: #00af00\">6</span>)                │            │                   │\n",
              "├─────────────────────┼───────────────────┼────────────┼───────────────────┤\n",
              "│ segmentation_output │ (<span style=\"color: #00d7ff; text-decoration-color: #00d7ff\">None</span>, <span style=\"color: #00af00; text-decoration-color: #00af00\">128</span>, <span style=\"color: #00af00; text-decoration-color: #00af00\">128</span>,  │         <span style=\"color: #00af00; text-decoration-color: #00af00\">42</span> │ conv2d_transpose… │\n",
              "│ (<span style=\"color: #0087ff; text-decoration-color: #0087ff\">Conv2D</span>)            │ <span style=\"color: #00af00; text-decoration-color: #00af00\">6</span>)                │            │                   │\n",
              "└─────────────────────┴───────────────────┴────────────┴───────────────────┘\n",
              "</pre>\n"
            ],
            "text/plain": [
              "┏━━━━━━━━━━━━━━━━━━━━━┳━━━━━━━━━━━━━━━━━━━┳━━━━━━━━━━━━┳━━━━━━━━━━━━━━━━━━━┓\n",
              "┃\u001b[1m \u001b[0m\u001b[1mLayer (type)       \u001b[0m\u001b[1m \u001b[0m┃\u001b[1m \u001b[0m\u001b[1mOutput Shape     \u001b[0m\u001b[1m \u001b[0m┃\u001b[1m \u001b[0m\u001b[1m   Param #\u001b[0m\u001b[1m \u001b[0m┃\u001b[1m \u001b[0m\u001b[1mConnected to     \u001b[0m\u001b[1m \u001b[0m┃\n",
              "┡━━━━━━━━━━━━━━━━━━━━━╇━━━━━━━━━━━━━━━━━━━╇━━━━━━━━━━━━╇━━━━━━━━━━━━━━━━━━━┩\n",
              "│ input_layer_14      │ (\u001b[38;5;45mNone\u001b[0m, \u001b[38;5;34m128\u001b[0m, \u001b[38;5;34m128\u001b[0m,  │          \u001b[38;5;34m0\u001b[0m │ -                 │\n",
              "│ (\u001b[38;5;33mInputLayer\u001b[0m)        │ \u001b[38;5;34m3\u001b[0m)                │            │                   │\n",
              "├─────────────────────┼───────────────────┼────────────┼───────────────────┤\n",
              "│ EfficientNetV2B0_B… │ [(\u001b[38;5;45mNone\u001b[0m, \u001b[38;5;34m64\u001b[0m, \u001b[38;5;34m64\u001b[0m,   │  \u001b[38;5;34m5,919,312\u001b[0m │ input_layer_14[\u001b[38;5;34m0\u001b[0m… │\n",
              "│ (\u001b[38;5;33mFunctional\u001b[0m)        │ \u001b[38;5;34m16\u001b[0m), (\u001b[38;5;45mNone\u001b[0m, \u001b[38;5;34m32\u001b[0m,   │            │                   │\n",
              "│                     │ \u001b[38;5;34m32\u001b[0m, \u001b[38;5;34m64\u001b[0m), (\u001b[38;5;45mNone\u001b[0m,   │            │                   │\n",
              "│                     │ \u001b[38;5;34m16\u001b[0m, \u001b[38;5;34m16\u001b[0m, \u001b[38;5;34m128\u001b[0m),     │            │                   │\n",
              "│                     │ (\u001b[38;5;45mNone\u001b[0m, \u001b[38;5;34m16\u001b[0m, \u001b[38;5;34m16\u001b[0m,    │            │                   │\n",
              "│                     │ \u001b[38;5;34m192\u001b[0m), (\u001b[38;5;45mNone\u001b[0m, \u001b[38;5;34m4\u001b[0m,   │            │                   │\n",
              "│                     │ \u001b[38;5;34m4\u001b[0m, \u001b[38;5;34m1280\u001b[0m)]         │            │                   │\n",
              "├─────────────────────┼───────────────────┼────────────┼───────────────────┤\n",
              "│ aspp_module_7       │ (\u001b[38;5;45mNone\u001b[0m, \u001b[38;5;34m4\u001b[0m, \u001b[38;5;34m4\u001b[0m, \u001b[38;5;34m256\u001b[0m) │  \u001b[38;5;34m9,836,544\u001b[0m │ EfficientNetV2B0… │\n",
              "│ (\u001b[38;5;33mASPPModule\u001b[0m)        │                   │            │                   │\n",
              "├─────────────────────┼───────────────────┼────────────┼───────────────────┤\n",
              "│ deformable_attenti… │ (\u001b[38;5;45mNone\u001b[0m, \u001b[38;5;34m4\u001b[0m, \u001b[38;5;34m4\u001b[0m, \u001b[38;5;34m256\u001b[0m) │    \u001b[38;5;34m657,408\u001b[0m │ aspp_module_7[\u001b[38;5;34m0\u001b[0m]… │\n",
              "│ (\u001b[38;5;33mDeformableAttenti…\u001b[0m │                   │            │                   │\n",
              "├─────────────────────┼───────────────────┼────────────┼───────────────────┤\n",
              "│ conv2d_transpose_17 │ (\u001b[38;5;45mNone\u001b[0m, \u001b[38;5;34m8\u001b[0m, \u001b[38;5;34m8\u001b[0m, \u001b[38;5;34m128\u001b[0m) │    \u001b[38;5;34m131,072\u001b[0m │ deformable_atten… │\n",
              "│ (\u001b[38;5;33mConv2DTranspose\u001b[0m)   │                   │            │                   │\n",
              "├─────────────────────┼───────────────────┼────────────┼───────────────────┤\n",
              "│ batch_normalizatio… │ (\u001b[38;5;45mNone\u001b[0m, \u001b[38;5;34m8\u001b[0m, \u001b[38;5;34m8\u001b[0m, \u001b[38;5;34m128\u001b[0m) │        \u001b[38;5;34m512\u001b[0m │ conv2d_transpose… │\n",
              "│ (\u001b[38;5;33mBatchNormalizatio…\u001b[0m │                   │            │                   │\n",
              "├─────────────────────┼───────────────────┼────────────┼───────────────────┤\n",
              "│ re_lu_92 (\u001b[38;5;33mReLU\u001b[0m)     │ (\u001b[38;5;45mNone\u001b[0m, \u001b[38;5;34m8\u001b[0m, \u001b[38;5;34m8\u001b[0m, \u001b[38;5;34m128\u001b[0m) │          \u001b[38;5;34m0\u001b[0m │ batch_normalizat… │\n",
              "├─────────────────────┼───────────────────┼────────────┼───────────────────┤\n",
              "│ dropout_25          │ (\u001b[38;5;45mNone\u001b[0m, \u001b[38;5;34m8\u001b[0m, \u001b[38;5;34m8\u001b[0m, \u001b[38;5;34m128\u001b[0m) │          \u001b[38;5;34m0\u001b[0m │ re_lu_92[\u001b[38;5;34m0\u001b[0m][\u001b[38;5;34m0\u001b[0m]    │\n",
              "│ (\u001b[38;5;33mDropout\u001b[0m)           │                   │            │                   │\n",
              "├─────────────────────┼───────────────────┼────────────┼───────────────────┤\n",
              "│ conv2d_transpose_18 │ (\u001b[38;5;45mNone\u001b[0m, \u001b[38;5;34m16\u001b[0m, \u001b[38;5;34m16\u001b[0m,    │     \u001b[38;5;34m65,536\u001b[0m │ dropout_25[\u001b[38;5;34m0\u001b[0m][\u001b[38;5;34m0\u001b[0m]  │\n",
              "│ (\u001b[38;5;33mConv2DTranspose\u001b[0m)   │ \u001b[38;5;34m128\u001b[0m)              │            │                   │\n",
              "├─────────────────────┼───────────────────┼────────────┼───────────────────┤\n",
              "│ batch_normalizatio… │ (\u001b[38;5;45mNone\u001b[0m, \u001b[38;5;34m16\u001b[0m, \u001b[38;5;34m16\u001b[0m,    │        \u001b[38;5;34m512\u001b[0m │ conv2d_transpose… │\n",
              "│ (\u001b[38;5;33mBatchNormalizatio…\u001b[0m │ \u001b[38;5;34m128\u001b[0m)              │            │                   │\n",
              "├─────────────────────┼───────────────────┼────────────┼───────────────────┤\n",
              "│ conv2d_68 (\u001b[38;5;33mConv2D\u001b[0m)  │ (\u001b[38;5;45mNone\u001b[0m, \u001b[38;5;34m16\u001b[0m, \u001b[38;5;34m16\u001b[0m,    │     \u001b[38;5;34m24,576\u001b[0m │ EfficientNetV2B0… │\n",
              "│                     │ \u001b[38;5;34m128\u001b[0m)              │            │                   │\n",
              "├─────────────────────┼───────────────────┼────────────┼───────────────────┤\n",
              "│ conv2d_69 (\u001b[38;5;33mConv2D\u001b[0m)  │ (\u001b[38;5;45mNone\u001b[0m, \u001b[38;5;34m16\u001b[0m, \u001b[38;5;34m16\u001b[0m,    │     \u001b[38;5;34m16,384\u001b[0m │ EfficientNetV2B0… │\n",
              "│                     │ \u001b[38;5;34m128\u001b[0m)              │            │                   │\n",
              "├─────────────────────┼───────────────────┼────────────┼───────────────────┤\n",
              "│ re_lu_93 (\u001b[38;5;33mReLU\u001b[0m)     │ (\u001b[38;5;45mNone\u001b[0m, \u001b[38;5;34m16\u001b[0m, \u001b[38;5;34m16\u001b[0m,    │          \u001b[38;5;34m0\u001b[0m │ batch_normalizat… │\n",
              "│                     │ \u001b[38;5;34m128\u001b[0m)              │            │                   │\n",
              "├─────────────────────┼───────────────────┼────────────┼───────────────────┤\n",
              "│ batch_normalizatio… │ (\u001b[38;5;45mNone\u001b[0m, \u001b[38;5;34m16\u001b[0m, \u001b[38;5;34m16\u001b[0m,    │        \u001b[38;5;34m512\u001b[0m │ conv2d_68[\u001b[38;5;34m0\u001b[0m][\u001b[38;5;34m0\u001b[0m]   │\n",
              "│ (\u001b[38;5;33mBatchNormalizatio…\u001b[0m │ \u001b[38;5;34m128\u001b[0m)              │            │                   │\n",
              "├─────────────────────┼───────────────────┼────────────┼───────────────────┤\n",
              "│ batch_normalizatio… │ (\u001b[38;5;45mNone\u001b[0m, \u001b[38;5;34m16\u001b[0m, \u001b[38;5;34m16\u001b[0m,    │        \u001b[38;5;34m512\u001b[0m │ conv2d_69[\u001b[38;5;34m0\u001b[0m][\u001b[38;5;34m0\u001b[0m]   │\n",
              "│ (\u001b[38;5;33mBatchNormalizatio…\u001b[0m │ \u001b[38;5;34m128\u001b[0m)              │            │                   │\n",
              "├─────────────────────┼───────────────────┼────────────┼───────────────────┤\n",
              "│ dropout_26          │ (\u001b[38;5;45mNone\u001b[0m, \u001b[38;5;34m16\u001b[0m, \u001b[38;5;34m16\u001b[0m,    │          \u001b[38;5;34m0\u001b[0m │ re_lu_93[\u001b[38;5;34m0\u001b[0m][\u001b[38;5;34m0\u001b[0m]    │\n",
              "│ (\u001b[38;5;33mDropout\u001b[0m)           │ \u001b[38;5;34m128\u001b[0m)              │            │                   │\n",
              "├─────────────────────┼───────────────────┼────────────┼───────────────────┤\n",
              "│ re_lu_94 (\u001b[38;5;33mReLU\u001b[0m)     │ (\u001b[38;5;45mNone\u001b[0m, \u001b[38;5;34m16\u001b[0m, \u001b[38;5;34m16\u001b[0m,    │          \u001b[38;5;34m0\u001b[0m │ batch_normalizat… │\n",
              "│                     │ \u001b[38;5;34m128\u001b[0m)              │            │                   │\n",
              "├─────────────────────┼───────────────────┼────────────┼───────────────────┤\n",
              "│ re_lu_95 (\u001b[38;5;33mReLU\u001b[0m)     │ (\u001b[38;5;45mNone\u001b[0m, \u001b[38;5;34m16\u001b[0m, \u001b[38;5;34m16\u001b[0m,    │          \u001b[38;5;34m0\u001b[0m │ batch_normalizat… │\n",
              "│                     │ \u001b[38;5;34m128\u001b[0m)              │            │                   │\n",
              "├─────────────────────┼───────────────────┼────────────┼───────────────────┤\n",
              "│ concatenate_32      │ (\u001b[38;5;45mNone\u001b[0m, \u001b[38;5;34m16\u001b[0m, \u001b[38;5;34m16\u001b[0m,    │          \u001b[38;5;34m0\u001b[0m │ dropout_26[\u001b[38;5;34m0\u001b[0m][\u001b[38;5;34m0\u001b[0m], │\n",
              "│ (\u001b[38;5;33mConcatenate\u001b[0m)       │ \u001b[38;5;34m384\u001b[0m)              │            │ re_lu_94[\u001b[38;5;34m0\u001b[0m][\u001b[38;5;34m0\u001b[0m],   │\n",
              "│                     │                   │            │ re_lu_95[\u001b[38;5;34m0\u001b[0m][\u001b[38;5;34m0\u001b[0m]    │\n",
              "├─────────────────────┼───────────────────┼────────────┼───────────────────┤\n",
              "│ conv2d_70 (\u001b[38;5;33mConv2D\u001b[0m)  │ (\u001b[38;5;45mNone\u001b[0m, \u001b[38;5;34m16\u001b[0m, \u001b[38;5;34m16\u001b[0m,    │    \u001b[38;5;34m442,368\u001b[0m │ concatenate_32[\u001b[38;5;34m0\u001b[0m… │\n",
              "│                     │ \u001b[38;5;34m128\u001b[0m)              │            │                   │\n",
              "├─────────────────────┼───────────────────┼────────────┼───────────────────┤\n",
              "│ batch_normalizatio… │ (\u001b[38;5;45mNone\u001b[0m, \u001b[38;5;34m16\u001b[0m, \u001b[38;5;34m16\u001b[0m,    │        \u001b[38;5;34m512\u001b[0m │ conv2d_70[\u001b[38;5;34m0\u001b[0m][\u001b[38;5;34m0\u001b[0m]   │\n",
              "│ (\u001b[38;5;33mBatchNormalizatio…\u001b[0m │ \u001b[38;5;34m128\u001b[0m)              │            │                   │\n",
              "├─────────────────────┼───────────────────┼────────────┼───────────────────┤\n",
              "│ re_lu_96 (\u001b[38;5;33mReLU\u001b[0m)     │ (\u001b[38;5;45mNone\u001b[0m, \u001b[38;5;34m16\u001b[0m, \u001b[38;5;34m16\u001b[0m,    │          \u001b[38;5;34m0\u001b[0m │ batch_normalizat… │\n",
              "│                     │ \u001b[38;5;34m128\u001b[0m)              │            │                   │\n",
              "├─────────────────────┼───────────────────┼────────────┼───────────────────┤\n",
              "│ conv2d_71 (\u001b[38;5;33mConv2D\u001b[0m)  │ (\u001b[38;5;45mNone\u001b[0m, \u001b[38;5;34m16\u001b[0m, \u001b[38;5;34m16\u001b[0m,    │    \u001b[38;5;34m147,456\u001b[0m │ re_lu_96[\u001b[38;5;34m0\u001b[0m][\u001b[38;5;34m0\u001b[0m]    │\n",
              "│                     │ \u001b[38;5;34m128\u001b[0m)              │            │                   │\n",
              "├─────────────────────┼───────────────────┼────────────┼───────────────────┤\n",
              "│ batch_normalizatio… │ (\u001b[38;5;45mNone\u001b[0m, \u001b[38;5;34m16\u001b[0m, \u001b[38;5;34m16\u001b[0m,    │        \u001b[38;5;34m512\u001b[0m │ conv2d_71[\u001b[38;5;34m0\u001b[0m][\u001b[38;5;34m0\u001b[0m]   │\n",
              "│ (\u001b[38;5;33mBatchNormalizatio…\u001b[0m │ \u001b[38;5;34m128\u001b[0m)              │            │                   │\n",
              "├─────────────────────┼───────────────────┼────────────┼───────────────────┤\n",
              "│ re_lu_97 (\u001b[38;5;33mReLU\u001b[0m)     │ (\u001b[38;5;45mNone\u001b[0m, \u001b[38;5;34m16\u001b[0m, \u001b[38;5;34m16\u001b[0m,    │          \u001b[38;5;34m0\u001b[0m │ batch_normalizat… │\n",
              "│                     │ \u001b[38;5;34m128\u001b[0m)              │            │                   │\n",
              "├─────────────────────┼───────────────────┼────────────┼───────────────────┤\n",
              "│ dropout_27          │ (\u001b[38;5;45mNone\u001b[0m, \u001b[38;5;34m16\u001b[0m, \u001b[38;5;34m16\u001b[0m,    │          \u001b[38;5;34m0\u001b[0m │ re_lu_97[\u001b[38;5;34m0\u001b[0m][\u001b[38;5;34m0\u001b[0m]    │\n",
              "│ (\u001b[38;5;33mDropout\u001b[0m)           │ \u001b[38;5;34m128\u001b[0m)              │            │                   │\n",
              "├─────────────────────┼───────────────────┼────────────┼───────────────────┤\n",
              "│ conv2d_transpose_19 │ (\u001b[38;5;45mNone\u001b[0m, \u001b[38;5;34m32\u001b[0m, \u001b[38;5;34m32\u001b[0m,    │     \u001b[38;5;34m32,768\u001b[0m │ dropout_27[\u001b[38;5;34m0\u001b[0m][\u001b[38;5;34m0\u001b[0m]  │\n",
              "│ (\u001b[38;5;33mConv2DTranspose\u001b[0m)   │ \u001b[38;5;34m64\u001b[0m)               │            │                   │\n",
              "├─────────────────────┼───────────────────┼────────────┼───────────────────┤\n",
              "│ batch_normalizatio… │ (\u001b[38;5;45mNone\u001b[0m, \u001b[38;5;34m32\u001b[0m, \u001b[38;5;34m32\u001b[0m,    │        \u001b[38;5;34m256\u001b[0m │ conv2d_transpose… │\n",
              "│ (\u001b[38;5;33mBatchNormalizatio…\u001b[0m │ \u001b[38;5;34m64\u001b[0m)               │            │                   │\n",
              "├─────────────────────┼───────────────────┼────────────┼───────────────────┤\n",
              "│ conv2d_72 (\u001b[38;5;33mConv2D\u001b[0m)  │ (\u001b[38;5;45mNone\u001b[0m, \u001b[38;5;34m32\u001b[0m, \u001b[38;5;34m32\u001b[0m,    │      \u001b[38;5;34m4,096\u001b[0m │ EfficientNetV2B0… │\n",
              "│                     │ \u001b[38;5;34m64\u001b[0m)               │            │                   │\n",
              "├─────────────────────┼───────────────────┼────────────┼───────────────────┤\n",
              "│ re_lu_98 (\u001b[38;5;33mReLU\u001b[0m)     │ (\u001b[38;5;45mNone\u001b[0m, \u001b[38;5;34m32\u001b[0m, \u001b[38;5;34m32\u001b[0m,    │          \u001b[38;5;34m0\u001b[0m │ batch_normalizat… │\n",
              "│                     │ \u001b[38;5;34m64\u001b[0m)               │            │                   │\n",
              "├─────────────────────┼───────────────────┼────────────┼───────────────────┤\n",
              "│ batch_normalizatio… │ (\u001b[38;5;45mNone\u001b[0m, \u001b[38;5;34m32\u001b[0m, \u001b[38;5;34m32\u001b[0m,    │        \u001b[38;5;34m256\u001b[0m │ conv2d_72[\u001b[38;5;34m0\u001b[0m][\u001b[38;5;34m0\u001b[0m]   │\n",
              "│ (\u001b[38;5;33mBatchNormalizatio…\u001b[0m │ \u001b[38;5;34m64\u001b[0m)               │            │                   │\n",
              "├─────────────────────┼───────────────────┼────────────┼───────────────────┤\n",
              "│ dropout_28          │ (\u001b[38;5;45mNone\u001b[0m, \u001b[38;5;34m32\u001b[0m, \u001b[38;5;34m32\u001b[0m,    │          \u001b[38;5;34m0\u001b[0m │ re_lu_98[\u001b[38;5;34m0\u001b[0m][\u001b[38;5;34m0\u001b[0m]    │\n",
              "│ (\u001b[38;5;33mDropout\u001b[0m)           │ \u001b[38;5;34m64\u001b[0m)               │            │                   │\n",
              "├─────────────────────┼───────────────────┼────────────┼───────────────────┤\n",
              "│ re_lu_99 (\u001b[38;5;33mReLU\u001b[0m)     │ (\u001b[38;5;45mNone\u001b[0m, \u001b[38;5;34m32\u001b[0m, \u001b[38;5;34m32\u001b[0m,    │          \u001b[38;5;34m0\u001b[0m │ batch_normalizat… │\n",
              "│                     │ \u001b[38;5;34m64\u001b[0m)               │            │                   │\n",
              "├─────────────────────┼───────────────────┼────────────┼───────────────────┤\n",
              "│ concatenate_33      │ (\u001b[38;5;45mNone\u001b[0m, \u001b[38;5;34m32\u001b[0m, \u001b[38;5;34m32\u001b[0m,    │          \u001b[38;5;34m0\u001b[0m │ dropout_28[\u001b[38;5;34m0\u001b[0m][\u001b[38;5;34m0\u001b[0m], │\n",
              "│ (\u001b[38;5;33mConcatenate\u001b[0m)       │ \u001b[38;5;34m128\u001b[0m)              │            │ re_lu_99[\u001b[38;5;34m0\u001b[0m][\u001b[38;5;34m0\u001b[0m]    │\n",
              "├─────────────────────┼───────────────────┼────────────┼───────────────────┤\n",
              "│ conv2d_73 (\u001b[38;5;33mConv2D\u001b[0m)  │ (\u001b[38;5;45mNone\u001b[0m, \u001b[38;5;34m32\u001b[0m, \u001b[38;5;34m32\u001b[0m,    │     \u001b[38;5;34m73,728\u001b[0m │ concatenate_33[\u001b[38;5;34m0\u001b[0m… │\n",
              "│                     │ \u001b[38;5;34m64\u001b[0m)               │            │                   │\n",
              "├─────────────────────┼───────────────────┼────────────┼───────────────────┤\n",
              "│ batch_normalizatio… │ (\u001b[38;5;45mNone\u001b[0m, \u001b[38;5;34m32\u001b[0m, \u001b[38;5;34m32\u001b[0m,    │        \u001b[38;5;34m256\u001b[0m │ conv2d_73[\u001b[38;5;34m0\u001b[0m][\u001b[38;5;34m0\u001b[0m]   │\n",
              "│ (\u001b[38;5;33mBatchNormalizatio…\u001b[0m │ \u001b[38;5;34m64\u001b[0m)               │            │                   │\n",
              "├─────────────────────┼───────────────────┼────────────┼───────────────────┤\n",
              "│ re_lu_100 (\u001b[38;5;33mReLU\u001b[0m)    │ (\u001b[38;5;45mNone\u001b[0m, \u001b[38;5;34m32\u001b[0m, \u001b[38;5;34m32\u001b[0m,    │          \u001b[38;5;34m0\u001b[0m │ batch_normalizat… │\n",
              "│                     │ \u001b[38;5;34m64\u001b[0m)               │            │                   │\n",
              "├─────────────────────┼───────────────────┼────────────┼───────────────────┤\n",
              "│ conv2d_74 (\u001b[38;5;33mConv2D\u001b[0m)  │ (\u001b[38;5;45mNone\u001b[0m, \u001b[38;5;34m32\u001b[0m, \u001b[38;5;34m32\u001b[0m,    │     \u001b[38;5;34m36,864\u001b[0m │ re_lu_100[\u001b[38;5;34m0\u001b[0m][\u001b[38;5;34m0\u001b[0m]   │\n",
              "│                     │ \u001b[38;5;34m64\u001b[0m)               │            │                   │\n",
              "├─────────────────────┼───────────────────┼────────────┼───────────────────┤\n",
              "│ batch_normalizatio… │ (\u001b[38;5;45mNone\u001b[0m, \u001b[38;5;34m32\u001b[0m, \u001b[38;5;34m32\u001b[0m,    │        \u001b[38;5;34m256\u001b[0m │ conv2d_74[\u001b[38;5;34m0\u001b[0m][\u001b[38;5;34m0\u001b[0m]   │\n",
              "│ (\u001b[38;5;33mBatchNormalizatio…\u001b[0m │ \u001b[38;5;34m64\u001b[0m)               │            │                   │\n",
              "├─────────────────────┼───────────────────┼────────────┼───────────────────┤\n",
              "│ re_lu_101 (\u001b[38;5;33mReLU\u001b[0m)    │ (\u001b[38;5;45mNone\u001b[0m, \u001b[38;5;34m32\u001b[0m, \u001b[38;5;34m32\u001b[0m,    │          \u001b[38;5;34m0\u001b[0m │ batch_normalizat… │\n",
              "│                     │ \u001b[38;5;34m64\u001b[0m)               │            │                   │\n",
              "├─────────────────────┼───────────────────┼────────────┼───────────────────┤\n",
              "│ dropout_29          │ (\u001b[38;5;45mNone\u001b[0m, \u001b[38;5;34m32\u001b[0m, \u001b[38;5;34m32\u001b[0m,    │          \u001b[38;5;34m0\u001b[0m │ re_lu_101[\u001b[38;5;34m0\u001b[0m][\u001b[38;5;34m0\u001b[0m]   │\n",
              "│ (\u001b[38;5;33mDropout\u001b[0m)           │ \u001b[38;5;34m64\u001b[0m)               │            │                   │\n",
              "├─────────────────────┼───────────────────┼────────────┼───────────────────┤\n",
              "│ conv2d_transpose_20 │ (\u001b[38;5;45mNone\u001b[0m, \u001b[38;5;34m64\u001b[0m, \u001b[38;5;34m64\u001b[0m,    │      \u001b[38;5;34m8,192\u001b[0m │ dropout_29[\u001b[38;5;34m0\u001b[0m][\u001b[38;5;34m0\u001b[0m]  │\n",
              "│ (\u001b[38;5;33mConv2DTranspose\u001b[0m)   │ \u001b[38;5;34m32\u001b[0m)               │            │                   │\n",
              "├─────────────────────┼───────────────────┼────────────┼───────────────────┤\n",
              "│ batch_normalizatio… │ (\u001b[38;5;45mNone\u001b[0m, \u001b[38;5;34m64\u001b[0m, \u001b[38;5;34m64\u001b[0m,    │        \u001b[38;5;34m128\u001b[0m │ conv2d_transpose… │\n",
              "│ (\u001b[38;5;33mBatchNormalizatio…\u001b[0m │ \u001b[38;5;34m32\u001b[0m)               │            │                   │\n",
              "├─────────────────────┼───────────────────┼────────────┼───────────────────┤\n",
              "│ conv2d_75 (\u001b[38;5;33mConv2D\u001b[0m)  │ (\u001b[38;5;45mNone\u001b[0m, \u001b[38;5;34m64\u001b[0m, \u001b[38;5;34m64\u001b[0m,    │        \u001b[38;5;34m512\u001b[0m │ EfficientNetV2B0… │\n",
              "│                     │ \u001b[38;5;34m32\u001b[0m)               │            │                   │\n",
              "├─────────────────────┼───────────────────┼────────────┼───────────────────┤\n",
              "│ re_lu_102 (\u001b[38;5;33mReLU\u001b[0m)    │ (\u001b[38;5;45mNone\u001b[0m, \u001b[38;5;34m64\u001b[0m, \u001b[38;5;34m64\u001b[0m,    │          \u001b[38;5;34m0\u001b[0m │ batch_normalizat… │\n",
              "│                     │ \u001b[38;5;34m32\u001b[0m)               │            │                   │\n",
              "├─────────────────────┼───────────────────┼────────────┼───────────────────┤\n",
              "│ batch_normalizatio… │ (\u001b[38;5;45mNone\u001b[0m, \u001b[38;5;34m64\u001b[0m, \u001b[38;5;34m64\u001b[0m,    │        \u001b[38;5;34m128\u001b[0m │ conv2d_75[\u001b[38;5;34m0\u001b[0m][\u001b[38;5;34m0\u001b[0m]   │\n",
              "│ (\u001b[38;5;33mBatchNormalizatio…\u001b[0m │ \u001b[38;5;34m32\u001b[0m)               │            │                   │\n",
              "├─────────────────────┼───────────────────┼────────────┼───────────────────┤\n",
              "│ dropout_30          │ (\u001b[38;5;45mNone\u001b[0m, \u001b[38;5;34m64\u001b[0m, \u001b[38;5;34m64\u001b[0m,    │          \u001b[38;5;34m0\u001b[0m │ re_lu_102[\u001b[38;5;34m0\u001b[0m][\u001b[38;5;34m0\u001b[0m]   │\n",
              "│ (\u001b[38;5;33mDropout\u001b[0m)           │ \u001b[38;5;34m32\u001b[0m)               │            │                   │\n",
              "├─────────────────────┼───────────────────┼────────────┼───────────────────┤\n",
              "│ re_lu_103 (\u001b[38;5;33mReLU\u001b[0m)    │ (\u001b[38;5;45mNone\u001b[0m, \u001b[38;5;34m64\u001b[0m, \u001b[38;5;34m64\u001b[0m,    │          \u001b[38;5;34m0\u001b[0m │ batch_normalizat… │\n",
              "│                     │ \u001b[38;5;34m32\u001b[0m)               │            │                   │\n",
              "├─────────────────────┼───────────────────┼────────────┼───────────────────┤\n",
              "│ concatenate_34      │ (\u001b[38;5;45mNone\u001b[0m, \u001b[38;5;34m64\u001b[0m, \u001b[38;5;34m64\u001b[0m,    │          \u001b[38;5;34m0\u001b[0m │ dropout_30[\u001b[38;5;34m0\u001b[0m][\u001b[38;5;34m0\u001b[0m], │\n",
              "│ (\u001b[38;5;33mConcatenate\u001b[0m)       │ \u001b[38;5;34m64\u001b[0m)               │            │ re_lu_103[\u001b[38;5;34m0\u001b[0m][\u001b[38;5;34m0\u001b[0m]   │\n",
              "├─────────────────────┼───────────────────┼────────────┼───────────────────┤\n",
              "│ conv2d_76 (\u001b[38;5;33mConv2D\u001b[0m)  │ (\u001b[38;5;45mNone\u001b[0m, \u001b[38;5;34m64\u001b[0m, \u001b[38;5;34m64\u001b[0m,    │     \u001b[38;5;34m18,432\u001b[0m │ concatenate_34[\u001b[38;5;34m0\u001b[0m… │\n",
              "│                     │ \u001b[38;5;34m32\u001b[0m)               │            │                   │\n",
              "├─────────────────────┼───────────────────┼────────────┼───────────────────┤\n",
              "│ batch_normalizatio… │ (\u001b[38;5;45mNone\u001b[0m, \u001b[38;5;34m64\u001b[0m, \u001b[38;5;34m64\u001b[0m,    │        \u001b[38;5;34m128\u001b[0m │ conv2d_76[\u001b[38;5;34m0\u001b[0m][\u001b[38;5;34m0\u001b[0m]   │\n",
              "│ (\u001b[38;5;33mBatchNormalizatio…\u001b[0m │ \u001b[38;5;34m32\u001b[0m)               │            │                   │\n",
              "├─────────────────────┼───────────────────┼────────────┼───────────────────┤\n",
              "│ re_lu_104 (\u001b[38;5;33mReLU\u001b[0m)    │ (\u001b[38;5;45mNone\u001b[0m, \u001b[38;5;34m64\u001b[0m, \u001b[38;5;34m64\u001b[0m,    │          \u001b[38;5;34m0\u001b[0m │ batch_normalizat… │\n",
              "│                     │ \u001b[38;5;34m32\u001b[0m)               │            │                   │\n",
              "├─────────────────────┼───────────────────┼────────────┼───────────────────┤\n",
              "│ conv2d_77 (\u001b[38;5;33mConv2D\u001b[0m)  │ (\u001b[38;5;45mNone\u001b[0m, \u001b[38;5;34m64\u001b[0m, \u001b[38;5;34m64\u001b[0m,    │      \u001b[38;5;34m9,216\u001b[0m │ re_lu_104[\u001b[38;5;34m0\u001b[0m][\u001b[38;5;34m0\u001b[0m]   │\n",
              "│                     │ \u001b[38;5;34m32\u001b[0m)               │            │                   │\n",
              "├─────────────────────┼───────────────────┼────────────┼───────────────────┤\n",
              "│ batch_normalizatio… │ (\u001b[38;5;45mNone\u001b[0m, \u001b[38;5;34m64\u001b[0m, \u001b[38;5;34m64\u001b[0m,    │        \u001b[38;5;34m128\u001b[0m │ conv2d_77[\u001b[38;5;34m0\u001b[0m][\u001b[38;5;34m0\u001b[0m]   │\n",
              "│ (\u001b[38;5;33mBatchNormalizatio…\u001b[0m │ \u001b[38;5;34m32\u001b[0m)               │            │                   │\n",
              "├─────────────────────┼───────────────────┼────────────┼───────────────────┤\n",
              "│ re_lu_105 (\u001b[38;5;33mReLU\u001b[0m)    │ (\u001b[38;5;45mNone\u001b[0m, \u001b[38;5;34m64\u001b[0m, \u001b[38;5;34m64\u001b[0m,    │          \u001b[38;5;34m0\u001b[0m │ batch_normalizat… │\n",
              "│                     │ \u001b[38;5;34m32\u001b[0m)               │            │                   │\n",
              "├─────────────────────┼───────────────────┼────────────┼───────────────────┤\n",
              "│ dropout_31          │ (\u001b[38;5;45mNone\u001b[0m, \u001b[38;5;34m64\u001b[0m, \u001b[38;5;34m64\u001b[0m,    │          \u001b[38;5;34m0\u001b[0m │ re_lu_105[\u001b[38;5;34m0\u001b[0m][\u001b[38;5;34m0\u001b[0m]   │\n",
              "│ (\u001b[38;5;33mDropout\u001b[0m)           │ \u001b[38;5;34m32\u001b[0m)               │            │                   │\n",
              "├─────────────────────┼───────────────────┼────────────┼───────────────────┤\n",
              "│ conv2d_transpose_21 │ (\u001b[38;5;45mNone\u001b[0m, \u001b[38;5;34m128\u001b[0m, \u001b[38;5;34m128\u001b[0m,  │        \u001b[38;5;34m768\u001b[0m │ dropout_31[\u001b[38;5;34m0\u001b[0m][\u001b[38;5;34m0\u001b[0m]  │\n",
              "│ (\u001b[38;5;33mConv2DTranspose\u001b[0m)   │ \u001b[38;5;34m6\u001b[0m)                │            │                   │\n",
              "├─────────────────────┼───────────────────┼────────────┼───────────────────┤\n",
              "│ segmentation_output │ (\u001b[38;5;45mNone\u001b[0m, \u001b[38;5;34m128\u001b[0m, \u001b[38;5;34m128\u001b[0m,  │         \u001b[38;5;34m42\u001b[0m │ conv2d_transpose… │\n",
              "│ (\u001b[38;5;33mConv2D\u001b[0m)            │ \u001b[38;5;34m6\u001b[0m)                │            │                   │\n",
              "└─────────────────────┴───────────────────┴────────────┴───────────────────┘\n"
            ]
          },
          "metadata": {},
          "output_type": "display_data"
        },
        {
          "data": {
            "text/html": [
              "<pre style=\"white-space:pre;overflow-x:auto;line-height:normal;font-family:Menlo,'DejaVu Sans Mono',consolas,'Courier New',monospace\"><span style=\"font-weight: bold\"> Total params: </span><span style=\"color: #00af00; text-decoration-color: #00af00\">17,429,882</span> (66.49 MB)\n",
              "</pre>\n"
            ],
            "text/plain": [
              "\u001b[1m Total params: \u001b[0m\u001b[38;5;34m17,429,882\u001b[0m (66.49 MB)\n"
            ]
          },
          "metadata": {},
          "output_type": "display_data"
        },
        {
          "data": {
            "text/html": [
              "<pre style=\"white-space:pre;overflow-x:auto;line-height:normal;font-family:Menlo,'DejaVu Sans Mono',consolas,'Courier New',monospace\"><span style=\"font-weight: bold\"> Trainable params: </span><span style=\"color: #00af00; text-decoration-color: #00af00\">17,362,874</span> (66.23 MB)\n",
              "</pre>\n"
            ],
            "text/plain": [
              "\u001b[1m Trainable params: \u001b[0m\u001b[38;5;34m17,362,874\u001b[0m (66.23 MB)\n"
            ]
          },
          "metadata": {},
          "output_type": "display_data"
        },
        {
          "data": {
            "text/html": [
              "<pre style=\"white-space:pre;overflow-x:auto;line-height:normal;font-family:Menlo,'DejaVu Sans Mono',consolas,'Courier New',monospace\"><span style=\"font-weight: bold\"> Non-trainable params: </span><span style=\"color: #00af00; text-decoration-color: #00af00\">67,008</span> (261.75 KB)\n",
              "</pre>\n"
            ],
            "text/plain": [
              "\u001b[1m Non-trainable params: \u001b[0m\u001b[38;5;34m67,008\u001b[0m (261.75 KB)\n"
            ]
          },
          "metadata": {},
          "output_type": "display_data"
        },
        {
          "metadata": {
            "tags": null
          },
          "name": "stdout",
          "output_type": "stream",
          "text": [
            "Starting training for 100 epochs...\n",
            "Epoch 1/100\n",
            "\u001b[1m105/105\u001b[0m \u001b[32m━━━━━━━━━━━━━━━━━━━━\u001b[0m\u001b[37m\u001b[0m \u001b[1m0s\u001b[0m 182ms/step - accuracy: 0.1444 - dice_coefficient: 0.0894 - iou_metric: 0.0793 - loss: 2.2039\n",
            "Epoch 1: val_dice_coefficient improved from -inf to 0.08890, saving model to best_weed_model.h5\n"
          ]
        },
        {
          "metadata": {
            "tags": null
          },
          "name": "stderr",
          "output_type": "stream",
          "text": [
            "WARNING:absl:You are saving your model as an HDF5 file via `model.save()` or `keras.saving.save_model(model)`. This file format is considered legacy. We recommend using instead the native Keras format, e.g. `model.save('my_model.keras')` or `keras.saving.save_model(model, 'my_model.keras')`. \n"
          ]
        },
        {
          "metadata": {
            "tags": null
          },
          "name": "stdout",
          "output_type": "stream",
          "text": [
            "\u001b[1m105/105\u001b[0m \u001b[32m━━━━━━━━━━━━━━━━━━━━\u001b[0m\u001b[37m\u001b[0m \u001b[1m182s\u001b[0m 349ms/step - accuracy: 0.1448 - dice_coefficient: 0.0894 - iou_metric: 0.0795 - loss: 2.2036 - val_accuracy: 0.1808 - val_dice_coefficient: 0.0889 - val_iou_metric: 0.0992 - val_loss: 2.1570 - learning_rate: 1.0000e-04\n",
            "Epoch 2/100\n",
            "\u001b[1m105/105\u001b[0m \u001b[32m━━━━━━━━━━━━━━━━━━━━\u001b[0m\u001b[37m\u001b[0m \u001b[1m0s\u001b[0m 187ms/step - accuracy: 0.2947 - dice_coefficient: 0.1081 - iou_metric: 0.1764 - loss: 2.0177\n",
            "Epoch 2: val_dice_coefficient improved from 0.08890 to 0.10937, saving model to best_weed_model.h5\n"
          ]
        },
        {
          "metadata": {
            "tags": null
          },
          "name": "stderr",
          "output_type": "stream",
          "text": [
            "WARNING:absl:You are saving your model as an HDF5 file via `model.save()` or `keras.saving.save_model(model)`. This file format is considered legacy. We recommend using instead the native Keras format, e.g. `model.save('my_model.keras')` or `keras.saving.save_model(model, 'my_model.keras')`. \n"
          ]
        },
        {
          "metadata": {
            "tags": null
          },
          "name": "stdout",
          "output_type": "stream",
          "text": [
            "\u001b[1m105/105\u001b[0m \u001b[32m━━━━━━━━━━━━━━━━━━━━\u001b[0m\u001b[37m\u001b[0m \u001b[1m48s\u001b[0m 207ms/step - accuracy: 0.2950 - dice_coefficient: 0.1081 - iou_metric: 0.1766 - loss: 2.0173 - val_accuracy: 0.4702 - val_dice_coefficient: 0.1094 - val_iou_metric: 0.3095 - val_loss: 1.9149 - learning_rate: 1.0000e-04\n",
            "Epoch 3/100\n",
            "\u001b[1m105/105\u001b[0m \u001b[32m━━━━━━━━━━━━━━━━━━━━\u001b[0m\u001b[37m\u001b[0m \u001b[1m0s\u001b[0m 183ms/step - accuracy: 0.4217 - dice_coefficient: 0.1266 - iou_metric: 0.2745 - loss: 1.8597\n",
            "Epoch 3: val_dice_coefficient improved from 0.10937 to 0.13010, saving model to best_weed_model.h5\n"
          ]
        },
        {
          "metadata": {
            "tags": null
          },
          "name": "stderr",
          "output_type": "stream",
          "text": [
            "WARNING:absl:You are saving your model as an HDF5 file via `model.save()` or `keras.saving.save_model(model)`. This file format is considered legacy. We recommend using instead the native Keras format, e.g. `model.save('my_model.keras')` or `keras.saving.save_model(model, 'my_model.keras')`. \n"
          ]
        },
        {
          "metadata": {
            "tags": null
          },
          "name": "stdout",
          "output_type": "stream",
          "text": [
            "\u001b[1m105/105\u001b[0m \u001b[32m━━━━━━━━━━━━━━━━━━━━\u001b[0m\u001b[37m\u001b[0m \u001b[1m40s\u001b[0m 203ms/step - accuracy: 0.4219 - dice_coefficient: 0.1266 - iou_metric: 0.2747 - loss: 1.8595 - val_accuracy: 0.5843 - val_dice_coefficient: 0.1301 - val_iou_metric: 0.4153 - val_loss: 1.7687 - learning_rate: 1.0000e-04\n",
            "Epoch 4/100\n",
            "\u001b[1m105/105\u001b[0m \u001b[32m━━━━━━━━━━━━━━━━━━━━\u001b[0m\u001b[37m\u001b[0m \u001b[1m0s\u001b[0m 187ms/step - accuracy: 0.5305 - dice_coefficient: 0.1393 - iou_metric: 0.3717 - loss: 1.7579\n",
            "Epoch 4: val_dice_coefficient improved from 0.13010 to 0.15015, saving model to best_weed_model.h5\n"
          ]
        },
        {
          "metadata": {
            "tags": null
          },
          "name": "stderr",
          "output_type": "stream",
          "text": [
            "WARNING:absl:You are saving your model as an HDF5 file via `model.save()` or `keras.saving.save_model(model)`. This file format is considered legacy. We recommend using instead the native Keras format, e.g. `model.save('my_model.keras')` or `keras.saving.save_model(model, 'my_model.keras')`. \n"
          ]
        },
        {
          "metadata": {
            "tags": null
          },
          "name": "stdout",
          "output_type": "stream",
          "text": [
            "\u001b[1m105/105\u001b[0m \u001b[32m━━━━━━━━━━━━━━━━━━━━\u001b[0m\u001b[37m\u001b[0m \u001b[1m41s\u001b[0m 206ms/step - accuracy: 0.5308 - dice_coefficient: 0.1393 - iou_metric: 0.3721 - loss: 1.7578 - val_accuracy: 0.7380 - val_dice_coefficient: 0.1502 - val_iou_metric: 0.5857 - val_loss: 1.6490 - learning_rate: 1.0000e-04\n",
            "Epoch 5/100\n",
            "\u001b[1m105/105\u001b[0m \u001b[32m━━━━━━━━━━━━━━━━━━━━\u001b[0m\u001b[37m\u001b[0m \u001b[1m0s\u001b[0m 184ms/step - accuracy: 0.6348 - dice_coefficient: 0.1530 - iou_metric: 0.4790 - loss: 1.6997\n",
            "Epoch 5: val_dice_coefficient improved from 0.15015 to 0.16417, saving model to best_weed_model.h5\n"
          ]
        },
        {
          "metadata": {
            "tags": null
          },
          "name": "stderr",
          "output_type": "stream",
          "text": [
            "WARNING:absl:You are saving your model as an HDF5 file via `model.save()` or `keras.saving.save_model(model)`. This file format is considered legacy. We recommend using instead the native Keras format, e.g. `model.save('my_model.keras')` or `keras.saving.save_model(model, 'my_model.keras')`. \n"
          ]
        },
        {
          "metadata": {
            "tags": null
          },
          "name": "stdout",
          "output_type": "stream",
          "text": [
            "\u001b[1m105/105\u001b[0m \u001b[32m━━━━━━━━━━━━━━━━━━━━\u001b[0m\u001b[37m\u001b[0m \u001b[1m22s\u001b[0m 204ms/step - accuracy: 0.6350 - dice_coefficient: 0.1530 - iou_metric: 0.4792 - loss: 1.6996 - val_accuracy: 0.7692 - val_dice_coefficient: 0.1642 - val_iou_metric: 0.6282 - val_loss: 1.5876 - learning_rate: 1.0000e-04\n",
            "Epoch 6/100\n",
            "\u001b[1m105/105\u001b[0m \u001b[32m━━━━━━━━━━━━━━━━━━━━\u001b[0m\u001b[37m\u001b[0m \u001b[1m0s\u001b[0m 180ms/step - accuracy: 0.7235 - dice_coefficient: 0.1689 - iou_metric: 0.5845 - loss: 1.6192\n",
            "Epoch 6: val_dice_coefficient improved from 0.16417 to 0.18562, saving model to best_weed_model.h5\n"
          ]
        },
        {
          "metadata": {
            "tags": null
          },
          "name": "stderr",
          "output_type": "stream",
          "text": [
            "WARNING:absl:You are saving your model as an HDF5 file via `model.save()` or `keras.saving.save_model(model)`. This file format is considered legacy. We recommend using instead the native Keras format, e.g. `model.save('my_model.keras')` or `keras.saving.save_model(model, 'my_model.keras')`. \n"
          ]
        },
        {
          "metadata": {
            "tags": null
          },
          "name": "stdout",
          "output_type": "stream",
          "text": [
            "\u001b[1m105/105\u001b[0m \u001b[32m━━━━━━━━━━━━━━━━━━━━\u001b[0m\u001b[37m\u001b[0m \u001b[1m22s\u001b[0m 203ms/step - accuracy: 0.7236 - dice_coefficient: 0.1690 - iou_metric: 0.5847 - loss: 1.6191 - val_accuracy: 0.8289 - val_dice_coefficient: 0.1856 - val_iou_metric: 0.7110 - val_loss: 1.4961 - learning_rate: 1.0000e-04\n",
            "Epoch 7/100\n",
            "\u001b[1m105/105\u001b[0m \u001b[32m━━━━━━━━━━━━━━━━━━━━\u001b[0m\u001b[37m\u001b[0m \u001b[1m0s\u001b[0m 183ms/step - accuracy: 0.7881 - dice_coefficient: 0.1827 - iou_metric: 0.6683 - loss: 1.5579\n",
            "Epoch 7: val_dice_coefficient improved from 0.18562 to 0.20415, saving model to best_weed_model.h5\n"
          ]
        },
        {
          "metadata": {
            "tags": null
          },
          "name": "stderr",
          "output_type": "stream",
          "text": [
            "WARNING:absl:You are saving your model as an HDF5 file via `model.save()` or `keras.saving.save_model(model)`. This file format is considered legacy. We recommend using instead the native Keras format, e.g. `model.save('my_model.keras')` or `keras.saving.save_model(model, 'my_model.keras')`. \n"
          ]
        },
        {
          "metadata": {
            "tags": null
          },
          "name": "stdout",
          "output_type": "stream",
          "text": [
            "\u001b[1m105/105\u001b[0m \u001b[32m━━━━━━━━━━━━━━━━━━━━\u001b[0m\u001b[37m\u001b[0m \u001b[1m41s\u001b[0m 204ms/step - accuracy: 0.7881 - dice_coefficient: 0.1827 - iou_metric: 0.6683 - loss: 1.5578 - val_accuracy: 0.8604 - val_dice_coefficient: 0.2041 - val_iou_metric: 0.7580 - val_loss: 1.4209 - learning_rate: 1.0000e-04\n",
            "Epoch 8/100\n",
            "\u001b[1m105/105\u001b[0m \u001b[32m━━━━━━━━━━━━━━━━━━━━\u001b[0m\u001b[37m\u001b[0m \u001b[1m0s\u001b[0m 187ms/step - accuracy: 0.8141 - dice_coefficient: 0.2023 - iou_metric: 0.7085 - loss: 1.4919\n",
            "Epoch 8: val_dice_coefficient improved from 0.20415 to 0.21139, saving model to best_weed_model.h5\n"
          ]
        },
        {
          "metadata": {
            "tags": null
          },
          "name": "stderr",
          "output_type": "stream",
          "text": [
            "WARNING:absl:You are saving your model as an HDF5 file via `model.save()` or `keras.saving.save_model(model)`. This file format is considered legacy. We recommend using instead the native Keras format, e.g. `model.save('my_model.keras')` or `keras.saving.save_model(model, 'my_model.keras')`. \n"
          ]
        },
        {
          "metadata": {
            "tags": null
          },
          "name": "stdout",
          "output_type": "stream",
          "text": [
            "\u001b[1m105/105\u001b[0m \u001b[32m━━━━━━━━━━━━━━━━━━━━\u001b[0m\u001b[37m\u001b[0m \u001b[1m23s\u001b[0m 207ms/step - accuracy: 0.8142 - dice_coefficient: 0.2023 - iou_metric: 0.7085 - loss: 1.4917 - val_accuracy: 0.8165 - val_dice_coefficient: 0.2114 - val_iou_metric: 0.6966 - val_loss: 1.4085 - learning_rate: 1.0000e-04\n",
            "Epoch 9/100\n",
            "\u001b[1m105/105\u001b[0m \u001b[32m━━━━━━━━━━━━━━━━━━━━\u001b[0m\u001b[37m\u001b[0m \u001b[1m0s\u001b[0m 181ms/step - accuracy: 0.8318 - dice_coefficient: 0.2264 - iou_metric: 0.7334 - loss: 1.4149\n",
            "Epoch 9: val_dice_coefficient improved from 0.21139 to 0.24108, saving model to best_weed_model.h5\n"
          ]
        },
        {
          "metadata": {
            "tags": null
          },
          "name": "stderr",
          "output_type": "stream",
          "text": [
            "WARNING:absl:You are saving your model as an HDF5 file via `model.save()` or `keras.saving.save_model(model)`. This file format is considered legacy. We recommend using instead the native Keras format, e.g. `model.save('my_model.keras')` or `keras.saving.save_model(model, 'my_model.keras')`. \n"
          ]
        },
        {
          "metadata": {
            "tags": null
          },
          "name": "stdout",
          "output_type": "stream",
          "text": [
            "\u001b[1m105/105\u001b[0m \u001b[32m━━━━━━━━━━━━━━━━━━━━\u001b[0m\u001b[37m\u001b[0m \u001b[1m41s\u001b[0m 200ms/step - accuracy: 0.8319 - dice_coefficient: 0.2264 - iou_metric: 0.7335 - loss: 1.4148 - val_accuracy: 0.8574 - val_dice_coefficient: 0.2411 - val_iou_metric: 0.7597 - val_loss: 1.3184 - learning_rate: 1.0000e-04\n",
            "Epoch 10/100\n",
            "\u001b[1m105/105\u001b[0m \u001b[32m━━━━━━━━━━━━━━━━━━━━\u001b[0m\u001b[37m\u001b[0m \u001b[1m0s\u001b[0m 184ms/step - accuracy: 0.8485 - dice_coefficient: 0.2478 - iou_metric: 0.7569 - loss: 1.3625\n",
            "Epoch 10: val_dice_coefficient improved from 0.24108 to 0.26461, saving model to best_weed_model.h5\n"
          ]
        },
        {
          "metadata": {
            "tags": null
          },
          "name": "stderr",
          "output_type": "stream",
          "text": [
            "WARNING:absl:You are saving your model as an HDF5 file via `model.save()` or `keras.saving.save_model(model)`. This file format is considered legacy. We recommend using instead the native Keras format, e.g. `model.save('my_model.keras')` or `keras.saving.save_model(model, 'my_model.keras')`. \n"
          ]
        },
        {
          "metadata": {
            "tags": null
          },
          "name": "stdout",
          "output_type": "stream",
          "text": [
            "\u001b[1m105/105\u001b[0m \u001b[32m━━━━━━━━━━━━━━━━━━━━\u001b[0m\u001b[37m\u001b[0m \u001b[1m41s\u001b[0m 208ms/step - accuracy: 0.8485 - dice_coefficient: 0.2479 - iou_metric: 0.7569 - loss: 1.3623 - val_accuracy: 0.8767 - val_dice_coefficient: 0.2646 - val_iou_metric: 0.7859 - val_loss: 1.2521 - learning_rate: 1.0000e-04\n",
            "Epoch 11/100\n",
            "\u001b[1m105/105\u001b[0m \u001b[32m━━━━━━━━━━━━━━━━━━━━\u001b[0m\u001b[37m\u001b[0m \u001b[1m0s\u001b[0m 182ms/step - accuracy: 0.8634 - dice_coefficient: 0.2756 - iou_metric: 0.7774 - loss: 1.3040\n",
            "Epoch 11: val_dice_coefficient improved from 0.26461 to 0.29404, saving model to best_weed_model.h5\n"
          ]
        },
        {
          "metadata": {
            "tags": null
          },
          "name": "stderr",
          "output_type": "stream",
          "text": [
            "WARNING:absl:You are saving your model as an HDF5 file via `model.save()` or `keras.saving.save_model(model)`. This file format is considered legacy. We recommend using instead the native Keras format, e.g. `model.save('my_model.keras')` or `keras.saving.save_model(model, 'my_model.keras')`. \n"
          ]
        },
        {
          "metadata": {
            "tags": null
          },
          "name": "stdout",
          "output_type": "stream",
          "text": [
            "\u001b[1m105/105\u001b[0m \u001b[32m━━━━━━━━━━━━━━━━━━━━\u001b[0m\u001b[37m\u001b[0m \u001b[1m22s\u001b[0m 204ms/step - accuracy: 0.8634 - dice_coefficient: 0.2757 - iou_metric: 0.7774 - loss: 1.3038 - val_accuracy: 0.8864 - val_dice_coefficient: 0.2940 - val_iou_metric: 0.8011 - val_loss: 1.1968 - learning_rate: 1.0000e-04\n",
            "Epoch 12/100\n",
            "\u001b[1m105/105\u001b[0m \u001b[32m━━━━━━━━━━━━━━━━━━━━\u001b[0m\u001b[37m\u001b[0m \u001b[1m0s\u001b[0m 183ms/step - accuracy: 0.8836 - dice_coefficient: 0.3069 - iou_metric: 0.8039 - loss: 1.2235\n",
            "Epoch 12: val_dice_coefficient improved from 0.29404 to 0.33728, saving model to best_weed_model.h5\n"
          ]
        },
        {
          "metadata": {
            "tags": null
          },
          "name": "stderr",
          "output_type": "stream",
          "text": [
            "WARNING:absl:You are saving your model as an HDF5 file via `model.save()` or `keras.saving.save_model(model)`. This file format is considered legacy. We recommend using instead the native Keras format, e.g. `model.save('my_model.keras')` or `keras.saving.save_model(model, 'my_model.keras')`. \n"
          ]
        },
        {
          "metadata": {
            "tags": null
          },
          "name": "stdout",
          "output_type": "stream",
          "text": [
            "\u001b[1m105/105\u001b[0m \u001b[32m━━━━━━━━━━━━━━━━━━━━\u001b[0m\u001b[37m\u001b[0m \u001b[1m41s\u001b[0m 204ms/step - accuracy: 0.8837 - dice_coefficient: 0.3070 - iou_metric: 0.8039 - loss: 1.2233 - val_accuracy: 0.9015 - val_dice_coefficient: 0.3373 - val_iou_metric: 0.8251 - val_loss: 1.1166 - learning_rate: 1.0000e-04\n",
            "Epoch 13/100\n",
            "\u001b[1m105/105\u001b[0m \u001b[32m━━━━━━━━━━━━━━━━━━━━\u001b[0m\u001b[37m\u001b[0m \u001b[1m0s\u001b[0m 185ms/step - accuracy: 0.8945 - dice_coefficient: 0.3509 - iou_metric: 0.8197 - loss: 1.1472\n",
            "Epoch 13: val_dice_coefficient improved from 0.33728 to 0.37677, saving model to best_weed_model.h5\n"
          ]
        },
        {
          "metadata": {
            "tags": null
          },
          "name": "stderr",
          "output_type": "stream",
          "text": [
            "WARNING:absl:You are saving your model as an HDF5 file via `model.save()` or `keras.saving.save_model(model)`. This file format is considered legacy. We recommend using instead the native Keras format, e.g. `model.save('my_model.keras')` or `keras.saving.save_model(model, 'my_model.keras')`. \n"
          ]
        },
        {
          "metadata": {
            "tags": null
          },
          "name": "stdout",
          "output_type": "stream",
          "text": [
            "\u001b[1m105/105\u001b[0m \u001b[32m━━━━━━━━━━━━━━━━━━━━\u001b[0m\u001b[37m\u001b[0m \u001b[1m41s\u001b[0m 205ms/step - accuracy: 0.8945 - dice_coefficient: 0.3509 - iou_metric: 0.8197 - loss: 1.1472 - val_accuracy: 0.9134 - val_dice_coefficient: 0.3768 - val_iou_metric: 0.8427 - val_loss: 1.0425 - learning_rate: 1.0000e-04\n",
            "Epoch 14/100\n",
            "\u001b[1m105/105\u001b[0m \u001b[32m━━━━━━━━━━━━━━━━━━━━\u001b[0m\u001b[37m\u001b[0m \u001b[1m0s\u001b[0m 183ms/step - accuracy: 0.9030 - dice_coefficient: 0.3788 - iou_metric: 0.8337 - loss: 1.0936\n",
            "Epoch 14: val_dice_coefficient improved from 0.37677 to 0.40543, saving model to best_weed_model.h5\n"
          ]
        },
        {
          "metadata": {
            "tags": null
          },
          "name": "stderr",
          "output_type": "stream",
          "text": [
            "WARNING:absl:You are saving your model as an HDF5 file via `model.save()` or `keras.saving.save_model(model)`. This file format is considered legacy. We recommend using instead the native Keras format, e.g. `model.save('my_model.keras')` or `keras.saving.save_model(model, 'my_model.keras')`. \n"
          ]
        },
        {
          "metadata": {
            "tags": null
          },
          "name": "stdout",
          "output_type": "stream",
          "text": [
            "\u001b[1m105/105\u001b[0m \u001b[32m━━━━━━━━━━━━━━━━━━━━\u001b[0m\u001b[37m\u001b[0m \u001b[1m23s\u001b[0m 204ms/step - accuracy: 0.9030 - dice_coefficient: 0.3789 - iou_metric: 0.8337 - loss: 1.0935 - val_accuracy: 0.9049 - val_dice_coefficient: 0.4054 - val_iou_metric: 0.8307 - val_loss: 0.9947 - learning_rate: 1.0000e-04\n",
            "Epoch 15/100\n",
            "\u001b[1m105/105\u001b[0m \u001b[32m━━━━━━━━━━━━━━━━━━━━\u001b[0m\u001b[37m\u001b[0m \u001b[1m0s\u001b[0m 181ms/step - accuracy: 0.9103 - dice_coefficient: 0.4130 - iou_metric: 0.8452 - loss: 1.0419\n",
            "Epoch 15: val_dice_coefficient improved from 0.40543 to 0.44221, saving model to best_weed_model.h5\n"
          ]
        },
        {
          "metadata": {
            "tags": null
          },
          "name": "stderr",
          "output_type": "stream",
          "text": [
            "WARNING:absl:You are saving your model as an HDF5 file via `model.save()` or `keras.saving.save_model(model)`. This file format is considered legacy. We recommend using instead the native Keras format, e.g. `model.save('my_model.keras')` or `keras.saving.save_model(model, 'my_model.keras')`. \n"
          ]
        },
        {
          "metadata": {
            "tags": null
          },
          "name": "stdout",
          "output_type": "stream",
          "text": [
            "\u001b[1m105/105\u001b[0m \u001b[32m━━━━━━━━━━━━━━━━━━━━\u001b[0m\u001b[37m\u001b[0m \u001b[1m40s\u001b[0m 202ms/step - accuracy: 0.9104 - dice_coefficient: 0.4131 - iou_metric: 0.8452 - loss: 1.0417 - val_accuracy: 0.9287 - val_dice_coefficient: 0.4422 - val_iou_metric: 0.8699 - val_loss: 0.9307 - learning_rate: 1.0000e-04\n",
            "Epoch 16/100\n",
            "\u001b[1m105/105\u001b[0m \u001b[32m━━━━━━━━━━━━━━━━━━━━\u001b[0m\u001b[37m\u001b[0m \u001b[1m0s\u001b[0m 184ms/step - accuracy: 0.9198 - dice_coefficient: 0.4452 - iou_metric: 0.8591 - loss: 0.9889\n",
            "Epoch 16: val_dice_coefficient improved from 0.44221 to 0.45945, saving model to best_weed_model.h5\n"
          ]
        },
        {
          "metadata": {
            "tags": null
          },
          "name": "stderr",
          "output_type": "stream",
          "text": [
            "WARNING:absl:You are saving your model as an HDF5 file via `model.save()` or `keras.saving.save_model(model)`. This file format is considered legacy. We recommend using instead the native Keras format, e.g. `model.save('my_model.keras')` or `keras.saving.save_model(model, 'my_model.keras')`. \n"
          ]
        },
        {
          "metadata": {
            "tags": null
          },
          "name": "stdout",
          "output_type": "stream",
          "text": [
            "\u001b[1m105/105\u001b[0m \u001b[32m━━━━━━━━━━━━━━━━━━━━\u001b[0m\u001b[37m\u001b[0m \u001b[1m23s\u001b[0m 207ms/step - accuracy: 0.9198 - dice_coefficient: 0.4452 - iou_metric: 0.8591 - loss: 0.9888 - val_accuracy: 0.9326 - val_dice_coefficient: 0.4595 - val_iou_metric: 0.8755 - val_loss: 0.9017 - learning_rate: 1.0000e-04\n",
            "Epoch 17/100\n",
            "\u001b[1m105/105\u001b[0m \u001b[32m━━━━━━━━━━━━━━━━━━━━\u001b[0m\u001b[37m\u001b[0m \u001b[1m0s\u001b[0m 182ms/step - accuracy: 0.9225 - dice_coefficient: 0.4715 - iou_metric: 0.8635 - loss: 0.9611\n",
            "Epoch 17: val_dice_coefficient improved from 0.45945 to 0.47524, saving model to best_weed_model.h5\n"
          ]
        },
        {
          "metadata": {
            "tags": null
          },
          "name": "stderr",
          "output_type": "stream",
          "text": [
            "WARNING:absl:You are saving your model as an HDF5 file via `model.save()` or `keras.saving.save_model(model)`. This file format is considered legacy. We recommend using instead the native Keras format, e.g. `model.save('my_model.keras')` or `keras.saving.save_model(model, 'my_model.keras')`. \n"
          ]
        },
        {
          "metadata": {
            "tags": null
          },
          "name": "stdout",
          "output_type": "stream",
          "text": [
            "\u001b[1m105/105\u001b[0m \u001b[32m━━━━━━━━━━━━━━━━━━━━\u001b[0m\u001b[37m\u001b[0m \u001b[1m40s\u001b[0m 202ms/step - accuracy: 0.9225 - dice_coefficient: 0.4715 - iou_metric: 0.8636 - loss: 0.9610 - val_accuracy: 0.9208 - val_dice_coefficient: 0.4752 - val_iou_metric: 0.8549 - val_loss: 0.8887 - learning_rate: 1.0000e-04\n",
            "Epoch 18/100\n",
            "\u001b[1m105/105\u001b[0m \u001b[32m━━━━━━━━━━━━━━━━━━━━\u001b[0m\u001b[37m\u001b[0m \u001b[1m0s\u001b[0m 182ms/step - accuracy: 0.9242 - dice_coefficient: 0.4927 - iou_metric: 0.8670 - loss: 0.9227\n",
            "Epoch 18: val_dice_coefficient improved from 0.47524 to 0.50173, saving model to best_weed_model.h5\n"
          ]
        },
        {
          "metadata": {
            "tags": null
          },
          "name": "stderr",
          "output_type": "stream",
          "text": [
            "WARNING:absl:You are saving your model as an HDF5 file via `model.save()` or `keras.saving.save_model(model)`. This file format is considered legacy. We recommend using instead the native Keras format, e.g. `model.save('my_model.keras')` or `keras.saving.save_model(model, 'my_model.keras')`. \n"
          ]
        },
        {
          "metadata": {
            "tags": null
          },
          "name": "stdout",
          "output_type": "stream",
          "text": [
            "\u001b[1m105/105\u001b[0m \u001b[32m━━━━━━━━━━━━━━━━━━━━\u001b[0m\u001b[37m\u001b[0m \u001b[1m41s\u001b[0m 201ms/step - accuracy: 0.9242 - dice_coefficient: 0.4928 - iou_metric: 0.8670 - loss: 0.9226 - val_accuracy: 0.9466 - val_dice_coefficient: 0.5017 - val_iou_metric: 0.9000 - val_loss: 0.8669 - learning_rate: 1.0000e-04\n",
            "Epoch 19/100\n",
            "\u001b[1m105/105\u001b[0m \u001b[32m━━━━━━━━━━━━━━━━━━━━\u001b[0m\u001b[37m\u001b[0m \u001b[1m0s\u001b[0m 182ms/step - accuracy: 0.9229 - dice_coefficient: 0.5019 - iou_metric: 0.8656 - loss: 0.9127\n",
            "Epoch 19: val_dice_coefficient improved from 0.50173 to 0.51833, saving model to best_weed_model.h5\n"
          ]
        },
        {
          "metadata": {
            "tags": null
          },
          "name": "stderr",
          "output_type": "stream",
          "text": [
            "WARNING:absl:You are saving your model as an HDF5 file via `model.save()` or `keras.saving.save_model(model)`. This file format is considered legacy. We recommend using instead the native Keras format, e.g. `model.save('my_model.keras')` or `keras.saving.save_model(model, 'my_model.keras')`. \n"
          ]
        },
        {
          "metadata": {
            "tags": null
          },
          "name": "stdout",
          "output_type": "stream",
          "text": [
            "\u001b[1m105/105\u001b[0m \u001b[32m━━━━━━━━━━━━━━━━━━━━\u001b[0m\u001b[37m\u001b[0m \u001b[1m42s\u001b[0m 212ms/step - accuracy: 0.9229 - dice_coefficient: 0.5020 - iou_metric: 0.8657 - loss: 0.9126 - val_accuracy: 0.9402 - val_dice_coefficient: 0.5183 - val_iou_metric: 0.8893 - val_loss: 0.8165 - learning_rate: 1.0000e-04\n",
            "Epoch 20/100\n",
            "\u001b[1m105/105\u001b[0m \u001b[32m━━━━━━━━━━━━━━━━━━━━\u001b[0m\u001b[37m\u001b[0m \u001b[1m0s\u001b[0m 184ms/step - accuracy: 0.9278 - dice_coefficient: 0.5202 - iou_metric: 0.8719 - loss: 0.8781\n",
            "Epoch 20: val_dice_coefficient improved from 0.51833 to 0.52085, saving model to best_weed_model.h5\n"
          ]
        },
        {
          "metadata": {
            "tags": null
          },
          "name": "stderr",
          "output_type": "stream",
          "text": [
            "WARNING:absl:You are saving your model as an HDF5 file via `model.save()` or `keras.saving.save_model(model)`. This file format is considered legacy. We recommend using instead the native Keras format, e.g. `model.save('my_model.keras')` or `keras.saving.save_model(model, 'my_model.keras')`. \n"
          ]
        },
        {
          "metadata": {
            "tags": null
          },
          "name": "stdout",
          "output_type": "stream",
          "text": [
            "\u001b[1m105/105\u001b[0m \u001b[32m━━━━━━━━━━━━━━━━━━━━\u001b[0m\u001b[37m\u001b[0m \u001b[1m22s\u001b[0m 205ms/step - accuracy: 0.9278 - dice_coefficient: 0.5202 - iou_metric: 0.8719 - loss: 0.8780 - val_accuracy: 0.9348 - val_dice_coefficient: 0.5209 - val_iou_metric: 0.8801 - val_loss: 0.8136 - learning_rate: 1.0000e-04\n",
            "Epoch 21/100\n",
            "\u001b[1m105/105\u001b[0m \u001b[32m━━━━━━━━━━━━━━━━━━━━\u001b[0m\u001b[37m\u001b[0m \u001b[1m0s\u001b[0m 184ms/step - accuracy: 0.9279 - dice_coefficient: 0.5313 - iou_metric: 0.8729 - loss: 0.8595\n",
            "Epoch 21: val_dice_coefficient improved from 0.52085 to 0.52567, saving model to best_weed_model.h5\n"
          ]
        },
        {
          "metadata": {
            "tags": null
          },
          "name": "stderr",
          "output_type": "stream",
          "text": [
            "WARNING:absl:You are saving your model as an HDF5 file via `model.save()` or `keras.saving.save_model(model)`. This file format is considered legacy. We recommend using instead the native Keras format, e.g. `model.save('my_model.keras')` or `keras.saving.save_model(model, 'my_model.keras')`. \n"
          ]
        },
        {
          "metadata": {
            "tags": null
          },
          "name": "stdout",
          "output_type": "stream",
          "text": [
            "\u001b[1m105/105\u001b[0m \u001b[32m━━━━━━━━━━━━━━━━━━━━\u001b[0m\u001b[37m\u001b[0m \u001b[1m41s\u001b[0m 204ms/step - accuracy: 0.9280 - dice_coefficient: 0.5313 - iou_metric: 0.8729 - loss: 0.8595 - val_accuracy: 0.9367 - val_dice_coefficient: 0.5257 - val_iou_metric: 0.8831 - val_loss: 0.8054 - learning_rate: 1.0000e-04\n",
            "Epoch 22/100\n",
            "\u001b[1m105/105\u001b[0m \u001b[32m━━━━━━━━━━━━━━━━━━━━\u001b[0m\u001b[37m\u001b[0m \u001b[1m0s\u001b[0m 187ms/step - accuracy: 0.9305 - dice_coefficient: 0.5426 - iou_metric: 0.8768 - loss: 0.8611\n",
            "Epoch 22: val_dice_coefficient improved from 0.52567 to 0.54547, saving model to best_weed_model.h5\n"
          ]
        },
        {
          "metadata": {
            "tags": null
          },
          "name": "stderr",
          "output_type": "stream",
          "text": [
            "WARNING:absl:You are saving your model as an HDF5 file via `model.save()` or `keras.saving.save_model(model)`. This file format is considered legacy. We recommend using instead the native Keras format, e.g. `model.save('my_model.keras')` or `keras.saving.save_model(model, 'my_model.keras')`. \n"
          ]
        },
        {
          "metadata": {
            "tags": null
          },
          "name": "stdout",
          "output_type": "stream",
          "text": [
            "\u001b[1m105/105\u001b[0m \u001b[32m━━━━━━━━━━━━━━━━━━━━\u001b[0m\u001b[37m\u001b[0m \u001b[1m42s\u001b[0m 211ms/step - accuracy: 0.9305 - dice_coefficient: 0.5426 - iou_metric: 0.8768 - loss: 0.8610 - val_accuracy: 0.9412 - val_dice_coefficient: 0.5455 - val_iou_metric: 0.8895 - val_loss: 0.7840 - learning_rate: 1.0000e-04\n",
            "Epoch 23/100\n",
            "\u001b[1m105/105\u001b[0m \u001b[32m━━━━━━━━━━━━━━━━━━━━\u001b[0m\u001b[37m\u001b[0m \u001b[1m0s\u001b[0m 186ms/step - accuracy: 0.9337 - dice_coefficient: 0.5635 - iou_metric: 0.8809 - loss: 0.8187\n",
            "Epoch 23: val_dice_coefficient improved from 0.54547 to 0.54563, saving model to best_weed_model.h5\n"
          ]
        },
        {
          "metadata": {
            "tags": null
          },
          "name": "stderr",
          "output_type": "stream",
          "text": [
            "WARNING:absl:You are saving your model as an HDF5 file via `model.save()` or `keras.saving.save_model(model)`. This file format is considered legacy. We recommend using instead the native Keras format, e.g. `model.save('my_model.keras')` or `keras.saving.save_model(model, 'my_model.keras')`. \n"
          ]
        },
        {
          "metadata": {
            "tags": null
          },
          "name": "stdout",
          "output_type": "stream",
          "text": [
            "\u001b[1m105/105\u001b[0m \u001b[32m━━━━━━━━━━━━━━━━━━━━\u001b[0m\u001b[37m\u001b[0m \u001b[1m41s\u001b[0m 207ms/step - accuracy: 0.9338 - dice_coefficient: 0.5635 - iou_metric: 0.8809 - loss: 0.8186 - val_accuracy: 0.9351 - val_dice_coefficient: 0.5456 - val_iou_metric: 0.8794 - val_loss: 0.7855 - learning_rate: 1.0000e-04\n",
            "Epoch 24/100\n",
            "\u001b[1m105/105\u001b[0m \u001b[32m━━━━━━━━━━━━━━━━━━━━\u001b[0m\u001b[37m\u001b[0m \u001b[1m0s\u001b[0m 184ms/step - accuracy: 0.9383 - dice_coefficient: 0.5725 - iou_metric: 0.8885 - loss: 0.7857\n",
            "Epoch 24: val_dice_coefficient improved from 0.54563 to 0.55924, saving model to best_weed_model.h5\n"
          ]
        },
        {
          "metadata": {
            "tags": null
          },
          "name": "stderr",
          "output_type": "stream",
          "text": [
            "WARNING:absl:You are saving your model as an HDF5 file via `model.save()` or `keras.saving.save_model(model)`. This file format is considered legacy. We recommend using instead the native Keras format, e.g. `model.save('my_model.keras')` or `keras.saving.save_model(model, 'my_model.keras')`. \n"
          ]
        },
        {
          "metadata": {
            "tags": null
          },
          "name": "stdout",
          "output_type": "stream",
          "text": [
            "\u001b[1m105/105\u001b[0m \u001b[32m━━━━━━━━━━━━━━━━━━━━\u001b[0m\u001b[37m\u001b[0m \u001b[1m41s\u001b[0m 206ms/step - accuracy: 0.9383 - dice_coefficient: 0.5725 - iou_metric: 0.8885 - loss: 0.7857 - val_accuracy: 0.9453 - val_dice_coefficient: 0.5592 - val_iou_metric: 0.8974 - val_loss: 0.7676 - learning_rate: 1.0000e-04\n",
            "Epoch 25/100\n",
            "\u001b[1m105/105\u001b[0m \u001b[32m━━━━━━━━━━━━━━━━━━━━\u001b[0m\u001b[37m\u001b[0m \u001b[1m0s\u001b[0m 185ms/step - accuracy: 0.9338 - dice_coefficient: 0.5756 - iou_metric: 0.8812 - loss: 0.7872\n",
            "Epoch 25: val_dice_coefficient did not improve from 0.55924\n",
            "\u001b[1m105/105\u001b[0m \u001b[32m━━━━━━━━━━━━━━━━━━━━\u001b[0m\u001b[37m\u001b[0m \u001b[1m39s\u001b[0m 190ms/step - accuracy: 0.9339 - dice_coefficient: 0.5755 - iou_metric: 0.8812 - loss: 0.7873 - val_accuracy: 0.9476 - val_dice_coefficient: 0.5588 - val_iou_metric: 0.9011 - val_loss: 0.7588 - learning_rate: 1.0000e-04\n",
            "Epoch 26/100\n",
            "\u001b[1m105/105\u001b[0m \u001b[32m━━━━━━━━━━━━━━━━━━━━\u001b[0m\u001b[37m\u001b[0m \u001b[1m0s\u001b[0m 181ms/step - accuracy: 0.9388 - dice_coefficient: 0.5792 - iou_metric: 0.8895 - loss: 0.7731\n",
            "Epoch 26: val_dice_coefficient did not improve from 0.55924\n",
            "\u001b[1m105/105\u001b[0m \u001b[32m━━━━━━━━━━━━━━━━━━━━\u001b[0m\u001b[37m\u001b[0m \u001b[1m41s\u001b[0m 186ms/step - accuracy: 0.9388 - dice_coefficient: 0.5793 - iou_metric: 0.8895 - loss: 0.7731 - val_accuracy: 0.9386 - val_dice_coefficient: 0.5590 - val_iou_metric: 0.8869 - val_loss: 0.7565 - learning_rate: 1.0000e-04\n",
            "Epoch 27/100\n",
            "\u001b[1m105/105\u001b[0m \u001b[32m━━━━━━━━━━━━━━━━━━━━\u001b[0m\u001b[37m\u001b[0m \u001b[1m0s\u001b[0m 186ms/step - accuracy: 0.9401 - dice_coefficient: 0.5871 - iou_metric: 0.8913 - loss: 0.7667\n",
            "Epoch 27: val_dice_coefficient improved from 0.55924 to 0.57123, saving model to best_weed_model.h5\n"
          ]
        },
        {
          "metadata": {
            "tags": null
          },
          "name": "stderr",
          "output_type": "stream",
          "text": [
            "WARNING:absl:You are saving your model as an HDF5 file via `model.save()` or `keras.saving.save_model(model)`. This file format is considered legacy. We recommend using instead the native Keras format, e.g. `model.save('my_model.keras')` or `keras.saving.save_model(model, 'my_model.keras')`. \n"
          ]
        },
        {
          "metadata": {
            "tags": null
          },
          "name": "stdout",
          "output_type": "stream",
          "text": [
            "\u001b[1m105/105\u001b[0m \u001b[32m━━━━━━━━━━━━━━━━━━━━\u001b[0m\u001b[37m\u001b[0m \u001b[1m25s\u001b[0m 230ms/step - accuracy: 0.9401 - dice_coefficient: 0.5871 - iou_metric: 0.8913 - loss: 0.7667 - val_accuracy: 0.9473 - val_dice_coefficient: 0.5712 - val_iou_metric: 0.9000 - val_loss: 0.7399 - learning_rate: 1.0000e-04\n",
            "Epoch 28/100\n",
            "\u001b[1m105/105\u001b[0m \u001b[32m━━━━━━━━━━━━━━━━━━━━\u001b[0m\u001b[37m\u001b[0m \u001b[1m0s\u001b[0m 178ms/step - accuracy: 0.9433 - dice_coefficient: 0.6014 - iou_metric: 0.8962 - loss: 0.7426\n",
            "Epoch 28: val_dice_coefficient improved from 0.57123 to 0.58098, saving model to best_weed_model.h5\n"
          ]
        },
        {
          "metadata": {
            "tags": null
          },
          "name": "stderr",
          "output_type": "stream",
          "text": [
            "WARNING:absl:You are saving your model as an HDF5 file via `model.save()` or `keras.saving.save_model(model)`. This file format is considered legacy. We recommend using instead the native Keras format, e.g. `model.save('my_model.keras')` or `keras.saving.save_model(model, 'my_model.keras')`. \n"
          ]
        },
        {
          "metadata": {
            "tags": null
          },
          "name": "stdout",
          "output_type": "stream",
          "text": [
            "\u001b[1m105/105\u001b[0m \u001b[32m━━━━━━━━━━━━━━━━━━━━\u001b[0m\u001b[37m\u001b[0m \u001b[1m38s\u001b[0m 199ms/step - accuracy: 0.9432 - dice_coefficient: 0.6013 - iou_metric: 0.8962 - loss: 0.7427 - val_accuracy: 0.9456 - val_dice_coefficient: 0.5810 - val_iou_metric: 0.8974 - val_loss: 0.7365 - learning_rate: 1.0000e-04\n",
            "Epoch 29/100\n",
            "\u001b[1m105/105\u001b[0m \u001b[32m━━━━━━━━━━━━━━━━━━━━\u001b[0m\u001b[37m\u001b[0m \u001b[1m0s\u001b[0m 184ms/step - accuracy: 0.9429 - dice_coefficient: 0.6010 - iou_metric: 0.8958 - loss: 0.7375\n",
            "Epoch 29: val_dice_coefficient did not improve from 0.58098\n",
            "\u001b[1m105/105\u001b[0m \u001b[32m━━━━━━━━━━━━━━━━━━━━\u001b[0m\u001b[37m\u001b[0m \u001b[1m40s\u001b[0m 189ms/step - accuracy: 0.9429 - dice_coefficient: 0.6010 - iou_metric: 0.8957 - loss: 0.7377 - val_accuracy: 0.9429 - val_dice_coefficient: 0.5736 - val_iou_metric: 0.8936 - val_loss: 0.7302 - learning_rate: 1.0000e-04\n",
            "Epoch 30/100\n",
            "\u001b[1m105/105\u001b[0m \u001b[32m━━━━━━━━━━━━━━━━━━━━\u001b[0m\u001b[37m\u001b[0m \u001b[1m0s\u001b[0m 182ms/step - accuracy: 0.9411 - dice_coefficient: 0.6085 - iou_metric: 0.8933 - loss: 0.7252\n",
            "Epoch 30: val_dice_coefficient improved from 0.58098 to 0.58656, saving model to best_weed_model.h5\n"
          ]
        },
        {
          "metadata": {
            "tags": null
          },
          "name": "stderr",
          "output_type": "stream",
          "text": [
            "WARNING:absl:You are saving your model as an HDF5 file via `model.save()` or `keras.saving.save_model(model)`. This file format is considered legacy. We recommend using instead the native Keras format, e.g. `model.save('my_model.keras')` or `keras.saving.save_model(model, 'my_model.keras')`. \n"
          ]
        },
        {
          "metadata": {
            "tags": null
          },
          "name": "stdout",
          "output_type": "stream",
          "text": [
            "\u001b[1m105/105\u001b[0m \u001b[32m━━━━━━━━━━━━━━━━━━━━\u001b[0m\u001b[37m\u001b[0m \u001b[1m47s\u001b[0m 253ms/step - accuracy: 0.9411 - dice_coefficient: 0.6085 - iou_metric: 0.8933 - loss: 0.7252 - val_accuracy: 0.9505 - val_dice_coefficient: 0.5866 - val_iou_metric: 0.9066 - val_loss: 0.7224 - learning_rate: 1.0000e-04\n",
            "Epoch 31/100\n",
            "\u001b[1m105/105\u001b[0m \u001b[32m━━━━━━━━━━━━━━━━━━━━\u001b[0m\u001b[37m\u001b[0m \u001b[1m0s\u001b[0m 184ms/step - accuracy: 0.9437 - dice_coefficient: 0.6119 - iou_metric: 0.8976 - loss: 0.7234\n",
            "Epoch 31: val_dice_coefficient did not improve from 0.58656\n",
            "\u001b[1m105/105\u001b[0m \u001b[32m━━━━━━━━━━━━━━━━━━━━\u001b[0m\u001b[37m\u001b[0m \u001b[1m21s\u001b[0m 190ms/step - accuracy: 0.9437 - dice_coefficient: 0.6119 - iou_metric: 0.8976 - loss: 0.7233 - val_accuracy: 0.9421 - val_dice_coefficient: 0.5773 - val_iou_metric: 0.8930 - val_loss: 0.7311 - learning_rate: 1.0000e-04\n",
            "Epoch 32/100\n",
            "\u001b[1m105/105\u001b[0m \u001b[32m━━━━━━━━━━━━━━━━━━━━\u001b[0m\u001b[37m\u001b[0m \u001b[1m0s\u001b[0m 181ms/step - accuracy: 0.9459 - dice_coefficient: 0.6134 - iou_metric: 0.9011 - loss: 0.7141\n",
            "Epoch 32: val_dice_coefficient improved from 0.58656 to 0.59238, saving model to best_weed_model.h5\n"
          ]
        },
        {
          "metadata": {
            "tags": null
          },
          "name": "stderr",
          "output_type": "stream",
          "text": [
            "WARNING:absl:You are saving your model as an HDF5 file via `model.save()` or `keras.saving.save_model(model)`. This file format is considered legacy. We recommend using instead the native Keras format, e.g. `model.save('my_model.keras')` or `keras.saving.save_model(model, 'my_model.keras')`. \n"
          ]
        },
        {
          "metadata": {
            "tags": null
          },
          "name": "stdout",
          "output_type": "stream",
          "text": [
            "\u001b[1m105/105\u001b[0m \u001b[32m━━━━━━━━━━━━━━━━━━━━\u001b[0m\u001b[37m\u001b[0m \u001b[1m26s\u001b[0m 242ms/step - accuracy: 0.9459 - dice_coefficient: 0.6134 - iou_metric: 0.9011 - loss: 0.7140 - val_accuracy: 0.9481 - val_dice_coefficient: 0.5924 - val_iou_metric: 0.9026 - val_loss: 0.7062 - learning_rate: 1.0000e-04\n",
            "Epoch 33/100\n",
            "\u001b[1m105/105\u001b[0m \u001b[32m━━━━━━━━━━━━━━━━━━━━\u001b[0m\u001b[37m\u001b[0m \u001b[1m0s\u001b[0m 183ms/step - accuracy: 0.9430 - dice_coefficient: 0.6131 - iou_metric: 0.8960 - loss: 0.7257\n",
            "Epoch 33: val_dice_coefficient did not improve from 0.59238\n",
            "\u001b[1m105/105\u001b[0m \u001b[32m━━━━━━━━━━━━━━━━━━━━\u001b[0m\u001b[37m\u001b[0m \u001b[1m35s\u001b[0m 188ms/step - accuracy: 0.9430 - dice_coefficient: 0.6132 - iou_metric: 0.8961 - loss: 0.7257 - val_accuracy: 0.9474 - val_dice_coefficient: 0.5882 - val_iou_metric: 0.9019 - val_loss: 0.7091 - learning_rate: 1.0000e-04\n",
            "Epoch 34/100\n",
            "\u001b[1m105/105\u001b[0m \u001b[32m━━━━━━━━━━━━━━━━━━━━\u001b[0m\u001b[37m\u001b[0m \u001b[1m0s\u001b[0m 185ms/step - accuracy: 0.9488 - dice_coefficient: 0.6299 - iou_metric: 0.9058 - loss: 0.6828\n",
            "Epoch 34: val_dice_coefficient did not improve from 0.59238\n",
            "\u001b[1m105/105\u001b[0m \u001b[32m━━━━━━━━━━━━━━━━━━━━\u001b[0m\u001b[37m\u001b[0m \u001b[1m41s\u001b[0m 191ms/step - accuracy: 0.9487 - dice_coefficient: 0.6299 - iou_metric: 0.9057 - loss: 0.6829 - val_accuracy: 0.9512 - val_dice_coefficient: 0.5920 - val_iou_metric: 0.9074 - val_loss: 0.7069 - learning_rate: 1.0000e-04\n",
            "Epoch 35/100\n",
            "\u001b[1m105/105\u001b[0m \u001b[32m━━━━━━━━━━━━━━━━━━━━\u001b[0m\u001b[37m\u001b[0m \u001b[1m0s\u001b[0m 186ms/step - accuracy: 0.9428 - dice_coefficient: 0.6175 - iou_metric: 0.8962 - loss: 0.7199\n",
            "Epoch 35: val_dice_coefficient did not improve from 0.59238\n",
            "\u001b[1m105/105\u001b[0m \u001b[32m━━━━━━━━━━━━━━━━━━━━\u001b[0m\u001b[37m\u001b[0m \u001b[1m21s\u001b[0m 191ms/step - accuracy: 0.9428 - dice_coefficient: 0.6175 - iou_metric: 0.8963 - loss: 0.7198 - val_accuracy: 0.9402 - val_dice_coefficient: 0.5851 - val_iou_metric: 0.8898 - val_loss: 0.7251 - learning_rate: 1.0000e-04\n",
            "Epoch 36/100\n",
            "\u001b[1m105/105\u001b[0m \u001b[32m━━━━━━━━━━━━━━━━━━━━\u001b[0m\u001b[37m\u001b[0m \u001b[1m0s\u001b[0m 178ms/step - accuracy: 0.9480 - dice_coefficient: 0.6266 - iou_metric: 0.9046 - loss: 0.6891\n",
            "Epoch 36: val_dice_coefficient improved from 0.59238 to 0.59959, saving model to best_weed_model.h5\n"
          ]
        },
        {
          "metadata": {
            "tags": null
          },
          "name": "stderr",
          "output_type": "stream",
          "text": [
            "WARNING:absl:You are saving your model as an HDF5 file via `model.save()` or `keras.saving.save_model(model)`. This file format is considered legacy. We recommend using instead the native Keras format, e.g. `model.save('my_model.keras')` or `keras.saving.save_model(model, 'my_model.keras')`. \n"
          ]
        },
        {
          "metadata": {
            "tags": null
          },
          "name": "stdout",
          "output_type": "stream",
          "text": [
            "\u001b[1m105/105\u001b[0m \u001b[32m━━━━━━━━━━━━━━━━━━━━\u001b[0m\u001b[37m\u001b[0m \u001b[1m46s\u001b[0m 242ms/step - accuracy: 0.9480 - dice_coefficient: 0.6265 - iou_metric: 0.9046 - loss: 0.6891 - val_accuracy: 0.9514 - val_dice_coefficient: 0.5996 - val_iou_metric: 0.9079 - val_loss: 0.6977 - learning_rate: 1.0000e-04\n",
            "Epoch 37/100\n",
            "\u001b[1m105/105\u001b[0m \u001b[32m━━━━━━━━━━━━━━━━━━━━\u001b[0m\u001b[37m\u001b[0m \u001b[1m0s\u001b[0m 187ms/step - accuracy: 0.9443 - dice_coefficient: 0.6241 - iou_metric: 0.8983 - loss: 0.7127\n",
            "Epoch 37: val_dice_coefficient did not improve from 0.59959\n",
            "\u001b[1m105/105\u001b[0m \u001b[32m━━━━━━━━━━━━━━━━━━━━\u001b[0m\u001b[37m\u001b[0m \u001b[1m21s\u001b[0m 194ms/step - accuracy: 0.9443 - dice_coefficient: 0.6242 - iou_metric: 0.8983 - loss: 0.7125 - val_accuracy: 0.9482 - val_dice_coefficient: 0.5974 - val_iou_metric: 0.9026 - val_loss: 0.6955 - learning_rate: 1.0000e-04\n",
            "Epoch 38/100\n",
            "\u001b[1m105/105\u001b[0m \u001b[32m━━━━━━━━━━━━━━━━━━━━\u001b[0m\u001b[37m\u001b[0m \u001b[1m0s\u001b[0m 186ms/step - accuracy: 0.9479 - dice_coefficient: 0.6353 - iou_metric: 0.9042 - loss: 0.6797\n",
            "Epoch 38: val_dice_coefficient improved from 0.59959 to 0.60146, saving model to best_weed_model.h5\n"
          ]
        },
        {
          "metadata": {
            "tags": null
          },
          "name": "stderr",
          "output_type": "stream",
          "text": [
            "WARNING:absl:You are saving your model as an HDF5 file via `model.save()` or `keras.saving.save_model(model)`. This file format is considered legacy. We recommend using instead the native Keras format, e.g. `model.save('my_model.keras')` or `keras.saving.save_model(model, 'my_model.keras')`. \n"
          ]
        },
        {
          "metadata": {
            "tags": null
          },
          "name": "stdout",
          "output_type": "stream",
          "text": [
            "\u001b[1m105/105\u001b[0m \u001b[32m━━━━━━━━━━━━━━━━━━━━\u001b[0m\u001b[37m\u001b[0m \u001b[1m46s\u001b[0m 245ms/step - accuracy: 0.9479 - dice_coefficient: 0.6353 - iou_metric: 0.9042 - loss: 0.6796 - val_accuracy: 0.9494 - val_dice_coefficient: 0.6015 - val_iou_metric: 0.9042 - val_loss: 0.6949 - learning_rate: 1.0000e-04\n",
            "Epoch 39/100\n",
            "\u001b[1m105/105\u001b[0m \u001b[32m━━━━━━━━━━━━━━━━━━━━\u001b[0m\u001b[37m\u001b[0m \u001b[1m0s\u001b[0m 185ms/step - accuracy: 0.9502 - dice_coefficient: 0.6364 - iou_metric: 0.9081 - loss: 0.6680\n",
            "Epoch 39: val_dice_coefficient improved from 0.60146 to 0.60370, saving model to best_weed_model.h5\n"
          ]
        },
        {
          "metadata": {
            "tags": null
          },
          "name": "stderr",
          "output_type": "stream",
          "text": [
            "WARNING:absl:You are saving your model as an HDF5 file via `model.save()` or `keras.saving.save_model(model)`. This file format is considered legacy. We recommend using instead the native Keras format, e.g. `model.save('my_model.keras')` or `keras.saving.save_model(model, 'my_model.keras')`. \n"
          ]
        },
        {
          "metadata": {
            "tags": null
          },
          "name": "stdout",
          "output_type": "stream",
          "text": [
            "\u001b[1m105/105\u001b[0m \u001b[32m━━━━━━━━━━━━━━━━━━━━\u001b[0m\u001b[37m\u001b[0m \u001b[1m41s\u001b[0m 246ms/step - accuracy: 0.9502 - dice_coefficient: 0.6364 - iou_metric: 0.9081 - loss: 0.6681 - val_accuracy: 0.9485 - val_dice_coefficient: 0.6037 - val_iou_metric: 0.9033 - val_loss: 0.6942 - learning_rate: 1.0000e-04\n",
            "Epoch 40/100\n",
            "\u001b[1m105/105\u001b[0m \u001b[32m━━━━━━━━━━━━━━━━━━━━\u001b[0m\u001b[37m\u001b[0m \u001b[1m0s\u001b[0m 183ms/step - accuracy: 0.9500 - dice_coefficient: 0.6397 - iou_metric: 0.9081 - loss: 0.6660\n",
            "Epoch 40: val_dice_coefficient improved from 0.60370 to 0.61065, saving model to best_weed_model.h5\n"
          ]
        },
        {
          "metadata": {
            "tags": null
          },
          "name": "stderr",
          "output_type": "stream",
          "text": [
            "WARNING:absl:You are saving your model as an HDF5 file via `model.save()` or `keras.saving.save_model(model)`. This file format is considered legacy. We recommend using instead the native Keras format, e.g. `model.save('my_model.keras')` or `keras.saving.save_model(model, 'my_model.keras')`. \n"
          ]
        },
        {
          "metadata": {
            "tags": null
          },
          "name": "stdout",
          "output_type": "stream",
          "text": [
            "\u001b[1m105/105\u001b[0m \u001b[32m━━━━━━━━━━━━━━━━━━━━\u001b[0m\u001b[37m\u001b[0m \u001b[1m24s\u001b[0m 220ms/step - accuracy: 0.9499 - dice_coefficient: 0.6397 - iou_metric: 0.9081 - loss: 0.6661 - val_accuracy: 0.9536 - val_dice_coefficient: 0.6107 - val_iou_metric: 0.9121 - val_loss: 0.6797 - learning_rate: 1.0000e-04\n",
            "Epoch 41/100\n",
            "\u001b[1m105/105\u001b[0m \u001b[32m━━━━━━━━━━━━━━━━━━━━\u001b[0m\u001b[37m\u001b[0m \u001b[1m0s\u001b[0m 183ms/step - accuracy: 0.9480 - dice_coefficient: 0.6435 - iou_metric: 0.9051 - loss: 0.6685\n",
            "Epoch 41: val_dice_coefficient did not improve from 0.61065\n",
            "\u001b[1m105/105\u001b[0m \u001b[32m━━━━━━━━━━━━━━━━━━━━\u001b[0m\u001b[37m\u001b[0m \u001b[1m21s\u001b[0m 189ms/step - accuracy: 0.9480 - dice_coefficient: 0.6435 - iou_metric: 0.9051 - loss: 0.6684 - val_accuracy: 0.9513 - val_dice_coefficient: 0.6080 - val_iou_metric: 0.9083 - val_loss: 0.6744 - learning_rate: 1.0000e-04\n",
            "Epoch 42/100\n",
            "\u001b[1m105/105\u001b[0m \u001b[32m━━━━━━━━━━━━━━━━━━━━\u001b[0m\u001b[37m\u001b[0m \u001b[1m0s\u001b[0m 184ms/step - accuracy: 0.9474 - dice_coefficient: 0.6414 - iou_metric: 0.9036 - loss: 0.6775\n",
            "Epoch 42: val_dice_coefficient improved from 0.61065 to 0.61269, saving model to best_weed_model.h5\n"
          ]
        },
        {
          "metadata": {
            "tags": null
          },
          "name": "stderr",
          "output_type": "stream",
          "text": [
            "WARNING:absl:You are saving your model as an HDF5 file via `model.save()` or `keras.saving.save_model(model)`. This file format is considered legacy. We recommend using instead the native Keras format, e.g. `model.save('my_model.keras')` or `keras.saving.save_model(model, 'my_model.keras')`. \n"
          ]
        },
        {
          "metadata": {
            "tags": null
          },
          "name": "stdout",
          "output_type": "stream",
          "text": [
            "\u001b[1m105/105\u001b[0m \u001b[32m━━━━━━━━━━━━━━━━━━━━\u001b[0m\u001b[37m\u001b[0m \u001b[1m48s\u001b[0m 256ms/step - accuracy: 0.9474 - dice_coefficient: 0.6413 - iou_metric: 0.9037 - loss: 0.6774 - val_accuracy: 0.9520 - val_dice_coefficient: 0.6127 - val_iou_metric: 0.9099 - val_loss: 0.6909 - learning_rate: 1.0000e-04\n",
            "Epoch 43/100\n",
            "\u001b[1m105/105\u001b[0m \u001b[32m━━━━━━━━━━━━━━━━━━━━\u001b[0m\u001b[37m\u001b[0m \u001b[1m0s\u001b[0m 184ms/step - accuracy: 0.9508 - dice_coefficient: 0.6357 - iou_metric: 0.9091 - loss: 0.6693\n",
            "Epoch 43: val_dice_coefficient improved from 0.61269 to 0.61844, saving model to best_weed_model.h5\n"
          ]
        },
        {
          "metadata": {
            "tags": null
          },
          "name": "stderr",
          "output_type": "stream",
          "text": [
            "WARNING:absl:You are saving your model as an HDF5 file via `model.save()` or `keras.saving.save_model(model)`. This file format is considered legacy. We recommend using instead the native Keras format, e.g. `model.save('my_model.keras')` or `keras.saving.save_model(model, 'my_model.keras')`. \n"
          ]
        },
        {
          "metadata": {
            "tags": null
          },
          "name": "stdout",
          "output_type": "stream",
          "text": [
            "\u001b[1m105/105\u001b[0m \u001b[32m━━━━━━━━━━━━━━━━━━━━\u001b[0m\u001b[37m\u001b[0m \u001b[1m39s\u001b[0m 235ms/step - accuracy: 0.9508 - dice_coefficient: 0.6357 - iou_metric: 0.9091 - loss: 0.6692 - val_accuracy: 0.9536 - val_dice_coefficient: 0.6184 - val_iou_metric: 0.9121 - val_loss: 0.6679 - learning_rate: 1.0000e-04\n",
            "Epoch 44/100\n",
            "\u001b[1m105/105\u001b[0m \u001b[32m━━━━━━━━━━━━━━━━━━━━\u001b[0m\u001b[37m\u001b[0m \u001b[1m0s\u001b[0m 182ms/step - accuracy: 0.9492 - dice_coefficient: 0.6509 - iou_metric: 0.9074 - loss: 0.6420\n",
            "Epoch 44: val_dice_coefficient did not improve from 0.61844\n",
            "\u001b[1m105/105\u001b[0m \u001b[32m━━━━━━━━━━━━━━━━━━━━\u001b[0m\u001b[37m\u001b[0m \u001b[1m21s\u001b[0m 189ms/step - accuracy: 0.9492 - dice_coefficient: 0.6509 - iou_metric: 0.9074 - loss: 0.6420 - val_accuracy: 0.9498 - val_dice_coefficient: 0.6092 - val_iou_metric: 0.9061 - val_loss: 0.6842 - learning_rate: 1.0000e-04\n",
            "Epoch 45/100\n",
            "\u001b[1m105/105\u001b[0m \u001b[32m━━━━━━━━━━━━━━━━━━━━\u001b[0m\u001b[37m\u001b[0m \u001b[1m0s\u001b[0m 178ms/step - accuracy: 0.9488 - dice_coefficient: 0.6471 - iou_metric: 0.9060 - loss: 0.6647\n",
            "Epoch 45: val_dice_coefficient did not improve from 0.61844\n",
            "\u001b[1m105/105\u001b[0m \u001b[32m━━━━━━━━━━━━━━━━━━━━\u001b[0m\u001b[37m\u001b[0m \u001b[1m20s\u001b[0m 183ms/step - accuracy: 0.9488 - dice_coefficient: 0.6471 - iou_metric: 0.9060 - loss: 0.6646 - val_accuracy: 0.9499 - val_dice_coefficient: 0.6131 - val_iou_metric: 0.9057 - val_loss: 0.6626 - learning_rate: 1.0000e-04\n",
            "Epoch 46/100\n",
            "\u001b[1m105/105\u001b[0m \u001b[32m━━━━━━━━━━━━━━━━━━━━\u001b[0m\u001b[37m\u001b[0m \u001b[1m0s\u001b[0m 183ms/step - accuracy: 0.9511 - dice_coefficient: 0.6565 - iou_metric: 0.9107 - loss: 0.6341\n",
            "Epoch 46: val_dice_coefficient improved from 0.61844 to 0.61963, saving model to best_weed_model.h5\n"
          ]
        },
        {
          "metadata": {
            "tags": null
          },
          "name": "stderr",
          "output_type": "stream",
          "text": [
            "WARNING:absl:You are saving your model as an HDF5 file via `model.save()` or `keras.saving.save_model(model)`. This file format is considered legacy. We recommend using instead the native Keras format, e.g. `model.save('my_model.keras')` or `keras.saving.save_model(model, 'my_model.keras')`. \n"
          ]
        },
        {
          "metadata": {
            "tags": null
          },
          "name": "stdout",
          "output_type": "stream",
          "text": [
            "\u001b[1m105/105\u001b[0m \u001b[32m━━━━━━━━━━━━━━━━━━━━\u001b[0m\u001b[37m\u001b[0m \u001b[1m27s\u001b[0m 253ms/step - accuracy: 0.9511 - dice_coefficient: 0.6565 - iou_metric: 0.9107 - loss: 0.6341 - val_accuracy: 0.9528 - val_dice_coefficient: 0.6196 - val_iou_metric: 0.9099 - val_loss: 0.6526 - learning_rate: 1.0000e-04\n",
            "Epoch 47/100\n",
            "\u001b[1m105/105\u001b[0m \u001b[32m━━━━━━━━━━━━━━━━━━━━\u001b[0m\u001b[37m\u001b[0m \u001b[1m0s\u001b[0m 182ms/step - accuracy: 0.9513 - dice_coefficient: 0.6618 - iou_metric: 0.9097 - loss: 0.6277\n",
            "Epoch 47: val_dice_coefficient did not improve from 0.61963\n",
            "\u001b[1m105/105\u001b[0m \u001b[32m━━━━━━━━━━━━━━━━━━━━\u001b[0m\u001b[37m\u001b[0m \u001b[1m34s\u001b[0m 187ms/step - accuracy: 0.9513 - dice_coefficient: 0.6617 - iou_metric: 0.9097 - loss: 0.6278 - val_accuracy: 0.9503 - val_dice_coefficient: 0.6127 - val_iou_metric: 0.9069 - val_loss: 0.6791 - learning_rate: 1.0000e-04\n",
            "Epoch 48/100\n",
            "\u001b[1m105/105\u001b[0m \u001b[32m━━━━━━━━━━━━━━━━━━━━\u001b[0m\u001b[37m\u001b[0m \u001b[1m0s\u001b[0m 188ms/step - accuracy: 0.9522 - dice_coefficient: 0.6611 - iou_metric: 0.9117 - loss: 0.6273\n",
            "Epoch 48: val_dice_coefficient improved from 0.61963 to 0.62201, saving model to best_weed_model.h5\n"
          ]
        },
        {
          "metadata": {
            "tags": null
          },
          "name": "stderr",
          "output_type": "stream",
          "text": [
            "WARNING:absl:You are saving your model as an HDF5 file via `model.save()` or `keras.saving.save_model(model)`. This file format is considered legacy. We recommend using instead the native Keras format, e.g. `model.save('my_model.keras')` or `keras.saving.save_model(model, 'my_model.keras')`. \n"
          ]
        },
        {
          "metadata": {
            "tags": null
          },
          "name": "stdout",
          "output_type": "stream",
          "text": [
            "\u001b[1m105/105\u001b[0m \u001b[32m━━━━━━━━━━━━━━━━━━━━\u001b[0m\u001b[37m\u001b[0m \u001b[1m27s\u001b[0m 249ms/step - accuracy: 0.9522 - dice_coefficient: 0.6610 - iou_metric: 0.9117 - loss: 0.6275 - val_accuracy: 0.9512 - val_dice_coefficient: 0.6220 - val_iou_metric: 0.9081 - val_loss: 0.6543 - learning_rate: 1.0000e-04\n",
            "Epoch 49/100\n",
            "\u001b[1m105/105\u001b[0m \u001b[32m━━━━━━━━━━━━━━━━━━━━\u001b[0m\u001b[37m\u001b[0m \u001b[1m0s\u001b[0m 181ms/step - accuracy: 0.9513 - dice_coefficient: 0.6625 - iou_metric: 0.9101 - loss: 0.6250\n",
            "Epoch 49: val_dice_coefficient improved from 0.62201 to 0.62243, saving model to best_weed_model.h5\n"
          ]
        },
        {
          "metadata": {
            "tags": null
          },
          "name": "stderr",
          "output_type": "stream",
          "text": [
            "WARNING:absl:You are saving your model as an HDF5 file via `model.save()` or `keras.saving.save_model(model)`. This file format is considered legacy. We recommend using instead the native Keras format, e.g. `model.save('my_model.keras')` or `keras.saving.save_model(model, 'my_model.keras')`. \n"
          ]
        },
        {
          "metadata": {
            "tags": null
          },
          "name": "stdout",
          "output_type": "stream",
          "text": [
            "\u001b[1m105/105\u001b[0m \u001b[32m━━━━━━━━━━━━━━━━━━━━\u001b[0m\u001b[37m\u001b[0m \u001b[1m41s\u001b[0m 247ms/step - accuracy: 0.9513 - dice_coefficient: 0.6625 - iou_metric: 0.9101 - loss: 0.6249 - val_accuracy: 0.9499 - val_dice_coefficient: 0.6224 - val_iou_metric: 0.9063 - val_loss: 0.6460 - learning_rate: 1.0000e-04\n",
            "Epoch 50/100\n",
            "\u001b[1m105/105\u001b[0m \u001b[32m━━━━━━━━━━━━━━━━━━━━\u001b[0m\u001b[37m\u001b[0m \u001b[1m0s\u001b[0m 187ms/step - accuracy: 0.9549 - dice_coefficient: 0.6777 - iou_metric: 0.9158 - loss: 0.5926\n",
            "Epoch 50: val_dice_coefficient improved from 0.62243 to 0.63175, saving model to best_weed_model.h5\n"
          ]
        },
        {
          "metadata": {
            "tags": null
          },
          "name": "stderr",
          "output_type": "stream",
          "text": [
            "WARNING:absl:You are saving your model as an HDF5 file via `model.save()` or `keras.saving.save_model(model)`. This file format is considered legacy. We recommend using instead the native Keras format, e.g. `model.save('my_model.keras')` or `keras.saving.save_model(model, 'my_model.keras')`. \n"
          ]
        },
        {
          "metadata": {
            "tags": null
          },
          "name": "stdout",
          "output_type": "stream",
          "text": [
            "\u001b[1m105/105\u001b[0m \u001b[32m━━━━━━━━━━━━━━━━━━━━\u001b[0m\u001b[37m\u001b[0m \u001b[1m39s\u001b[0m 230ms/step - accuracy: 0.9549 - dice_coefficient: 0.6777 - iou_metric: 0.9158 - loss: 0.5926 - val_accuracy: 0.9544 - val_dice_coefficient: 0.6317 - val_iou_metric: 0.9130 - val_loss: 0.6464 - learning_rate: 1.0000e-04\n",
            "Epoch 51/100\n",
            "\u001b[1m105/105\u001b[0m \u001b[32m━━━━━━━━━━━━━━━━━━━━\u001b[0m\u001b[37m\u001b[0m \u001b[1m0s\u001b[0m 182ms/step - accuracy: 0.9552 - dice_coefficient: 0.6743 - iou_metric: 0.9166 - loss: 0.5979\n",
            "Epoch 51: val_dice_coefficient improved from 0.63175 to 0.64011, saving model to best_weed_model.h5\n"
          ]
        },
        {
          "metadata": {
            "tags": null
          },
          "name": "stderr",
          "output_type": "stream",
          "text": [
            "WARNING:absl:You are saving your model as an HDF5 file via `model.save()` or `keras.saving.save_model(model)`. This file format is considered legacy. We recommend using instead the native Keras format, e.g. `model.save('my_model.keras')` or `keras.saving.save_model(model, 'my_model.keras')`. \n"
          ]
        },
        {
          "metadata": {
            "tags": null
          },
          "name": "stdout",
          "output_type": "stream",
          "text": [
            "\u001b[1m105/105\u001b[0m \u001b[32m━━━━━━━━━━━━━━━━━━━━\u001b[0m\u001b[37m\u001b[0m \u001b[1m43s\u001b[0m 250ms/step - accuracy: 0.9552 - dice_coefficient: 0.6742 - iou_metric: 0.9166 - loss: 0.5980 - val_accuracy: 0.9579 - val_dice_coefficient: 0.6401 - val_iou_metric: 0.9206 - val_loss: 0.6369 - learning_rate: 1.0000e-04\n",
            "Epoch 52/100\n",
            "\u001b[1m105/105\u001b[0m \u001b[32m━━━━━━━━━━━━━━━━━━━━\u001b[0m\u001b[37m\u001b[0m \u001b[1m0s\u001b[0m 186ms/step - accuracy: 0.9487 - dice_coefficient: 0.6767 - iou_metric: 0.9062 - loss: 0.6082\n",
            "Epoch 52: val_dice_coefficient did not improve from 0.64011\n",
            "\u001b[1m105/105\u001b[0m \u001b[32m━━━━━━━━━━━━━━━━━━━━\u001b[0m\u001b[37m\u001b[0m \u001b[1m35s\u001b[0m 191ms/step - accuracy: 0.9487 - dice_coefficient: 0.6767 - iou_metric: 0.9063 - loss: 0.6082 - val_accuracy: 0.9502 - val_dice_coefficient: 0.6355 - val_iou_metric: 0.9083 - val_loss: 0.6238 - learning_rate: 1.0000e-04\n",
            "Epoch 53/100\n",
            "\u001b[1m105/105\u001b[0m \u001b[32m━━━━━━━━━━━━━━━━━━━━\u001b[0m\u001b[37m\u001b[0m \u001b[1m0s\u001b[0m 182ms/step - accuracy: 0.9538 - dice_coefficient: 0.6874 - iou_metric: 0.9144 - loss: 0.5841\n",
            "Epoch 53: val_dice_coefficient improved from 0.64011 to 0.64748, saving model to best_weed_model.h5\n"
          ]
        },
        {
          "metadata": {
            "tags": null
          },
          "name": "stderr",
          "output_type": "stream",
          "text": [
            "WARNING:absl:You are saving your model as an HDF5 file via `model.save()` or `keras.saving.save_model(model)`. This file format is considered legacy. We recommend using instead the native Keras format, e.g. `model.save('my_model.keras')` or `keras.saving.save_model(model, 'my_model.keras')`. \n"
          ]
        },
        {
          "metadata": {
            "tags": null
          },
          "name": "stdout",
          "output_type": "stream",
          "text": [
            "\u001b[1m105/105\u001b[0m \u001b[32m━━━━━━━━━━━━━━━━━━━━\u001b[0m\u001b[37m\u001b[0m \u001b[1m47s\u001b[0m 250ms/step - accuracy: 0.9538 - dice_coefficient: 0.6874 - iou_metric: 0.9144 - loss: 0.5841 - val_accuracy: 0.9501 - val_dice_coefficient: 0.6475 - val_iou_metric: 0.9074 - val_loss: 0.6145 - learning_rate: 1.0000e-04\n",
            "Epoch 54/100\n",
            "\u001b[1m105/105\u001b[0m \u001b[32m━━━━━━━━━━━━━━━━━━━━\u001b[0m\u001b[37m\u001b[0m \u001b[1m0s\u001b[0m 184ms/step - accuracy: 0.9501 - dice_coefficient: 0.6883 - iou_metric: 0.9086 - loss: 0.5900\n",
            "Epoch 54: val_dice_coefficient improved from 0.64748 to 0.64886, saving model to best_weed_model.h5\n"
          ]
        },
        {
          "metadata": {
            "tags": null
          },
          "name": "stderr",
          "output_type": "stream",
          "text": [
            "WARNING:absl:You are saving your model as an HDF5 file via `model.save()` or `keras.saving.save_model(model)`. This file format is considered legacy. We recommend using instead the native Keras format, e.g. `model.save('my_model.keras')` or `keras.saving.save_model(model, 'my_model.keras')`. \n"
          ]
        },
        {
          "metadata": {
            "tags": null
          },
          "name": "stdout",
          "output_type": "stream",
          "text": [
            "\u001b[1m105/105\u001b[0m \u001b[32m━━━━━━━━━━━━━━━━━━━━\u001b[0m\u001b[37m\u001b[0m \u001b[1m23s\u001b[0m 211ms/step - accuracy: 0.9502 - dice_coefficient: 0.6882 - iou_metric: 0.9086 - loss: 0.5900 - val_accuracy: 0.9553 - val_dice_coefficient: 0.6489 - val_iou_metric: 0.9159 - val_loss: 0.6340 - learning_rate: 1.0000e-04\n",
            "Epoch 55/100\n",
            "\u001b[1m105/105\u001b[0m \u001b[32m━━━━━━━━━━━━━━━━━━━━\u001b[0m\u001b[37m\u001b[0m \u001b[1m0s\u001b[0m 181ms/step - accuracy: 0.9537 - dice_coefficient: 0.6938 - iou_metric: 0.9142 - loss: 0.5774\n",
            "Epoch 55: val_dice_coefficient improved from 0.64886 to 0.65783, saving model to best_weed_model.h5\n"
          ]
        },
        {
          "metadata": {
            "tags": null
          },
          "name": "stderr",
          "output_type": "stream",
          "text": [
            "WARNING:absl:You are saving your model as an HDF5 file via `model.save()` or `keras.saving.save_model(model)`. This file format is considered legacy. We recommend using instead the native Keras format, e.g. `model.save('my_model.keras')` or `keras.saving.save_model(model, 'my_model.keras')`. \n"
          ]
        },
        {
          "metadata": {
            "tags": null
          },
          "name": "stdout",
          "output_type": "stream",
          "text": [
            "\u001b[1m105/105\u001b[0m \u001b[32m━━━━━━━━━━━━━━━━━━━━\u001b[0m\u001b[37m\u001b[0m \u001b[1m26s\u001b[0m 242ms/step - accuracy: 0.9537 - dice_coefficient: 0.6939 - iou_metric: 0.9142 - loss: 0.5772 - val_accuracy: 0.9578 - val_dice_coefficient: 0.6578 - val_iou_metric: 0.9196 - val_loss: 0.6204 - learning_rate: 1.0000e-04\n",
            "Epoch 56/100\n",
            "\u001b[1m105/105\u001b[0m \u001b[32m━━━━━━━━━━━━━━━━━━━━\u001b[0m\u001b[37m\u001b[0m \u001b[1m0s\u001b[0m 181ms/step - accuracy: 0.9545 - dice_coefficient: 0.7039 - iou_metric: 0.9154 - loss: 0.5600\n",
            "Epoch 56: val_dice_coefficient did not improve from 0.65783\n",
            "\u001b[1m105/105\u001b[0m \u001b[32m━━━━━━━━━━━━━━━━━━━━\u001b[0m\u001b[37m\u001b[0m \u001b[1m21s\u001b[0m 189ms/step - accuracy: 0.9545 - dice_coefficient: 0.7039 - iou_metric: 0.9154 - loss: 0.5600 - val_accuracy: 0.9525 - val_dice_coefficient: 0.6559 - val_iou_metric: 0.9109 - val_loss: 0.5994 - learning_rate: 1.0000e-04\n",
            "Epoch 57/100\n",
            "\u001b[1m105/105\u001b[0m \u001b[32m━━━━━━━━━━━━━━━━━━━━\u001b[0m\u001b[37m\u001b[0m \u001b[1m0s\u001b[0m 183ms/step - accuracy: 0.9536 - dice_coefficient: 0.6983 - iou_metric: 0.9140 - loss: 0.5794\n",
            "Epoch 57: val_dice_coefficient improved from 0.65783 to 0.66504, saving model to best_weed_model.h5\n"
          ]
        },
        {
          "metadata": {
            "tags": null
          },
          "name": "stderr",
          "output_type": "stream",
          "text": [
            "WARNING:absl:You are saving your model as an HDF5 file via `model.save()` or `keras.saving.save_model(model)`. This file format is considered legacy. We recommend using instead the native Keras format, e.g. `model.save('my_model.keras')` or `keras.saving.save_model(model, 'my_model.keras')`. \n"
          ]
        },
        {
          "metadata": {
            "tags": null
          },
          "name": "stdout",
          "output_type": "stream",
          "text": [
            "\u001b[1m105/105\u001b[0m \u001b[32m━━━━━━━━━━━━━━━━━━━━\u001b[0m\u001b[37m\u001b[0m \u001b[1m27s\u001b[0m 251ms/step - accuracy: 0.9536 - dice_coefficient: 0.6984 - iou_metric: 0.9140 - loss: 0.5792 - val_accuracy: 0.9566 - val_dice_coefficient: 0.6650 - val_iou_metric: 0.9169 - val_loss: 0.6056 - learning_rate: 1.0000e-04\n",
            "Epoch 58/100\n",
            "\u001b[1m105/105\u001b[0m \u001b[32m━━━━━━━━━━━━━━━━━━━━\u001b[0m\u001b[37m\u001b[0m \u001b[1m0s\u001b[0m 182ms/step - accuracy: 0.9554 - dice_coefficient: 0.7091 - iou_metric: 0.9169 - loss: 0.5452\n",
            "Epoch 58: val_dice_coefficient did not improve from 0.66504\n",
            "\u001b[1m105/105\u001b[0m \u001b[32m━━━━━━━━━━━━━━━━━━━━\u001b[0m\u001b[37m\u001b[0m \u001b[1m21s\u001b[0m 188ms/step - accuracy: 0.9554 - dice_coefficient: 0.7091 - iou_metric: 0.9169 - loss: 0.5452 - val_accuracy: 0.9549 - val_dice_coefficient: 0.6637 - val_iou_metric: 0.9140 - val_loss: 0.6097 - learning_rate: 1.0000e-04\n",
            "Epoch 59/100\n",
            "\u001b[1m105/105\u001b[0m \u001b[32m━━━━━━━━━━━━━━━━━━━━\u001b[0m\u001b[37m\u001b[0m \u001b[1m0s\u001b[0m 186ms/step - accuracy: 0.9530 - dice_coefficient: 0.7041 - iou_metric: 0.9128 - loss: 0.5631\n",
            "Epoch 59: val_dice_coefficient did not improve from 0.66504\n",
            "\u001b[1m105/105\u001b[0m \u001b[32m━━━━━━━━━━━━━━━━━━━━\u001b[0m\u001b[37m\u001b[0m \u001b[1m41s\u001b[0m 191ms/step - accuracy: 0.9530 - dice_coefficient: 0.7040 - iou_metric: 0.9128 - loss: 0.5632 - val_accuracy: 0.9542 - val_dice_coefficient: 0.6599 - val_iou_metric: 0.9133 - val_loss: 0.6102 - learning_rate: 1.0000e-04\n",
            "Epoch 60/100\n",
            "\u001b[1m105/105\u001b[0m \u001b[32m━━━━━━━━━━━━━━━━━━━━\u001b[0m\u001b[37m\u001b[0m \u001b[1m0s\u001b[0m 187ms/step - accuracy: 0.9533 - dice_coefficient: 0.7091 - iou_metric: 0.9132 - loss: 0.5605\n",
            "Epoch 60: val_dice_coefficient improved from 0.66504 to 0.66962, saving model to best_weed_model.h5\n"
          ]
        },
        {
          "metadata": {
            "tags": null
          },
          "name": "stderr",
          "output_type": "stream",
          "text": [
            "WARNING:absl:You are saving your model as an HDF5 file via `model.save()` or `keras.saving.save_model(model)`. This file format is considered legacy. We recommend using instead the native Keras format, e.g. `model.save('my_model.keras')` or `keras.saving.save_model(model, 'my_model.keras')`. \n"
          ]
        },
        {
          "metadata": {
            "tags": null
          },
          "name": "stdout",
          "output_type": "stream",
          "text": [
            "\u001b[1m105/105\u001b[0m \u001b[32m━━━━━━━━━━━━━━━━━━━━\u001b[0m\u001b[37m\u001b[0m \u001b[1m29s\u001b[0m 272ms/step - accuracy: 0.9533 - dice_coefficient: 0.7091 - iou_metric: 0.9132 - loss: 0.5604 - val_accuracy: 0.9562 - val_dice_coefficient: 0.6696 - val_iou_metric: 0.9158 - val_loss: 0.5900 - learning_rate: 1.0000e-04\n",
            "Epoch 61/100\n",
            "\u001b[1m105/105\u001b[0m \u001b[32m━━━━━━━━━━━━━━━━━━━━\u001b[0m\u001b[37m\u001b[0m \u001b[1m0s\u001b[0m 181ms/step - accuracy: 0.9527 - dice_coefficient: 0.7143 - iou_metric: 0.9127 - loss: 0.5593\n",
            "Epoch 61: val_dice_coefficient did not improve from 0.66962\n",
            "\u001b[1m105/105\u001b[0m \u001b[32m━━━━━━━━━━━━━━━━━━━━\u001b[0m\u001b[37m\u001b[0m \u001b[1m32s\u001b[0m 186ms/step - accuracy: 0.9527 - dice_coefficient: 0.7144 - iou_metric: 0.9127 - loss: 0.5590 - val_accuracy: 0.9539 - val_dice_coefficient: 0.6643 - val_iou_metric: 0.9122 - val_loss: 0.6010 - learning_rate: 1.0000e-04\n",
            "Epoch 62/100\n",
            "\u001b[1m105/105\u001b[0m \u001b[32m━━━━━━━━━━━━━━━━━━━━\u001b[0m\u001b[37m\u001b[0m \u001b[1m0s\u001b[0m 184ms/step - accuracy: 0.9561 - dice_coefficient: 0.7200 - iou_metric: 0.9182 - loss: 0.5318\n",
            "Epoch 62: val_dice_coefficient improved from 0.66962 to 0.67120, saving model to best_weed_model.h5\n"
          ]
        },
        {
          "metadata": {
            "tags": null
          },
          "name": "stderr",
          "output_type": "stream",
          "text": [
            "WARNING:absl:You are saving your model as an HDF5 file via `model.save()` or `keras.saving.save_model(model)`. This file format is considered legacy. We recommend using instead the native Keras format, e.g. `model.save('my_model.keras')` or `keras.saving.save_model(model, 'my_model.keras')`. \n"
          ]
        },
        {
          "metadata": {
            "tags": null
          },
          "name": "stdout",
          "output_type": "stream",
          "text": [
            "\u001b[1m105/105\u001b[0m \u001b[32m━━━━━━━━━━━━━━━━━━━━\u001b[0m\u001b[37m\u001b[0m \u001b[1m47s\u001b[0m 244ms/step - accuracy: 0.9561 - dice_coefficient: 0.7201 - iou_metric: 0.9182 - loss: 0.5317 - val_accuracy: 0.9576 - val_dice_coefficient: 0.6712 - val_iou_metric: 0.9203 - val_loss: 0.6052 - learning_rate: 1.0000e-04\n",
            "Epoch 63/100\n",
            "\u001b[1m105/105\u001b[0m \u001b[32m━━━━━━━━━━━━━━━━━━━━\u001b[0m\u001b[37m\u001b[0m \u001b[1m0s\u001b[0m 182ms/step - accuracy: 0.9552 - dice_coefficient: 0.7252 - iou_metric: 0.9167 - loss: 0.5195\n",
            "Epoch 63: val_dice_coefficient improved from 0.67120 to 0.67695, saving model to best_weed_model.h5\n"
          ]
        },
        {
          "metadata": {
            "tags": null
          },
          "name": "stderr",
          "output_type": "stream",
          "text": [
            "WARNING:absl:You are saving your model as an HDF5 file via `model.save()` or `keras.saving.save_model(model)`. This file format is considered legacy. We recommend using instead the native Keras format, e.g. `model.save('my_model.keras')` or `keras.saving.save_model(model, 'my_model.keras')`. \n"
          ]
        },
        {
          "metadata": {
            "tags": null
          },
          "name": "stdout",
          "output_type": "stream",
          "text": [
            "\u001b[1m105/105\u001b[0m \u001b[32m━━━━━━━━━━━━━━━━━━━━\u001b[0m\u001b[37m\u001b[0m \u001b[1m37s\u001b[0m 202ms/step - accuracy: 0.9552 - dice_coefficient: 0.7252 - iou_metric: 0.9167 - loss: 0.5196 - val_accuracy: 0.9557 - val_dice_coefficient: 0.6770 - val_iou_metric: 0.9169 - val_loss: 0.5844 - learning_rate: 1.0000e-04\n",
            "Epoch 64/100\n",
            "\u001b[1m105/105\u001b[0m \u001b[32m━━━━━━━━━━━━━━━━━━━━\u001b[0m\u001b[37m\u001b[0m \u001b[1m0s\u001b[0m 187ms/step - accuracy: 0.9572 - dice_coefficient: 0.7290 - iou_metric: 0.9201 - loss: 0.5164\n",
            "Epoch 64: val_dice_coefficient did not improve from 0.67695\n",
            "\u001b[1m105/105\u001b[0m \u001b[32m━━━━━━━━━━━━━━━━━━━━\u001b[0m\u001b[37m\u001b[0m \u001b[1m21s\u001b[0m 192ms/step - accuracy: 0.9572 - dice_coefficient: 0.7290 - iou_metric: 0.9201 - loss: 0.5165 - val_accuracy: 0.9575 - val_dice_coefficient: 0.6761 - val_iou_metric: 0.9203 - val_loss: 0.5837 - learning_rate: 1.0000e-04\n",
            "Epoch 65/100\n",
            "\u001b[1m105/105\u001b[0m \u001b[32m━━━━━━━━━━━━━━━━━━━━\u001b[0m\u001b[37m\u001b[0m \u001b[1m0s\u001b[0m 180ms/step - accuracy: 0.9564 - dice_coefficient: 0.7356 - iou_metric: 0.9186 - loss: 0.5134\n",
            "Epoch 65: val_dice_coefficient did not improve from 0.67695\n",
            "\u001b[1m105/105\u001b[0m \u001b[32m━━━━━━━━━━━━━━━━━━━━\u001b[0m\u001b[37m\u001b[0m \u001b[1m21s\u001b[0m 187ms/step - accuracy: 0.9564 - dice_coefficient: 0.7355 - iou_metric: 0.9186 - loss: 0.5134 - val_accuracy: 0.9540 - val_dice_coefficient: 0.6726 - val_iou_metric: 0.9134 - val_loss: 0.5807 - learning_rate: 1.0000e-04\n",
            "Epoch 66/100\n",
            "\u001b[1m105/105\u001b[0m \u001b[32m━━━━━━━━━━━━━━━━━━━━\u001b[0m\u001b[37m\u001b[0m \u001b[1m0s\u001b[0m 180ms/step - accuracy: 0.9567 - dice_coefficient: 0.7329 - iou_metric: 0.9194 - loss: 0.5147\n",
            "Epoch 66: val_dice_coefficient did not improve from 0.67695\n",
            "\u001b[1m105/105\u001b[0m \u001b[32m━━━━━━━━━━━━━━━━━━━━\u001b[0m\u001b[37m\u001b[0m \u001b[1m41s\u001b[0m 185ms/step - accuracy: 0.9567 - dice_coefficient: 0.7330 - iou_metric: 0.9194 - loss: 0.5147 - val_accuracy: 0.9522 - val_dice_coefficient: 0.6621 - val_iou_metric: 0.9112 - val_loss: 0.6140 - learning_rate: 1.0000e-04\n",
            "Epoch 67/100\n",
            "\u001b[1m105/105\u001b[0m \u001b[32m━━━━━━━━━━━━━━━━━━━━\u001b[0m\u001b[37m\u001b[0m \u001b[1m0s\u001b[0m 184ms/step - accuracy: 0.9569 - dice_coefficient: 0.7287 - iou_metric: 0.9199 - loss: 0.5251\n",
            "Epoch 67: val_dice_coefficient did not improve from 0.67695\n",
            "\u001b[1m105/105\u001b[0m \u001b[32m━━━━━━━━━━━━━━━━━━━━\u001b[0m\u001b[37m\u001b[0m \u001b[1m21s\u001b[0m 190ms/step - accuracy: 0.9569 - dice_coefficient: 0.7287 - iou_metric: 0.9198 - loss: 0.5250 - val_accuracy: 0.9550 - val_dice_coefficient: 0.6760 - val_iou_metric: 0.9150 - val_loss: 0.5812 - learning_rate: 1.0000e-04\n",
            "Epoch 68/100\n",
            "\u001b[1m105/105\u001b[0m \u001b[32m━━━━━━━━━━━━━━━━━━━━\u001b[0m\u001b[37m\u001b[0m \u001b[1m0s\u001b[0m 183ms/step - accuracy: 0.9565 - dice_coefficient: 0.7323 - iou_metric: 0.9189 - loss: 0.5134\n",
            "Epoch 68: val_dice_coefficient did not improve from 0.67695\n",
            "\u001b[1m105/105\u001b[0m \u001b[32m━━━━━━━━━━━━━━━━━━━━\u001b[0m\u001b[37m\u001b[0m \u001b[1m21s\u001b[0m 189ms/step - accuracy: 0.9565 - dice_coefficient: 0.7323 - iou_metric: 0.9189 - loss: 0.5134 - val_accuracy: 0.9522 - val_dice_coefficient: 0.6703 - val_iou_metric: 0.9115 - val_loss: 0.5991 - learning_rate: 1.0000e-04\n",
            "Epoch 69/100\n",
            "\u001b[1m105/105\u001b[0m \u001b[32m━━━━━━━━━━━━━━━━━━━━\u001b[0m\u001b[37m\u001b[0m \u001b[1m0s\u001b[0m 182ms/step - accuracy: 0.9585 - dice_coefficient: 0.7331 - iou_metric: 0.9225 - loss: 0.5090\n",
            "Epoch 69: val_dice_coefficient improved from 0.67695 to 0.68061, saving model to best_weed_model.h5\n"
          ]
        },
        {
          "metadata": {
            "tags": null
          },
          "name": "stderr",
          "output_type": "stream",
          "text": [
            "WARNING:absl:You are saving your model as an HDF5 file via `model.save()` or `keras.saving.save_model(model)`. This file format is considered legacy. We recommend using instead the native Keras format, e.g. `model.save('my_model.keras')` or `keras.saving.save_model(model, 'my_model.keras')`. \n"
          ]
        },
        {
          "metadata": {
            "tags": null
          },
          "name": "stdout",
          "output_type": "stream",
          "text": [
            "\u001b[1m105/105\u001b[0m \u001b[32m━━━━━━━━━━━━━━━━━━━━\u001b[0m\u001b[37m\u001b[0m \u001b[1m49s\u001b[0m 264ms/step - accuracy: 0.9585 - dice_coefficient: 0.7332 - iou_metric: 0.9225 - loss: 0.5088 - val_accuracy: 0.9580 - val_dice_coefficient: 0.6806 - val_iou_metric: 0.9211 - val_loss: 0.5868 - learning_rate: 1.0000e-04\n",
            "Epoch 70/100\n",
            "\u001b[1m105/105\u001b[0m \u001b[32m━━━━━━━━━━━━━━━━━━━━\u001b[0m\u001b[37m\u001b[0m \u001b[1m0s\u001b[0m 184ms/step - accuracy: 0.9590 - dice_coefficient: 0.7458 - iou_metric: 0.9231 - loss: 0.4847\n",
            "Epoch 70: val_dice_coefficient did not improve from 0.68061\n",
            "\u001b[1m105/105\u001b[0m \u001b[32m━━━━━━━━━━━━━━━━━━━━\u001b[0m\u001b[37m\u001b[0m \u001b[1m21s\u001b[0m 189ms/step - accuracy: 0.9590 - dice_coefficient: 0.7457 - iou_metric: 0.9231 - loss: 0.4848 - val_accuracy: 0.9580 - val_dice_coefficient: 0.6789 - val_iou_metric: 0.9212 - val_loss: 0.5871 - learning_rate: 1.0000e-04\n",
            "Epoch 71/100\n",
            "\u001b[1m105/105\u001b[0m \u001b[32m━━━━━━━━━━━━━━━━━━━━\u001b[0m\u001b[37m\u001b[0m \u001b[1m0s\u001b[0m 185ms/step - accuracy: 0.9566 - dice_coefficient: 0.7452 - iou_metric: 0.9189 - loss: 0.4885\n",
            "Epoch 71: val_dice_coefficient improved from 0.68061 to 0.68652, saving model to best_weed_model.h5\n"
          ]
        },
        {
          "metadata": {
            "tags": null
          },
          "name": "stderr",
          "output_type": "stream",
          "text": [
            "WARNING:absl:You are saving your model as an HDF5 file via `model.save()` or `keras.saving.save_model(model)`. This file format is considered legacy. We recommend using instead the native Keras format, e.g. `model.save('my_model.keras')` or `keras.saving.save_model(model, 'my_model.keras')`. \n"
          ]
        },
        {
          "metadata": {
            "tags": null
          },
          "name": "stdout",
          "output_type": "stream",
          "text": [
            "\u001b[1m105/105\u001b[0m \u001b[32m━━━━━━━━━━━━━━━━━━━━\u001b[0m\u001b[37m\u001b[0m \u001b[1m27s\u001b[0m 250ms/step - accuracy: 0.9566 - dice_coefficient: 0.7452 - iou_metric: 0.9190 - loss: 0.4885 - val_accuracy: 0.9577 - val_dice_coefficient: 0.6865 - val_iou_metric: 0.9207 - val_loss: 0.5663 - learning_rate: 1.0000e-04\n",
            "Epoch 72/100\n",
            "\u001b[1m105/105\u001b[0m \u001b[32m━━━━━━━━━━━━━━━━━━━━\u001b[0m\u001b[37m\u001b[0m \u001b[1m0s\u001b[0m 177ms/step - accuracy: 0.9589 - dice_coefficient: 0.7578 - iou_metric: 0.9231 - loss: 0.4664\n",
            "Epoch 72: val_dice_coefficient did not improve from 0.68652\n",
            "\u001b[1m105/105\u001b[0m \u001b[32m━━━━━━━━━━━━━━━━━━━━\u001b[0m\u001b[37m\u001b[0m \u001b[1m34s\u001b[0m 182ms/step - accuracy: 0.9589 - dice_coefficient: 0.7577 - iou_metric: 0.9231 - loss: 0.4665 - val_accuracy: 0.9555 - val_dice_coefficient: 0.6834 - val_iou_metric: 0.9175 - val_loss: 0.5756 - learning_rate: 1.0000e-04\n",
            "Epoch 73/100\n",
            "\u001b[1m105/105\u001b[0m \u001b[32m━━━━━━━━━━━━━━━━━━━━\u001b[0m\u001b[37m\u001b[0m \u001b[1m0s\u001b[0m 185ms/step - accuracy: 0.9578 - dice_coefficient: 0.7548 - iou_metric: 0.9214 - loss: 0.4730\n",
            "Epoch 73: val_dice_coefficient did not improve from 0.68652\n",
            "\u001b[1m105/105\u001b[0m \u001b[32m━━━━━━━━━━━━━━━━━━━━\u001b[0m\u001b[37m\u001b[0m \u001b[1m21s\u001b[0m 190ms/step - accuracy: 0.9579 - dice_coefficient: 0.7548 - iou_metric: 0.9214 - loss: 0.4729 - val_accuracy: 0.9559 - val_dice_coefficient: 0.6841 - val_iou_metric: 0.9173 - val_loss: 0.5605 - learning_rate: 1.0000e-04\n",
            "Epoch 74/100\n",
            "\u001b[1m105/105\u001b[0m \u001b[32m━━━━━━━━━━━━━━━━━━━━\u001b[0m\u001b[37m\u001b[0m \u001b[1m0s\u001b[0m 185ms/step - accuracy: 0.9585 - dice_coefficient: 0.7567 - iou_metric: 0.9223 - loss: 0.4727\n",
            "Epoch 74: val_dice_coefficient improved from 0.68652 to 0.69150, saving model to best_weed_model.h5\n"
          ]
        },
        {
          "metadata": {
            "tags": null
          },
          "name": "stderr",
          "output_type": "stream",
          "text": [
            "WARNING:absl:You are saving your model as an HDF5 file via `model.save()` or `keras.saving.save_model(model)`. This file format is considered legacy. We recommend using instead the native Keras format, e.g. `model.save('my_model.keras')` or `keras.saving.save_model(model, 'my_model.keras')`. \n"
          ]
        },
        {
          "metadata": {
            "tags": null
          },
          "name": "stdout",
          "output_type": "stream",
          "text": [
            "\u001b[1m105/105\u001b[0m \u001b[32m━━━━━━━━━━━━━━━━━━━━\u001b[0m\u001b[37m\u001b[0m \u001b[1m28s\u001b[0m 259ms/step - accuracy: 0.9585 - dice_coefficient: 0.7567 - iou_metric: 0.9223 - loss: 0.4727 - val_accuracy: 0.9556 - val_dice_coefficient: 0.6915 - val_iou_metric: 0.9175 - val_loss: 0.5643 - learning_rate: 1.0000e-04\n",
            "Epoch 75/100\n",
            "\u001b[1m105/105\u001b[0m \u001b[32m━━━━━━━━━━━━━━━━━━━━\u001b[0m\u001b[37m\u001b[0m \u001b[1m0s\u001b[0m 178ms/step - accuracy: 0.9593 - dice_coefficient: 0.7457 - iou_metric: 0.9239 - loss: 0.4845\n",
            "Epoch 75: val_dice_coefficient improved from 0.69150 to 0.69808, saving model to best_weed_model.h5\n"
          ]
        },
        {
          "metadata": {
            "tags": null
          },
          "name": "stderr",
          "output_type": "stream",
          "text": [
            "WARNING:absl:You are saving your model as an HDF5 file via `model.save()` or `keras.saving.save_model(model)`. This file format is considered legacy. We recommend using instead the native Keras format, e.g. `model.save('my_model.keras')` or `keras.saving.save_model(model, 'my_model.keras')`. \n"
          ]
        },
        {
          "metadata": {
            "tags": null
          },
          "name": "stdout",
          "output_type": "stream",
          "text": [
            "\u001b[1m105/105\u001b[0m \u001b[32m━━━━━━━━━━━━━━━━━━━━\u001b[0m\u001b[37m\u001b[0m \u001b[1m40s\u001b[0m 246ms/step - accuracy: 0.9593 - dice_coefficient: 0.7457 - iou_metric: 0.9239 - loss: 0.4845 - val_accuracy: 0.9575 - val_dice_coefficient: 0.6981 - val_iou_metric: 0.9200 - val_loss: 0.5612 - learning_rate: 1.0000e-04\n",
            "Epoch 76/100\n",
            "\u001b[1m105/105\u001b[0m \u001b[32m━━━━━━━━━━━━━━━━━━━━\u001b[0m\u001b[37m\u001b[0m \u001b[1m0s\u001b[0m 182ms/step - accuracy: 0.9574 - dice_coefficient: 0.7543 - iou_metric: 0.9206 - loss: 0.4773\n",
            "Epoch 76: val_dice_coefficient did not improve from 0.69808\n",
            "\u001b[1m105/105\u001b[0m \u001b[32m━━━━━━━━━━━━━━━━━━━━\u001b[0m\u001b[37m\u001b[0m \u001b[1m21s\u001b[0m 188ms/step - accuracy: 0.9574 - dice_coefficient: 0.7542 - iou_metric: 0.9206 - loss: 0.4773 - val_accuracy: 0.9583 - val_dice_coefficient: 0.6966 - val_iou_metric: 0.9214 - val_loss: 0.5476 - learning_rate: 1.0000e-04\n",
            "Epoch 77/100\n",
            "\u001b[1m105/105\u001b[0m \u001b[32m━━━━━━━━━━━━━━━━━━━━\u001b[0m\u001b[37m\u001b[0m \u001b[1m0s\u001b[0m 182ms/step - accuracy: 0.9601 - dice_coefficient: 0.7611 - iou_metric: 0.9252 - loss: 0.4567\n",
            "Epoch 77: val_dice_coefficient improved from 0.69808 to 0.69910, saving model to best_weed_model.h5\n"
          ]
        },
        {
          "metadata": {
            "tags": null
          },
          "name": "stderr",
          "output_type": "stream",
          "text": [
            "WARNING:absl:You are saving your model as an HDF5 file via `model.save()` or `keras.saving.save_model(model)`. This file format is considered legacy. We recommend using instead the native Keras format, e.g. `model.save('my_model.keras')` or `keras.saving.save_model(model, 'my_model.keras')`. \n"
          ]
        },
        {
          "metadata": {
            "tags": null
          },
          "name": "stdout",
          "output_type": "stream",
          "text": [
            "\u001b[1m105/105\u001b[0m \u001b[32m━━━━━━━━━━━━━━━━━━━━\u001b[0m\u001b[37m\u001b[0m \u001b[1m47s\u001b[0m 248ms/step - accuracy: 0.9601 - dice_coefficient: 0.7611 - iou_metric: 0.9252 - loss: 0.4566 - val_accuracy: 0.9578 - val_dice_coefficient: 0.6991 - val_iou_metric: 0.9210 - val_loss: 0.5472 - learning_rate: 1.0000e-04\n",
            "Epoch 78/100\n",
            "\u001b[1m105/105\u001b[0m \u001b[32m━━━━━━━━━━━━━━━━━━━━\u001b[0m\u001b[37m\u001b[0m \u001b[1m0s\u001b[0m 182ms/step - accuracy: 0.9605 - dice_coefficient: 0.7673 - iou_metric: 0.9259 - loss: 0.4516\n",
            "Epoch 78: val_dice_coefficient did not improve from 0.69910\n",
            "\u001b[1m105/105\u001b[0m \u001b[32m━━━━━━━━━━━━━━━━━━━━\u001b[0m\u001b[37m\u001b[0m \u001b[1m35s\u001b[0m 187ms/step - accuracy: 0.9604 - dice_coefficient: 0.7673 - iou_metric: 0.9258 - loss: 0.4517 - val_accuracy: 0.9580 - val_dice_coefficient: 0.6900 - val_iou_metric: 0.9211 - val_loss: 0.5690 - learning_rate: 1.0000e-04\n",
            "Epoch 79/100\n",
            "\u001b[1m105/105\u001b[0m \u001b[32m━━━━━━━━━━━━━━━━━━━━\u001b[0m\u001b[37m\u001b[0m \u001b[1m0s\u001b[0m 182ms/step - accuracy: 0.9609 - dice_coefficient: 0.7742 - iou_metric: 0.9266 - loss: 0.4359\n",
            "Epoch 79: val_dice_coefficient did not improve from 0.69910\n",
            "\u001b[1m105/105\u001b[0m \u001b[32m━━━━━━━━━━━━━━━━━━━━\u001b[0m\u001b[37m\u001b[0m \u001b[1m41s\u001b[0m 187ms/step - accuracy: 0.9608 - dice_coefficient: 0.7740 - iou_metric: 0.9265 - loss: 0.4361 - val_accuracy: 0.9577 - val_dice_coefficient: 0.6960 - val_iou_metric: 0.9214 - val_loss: 0.5481 - learning_rate: 1.0000e-04\n",
            "Epoch 80/100\n",
            "\u001b[1m105/105\u001b[0m \u001b[32m━━━━━━━━━━━━━━━━━━━━\u001b[0m\u001b[37m\u001b[0m \u001b[1m0s\u001b[0m 183ms/step - accuracy: 0.9599 - dice_coefficient: 0.7643 - iou_metric: 0.9249 - loss: 0.4535\n",
            "Epoch 80: val_dice_coefficient did not improve from 0.69910\n",
            "\u001b[1m105/105\u001b[0m \u001b[32m━━━━━━━━━━━━━━━━━━━━\u001b[0m\u001b[37m\u001b[0m \u001b[1m21s\u001b[0m 191ms/step - accuracy: 0.9599 - dice_coefficient: 0.7642 - iou_metric: 0.9249 - loss: 0.4537 - val_accuracy: 0.9521 - val_dice_coefficient: 0.6718 - val_iou_metric: 0.9117 - val_loss: 0.5873 - learning_rate: 1.0000e-04\n",
            "Epoch 81/100\n",
            "\u001b[1m105/105\u001b[0m \u001b[32m━━━━━━━━━━━━━━━━━━━━\u001b[0m\u001b[37m\u001b[0m \u001b[1m0s\u001b[0m 180ms/step - accuracy: 0.9611 - dice_coefficient: 0.7752 - iou_metric: 0.9271 - loss: 0.4345\n",
            "Epoch 81: val_dice_coefficient did not improve from 0.69910\n",
            "\u001b[1m105/105\u001b[0m \u001b[32m━━━━━━━━━━━━━━━━━━━━\u001b[0m\u001b[37m\u001b[0m \u001b[1m20s\u001b[0m 185ms/step - accuracy: 0.9611 - dice_coefficient: 0.7752 - iou_metric: 0.9270 - loss: 0.4347 - val_accuracy: 0.9589 - val_dice_coefficient: 0.6985 - val_iou_metric: 0.9234 - val_loss: 0.5583 - learning_rate: 1.0000e-04\n",
            "Epoch 82/100\n",
            "\u001b[1m105/105\u001b[0m \u001b[32m━━━━━━━━━━━━━━━━━━━━\u001b[0m\u001b[37m\u001b[0m \u001b[1m0s\u001b[0m 180ms/step - accuracy: 0.9607 - dice_coefficient: 0.7730 - iou_metric: 0.9261 - loss: 0.4398\n",
            "Epoch 82: val_dice_coefficient did not improve from 0.69910\n",
            "\u001b[1m105/105\u001b[0m \u001b[32m━━━━━━━━━━━━━━━━━━━━\u001b[0m\u001b[37m\u001b[0m \u001b[1m20s\u001b[0m 185ms/step - accuracy: 0.9607 - dice_coefficient: 0.7729 - iou_metric: 0.9261 - loss: 0.4399 - val_accuracy: 0.9513 - val_dice_coefficient: 0.6654 - val_iou_metric: 0.9095 - val_loss: 0.6247 - learning_rate: 1.0000e-04\n",
            "Epoch 83/100\n",
            "\u001b[1m105/105\u001b[0m \u001b[32m━━━━━━━━━━━━━━━━━━━━\u001b[0m\u001b[37m\u001b[0m \u001b[1m0s\u001b[0m 180ms/step - accuracy: 0.9598 - dice_coefficient: 0.7589 - iou_metric: 0.9245 - loss: 0.4627\n",
            "Epoch 83: val_dice_coefficient did not improve from 0.69910\n",
            "\u001b[1m105/105\u001b[0m \u001b[32m━━━━━━━━━━━━━━━━━━━━\u001b[0m\u001b[37m\u001b[0m \u001b[1m21s\u001b[0m 188ms/step - accuracy: 0.9598 - dice_coefficient: 0.7589 - iou_metric: 0.9245 - loss: 0.4626 - val_accuracy: 0.9552 - val_dice_coefficient: 0.6918 - val_iou_metric: 0.9172 - val_loss: 0.5560 - learning_rate: 1.0000e-04\n",
            "Epoch 84/100\n",
            "\u001b[1m105/105\u001b[0m \u001b[32m━━━━━━━━━━━━━━━━━━━━\u001b[0m\u001b[37m\u001b[0m \u001b[1m0s\u001b[0m 183ms/step - accuracy: 0.9583 - dice_coefficient: 0.7759 - iou_metric: 0.9225 - loss: 0.4288\n",
            "Epoch 84: val_dice_coefficient did not improve from 0.69910\n",
            "\u001b[1m105/105\u001b[0m \u001b[32m━━━━━━━━━━━━━━━━━━━━\u001b[0m\u001b[37m\u001b[0m \u001b[1m41s\u001b[0m 188ms/step - accuracy: 0.9583 - dice_coefficient: 0.7759 - iou_metric: 0.9226 - loss: 0.4288 - val_accuracy: 0.9519 - val_dice_coefficient: 0.6927 - val_iou_metric: 0.9113 - val_loss: 0.5460 - learning_rate: 1.0000e-04\n",
            "Epoch 85/100\n",
            "\u001b[1m105/105\u001b[0m \u001b[32m━━━━━━━━━━━━━━━━━━━━\u001b[0m\u001b[37m\u001b[0m \u001b[1m0s\u001b[0m 186ms/step - accuracy: 0.9619 - dice_coefficient: 0.7748 - iou_metric: 0.9283 - loss: 0.4269\n",
            "Epoch 85: val_dice_coefficient did not improve from 0.69910\n",
            "\u001b[1m105/105\u001b[0m \u001b[32m━━━━━━━━━━━━━━━━━━━━\u001b[0m\u001b[37m\u001b[0m \u001b[1m21s\u001b[0m 191ms/step - accuracy: 0.9619 - dice_coefficient: 0.7747 - iou_metric: 0.9283 - loss: 0.4270 - val_accuracy: 0.9607 - val_dice_coefficient: 0.6942 - val_iou_metric: 0.9258 - val_loss: 0.5610 - learning_rate: 1.0000e-04\n",
            "Epoch 86/100\n",
            "\u001b[1m105/105\u001b[0m \u001b[32m━━━━━━━━━━━━━━━━━━━━\u001b[0m\u001b[37m\u001b[0m \u001b[1m0s\u001b[0m 181ms/step - accuracy: 0.9608 - dice_coefficient: 0.7701 - iou_metric: 0.9264 - loss: 0.4478\n",
            "Epoch 86: val_dice_coefficient improved from 0.69910 to 0.70554, saving model to best_weed_model.h5\n"
          ]
        },
        {
          "metadata": {
            "tags": null
          },
          "name": "stderr",
          "output_type": "stream",
          "text": [
            "WARNING:absl:You are saving your model as an HDF5 file via `model.save()` or `keras.saving.save_model(model)`. This file format is considered legacy. We recommend using instead the native Keras format, e.g. `model.save('my_model.keras')` or `keras.saving.save_model(model, 'my_model.keras')`. \n"
          ]
        },
        {
          "output_type": "stream",
          "name": "stdout",
          "text": [
            "\u001b[1m105/105\u001b[0m \u001b[32m━━━━━━━━━━━━━━━━━━━━\u001b[0m\u001b[37m\u001b[0m \u001b[1m31s\u001b[0m 292ms/step - accuracy: 0.9608 - dice_coefficient: 0.7701 - iou_metric: 0.9264 - loss: 0.4479 - val_accuracy: 0.9616 - val_dice_coefficient: 0.7055 - val_iou_metric: 0.9272 - val_loss: 0.5338 - learning_rate: 1.0000e-04\n",
            "Epoch 87/100\n",
            "\u001b[1m105/105\u001b[0m \u001b[32m━━━━━━━━━━━━━━━━━━━━\u001b[0m\u001b[37m\u001b[0m \u001b[1m0s\u001b[0m 178ms/step - accuracy: 0.9604 - dice_coefficient: 0.7786 - iou_metric: 0.9257 - loss: 0.4251\n",
            "Epoch 87: val_dice_coefficient did not improve from 0.70554\n",
            "\u001b[1m105/105\u001b[0m \u001b[32m━━━━━━━━━━━━━━━━━━━━\u001b[0m\u001b[37m\u001b[0m \u001b[1m20s\u001b[0m 183ms/step - accuracy: 0.9604 - dice_coefficient: 0.7785 - iou_metric: 0.9257 - loss: 0.4252 - val_accuracy: 0.9576 - val_dice_coefficient: 0.6972 - val_iou_metric: 0.9204 - val_loss: 0.5448 - learning_rate: 1.0000e-04\n",
            "Epoch 88/100\n",
            "\u001b[1m105/105\u001b[0m \u001b[32m━━━━━━━━━━━━━━━━━━━━\u001b[0m\u001b[37m\u001b[0m \u001b[1m0s\u001b[0m 184ms/step - accuracy: 0.9603 - dice_coefficient: 0.7716 - iou_metric: 0.9254 - loss: 0.4425\n",
            "Epoch 88: val_dice_coefficient did not improve from 0.70554\n",
            "\u001b[1m105/105\u001b[0m \u001b[32m━━━━━━━━━━━━━━━━━━━━\u001b[0m\u001b[37m\u001b[0m \u001b[1m21s\u001b[0m 189ms/step - accuracy: 0.9603 - dice_coefficient: 0.7716 - iou_metric: 0.9254 - loss: 0.4425 - val_accuracy: 0.9562 - val_dice_coefficient: 0.7051 - val_iou_metric: 0.9182 - val_loss: 0.5236 - learning_rate: 1.0000e-04\n",
            "Epoch 89/100\n",
            "\u001b[1m105/105\u001b[0m \u001b[32m━━━━━━━━━━━━━━━━━━━━\u001b[0m\u001b[37m\u001b[0m \u001b[1m0s\u001b[0m 183ms/step - accuracy: 0.9607 - dice_coefficient: 0.7719 - iou_metric: 0.9266 - loss: 0.4530\n",
            "Epoch 89: val_dice_coefficient did not improve from 0.70554\n",
            "\u001b[1m105/105\u001b[0m \u001b[32m━━━━━━━━━━━━━━━━━━━━\u001b[0m\u001b[37m\u001b[0m \u001b[1m20s\u001b[0m 188ms/step - accuracy: 0.9607 - dice_coefficient: 0.7719 - iou_metric: 0.9266 - loss: 0.4529 - val_accuracy: 0.9600 - val_dice_coefficient: 0.7053 - val_iou_metric: 0.9245 - val_loss: 0.5329 - learning_rate: 1.0000e-04\n",
            "Epoch 90/100\n",
            "\u001b[1m105/105\u001b[0m \u001b[32m━━━━━━━━━━━━━━━━━━━━\u001b[0m\u001b[37m\u001b[0m \u001b[1m0s\u001b[0m 186ms/step - accuracy: 0.9575 - dice_coefficient: 0.7682 - iou_metric: 0.9210 - loss: 0.4515\n",
            "Epoch 90: val_dice_coefficient did not improve from 0.70554\n",
            "\u001b[1m105/105\u001b[0m \u001b[32m━━━━━━━━━━━━━━━━━━━━\u001b[0m\u001b[37m\u001b[0m \u001b[1m21s\u001b[0m 191ms/step - accuracy: 0.9575 - dice_coefficient: 0.7682 - iou_metric: 0.9210 - loss: 0.4515 - val_accuracy: 0.9590 - val_dice_coefficient: 0.6996 - val_iou_metric: 0.9228 - val_loss: 0.5386 - learning_rate: 1.0000e-04\n",
            "Epoch 91/100\n",
            "\u001b[1m105/105\u001b[0m \u001b[32m━━━━━━━━━━━━━━━━━━━━\u001b[0m\u001b[37m\u001b[0m \u001b[1m0s\u001b[0m 181ms/step - accuracy: 0.9623 - dice_coefficient: 0.7860 - iou_metric: 0.9290 - loss: 0.4112\n",
            "Epoch 91: val_dice_coefficient did not improve from 0.70554\n",
            "\u001b[1m105/105\u001b[0m \u001b[32m━━━━━━━━━━━━━━━━━━━━\u001b[0m\u001b[37m\u001b[0m \u001b[1m41s\u001b[0m 186ms/step - accuracy: 0.9623 - dice_coefficient: 0.7860 - iou_metric: 0.9290 - loss: 0.4113 - val_accuracy: 0.9608 - val_dice_coefficient: 0.7005 - val_iou_metric: 0.9263 - val_loss: 0.5495 - learning_rate: 1.0000e-04\n",
            "Epoch 92/100\n",
            "\u001b[1m105/105\u001b[0m \u001b[32m━━━━━━━━━━━━━━━━━━━━\u001b[0m\u001b[37m\u001b[0m \u001b[1m0s\u001b[0m 187ms/step - accuracy: 0.9611 - dice_coefficient: 0.7810 - iou_metric: 0.9270 - loss: 0.4190\n",
            "Epoch 92: val_dice_coefficient did not improve from 0.70554\n",
            "\u001b[1m105/105\u001b[0m \u001b[32m━━━━━━━━━━━━━━━━━━━━\u001b[0m\u001b[37m\u001b[0m \u001b[1m22s\u001b[0m 192ms/step - accuracy: 0.9611 - dice_coefficient: 0.7810 - iou_metric: 0.9270 - loss: 0.4190 - val_accuracy: 0.9594 - val_dice_coefficient: 0.7011 - val_iou_metric: 0.9239 - val_loss: 0.5478 - learning_rate: 1.0000e-04\n",
            "Epoch 93/100\n",
            "\u001b[1m105/105\u001b[0m \u001b[32m━━━━━━━━━━━━━━━━━━━━\u001b[0m\u001b[37m\u001b[0m \u001b[1m0s\u001b[0m 184ms/step - accuracy: 0.9615 - dice_coefficient: 0.7851 - iou_metric: 0.9278 - loss: 0.4123\n",
            "Epoch 93: val_dice_coefficient improved from 0.70554 to 0.70672, saving model to best_weed_model.h5\n"
          ]
        },
        {
          "output_type": "stream",
          "name": "stderr",
          "text": [
            "WARNING:absl:You are saving your model as an HDF5 file via `model.save()` or `keras.saving.save_model(model)`. This file format is considered legacy. We recommend using instead the native Keras format, e.g. `model.save('my_model.keras')` or `keras.saving.save_model(model, 'my_model.keras')`. \n"
          ]
        },
        {
          "output_type": "stream",
          "name": "stdout",
          "text": [
            "\b\b\b\b\b\b\b\b\b\b\b\b\b\b\b\b\b\b\b\b\b\b\b\b\b\b\b\b\b\b\b\b\b\b\b\b\b\b\b\b\b\b\b\b\b\b\b\b\b\b\b\b\b\b\b\b\b\b\b\b\b\b\b\b\b\b\b\b\b\b\b\b\b\b\b\b\b\b\b\b\b\b\b\b\b\b\b\b\b\b\b\b\b\b\b\b\b\b\b\b\b\b\b\b\b\b\b\b\b\b\b\b\b\b\b\b\b\b\b\b\b\b\b\b\r\u001b[1m105/105\u001b[0m \u001b[32m━━━━━━━━━━━━━━━━━━━━\u001b[0m\u001b[37m\u001b[0m \u001b[1m48s\u001b[0m 264ms/step - accuracy: 0.9615 - dice_coefficient: 0.7850 - iou_metric: 0.9278 - loss: 0.4124 - val_accuracy: 0.9596 - val_dice_coefficient: 0.7067 - val_iou_metric: 0.9244 - val_loss: 0.5340 - learning_rate: 1.0000e-04\n",
            "Epoch 94/100\n",
            "\u001b[1m105/105\u001b[0m \u001b[32m━━━━━━━━━━━━━━━━━━━━\u001b[0m\u001b[37m\u001b[0m \u001b[1m0s\u001b[0m 186ms/step - accuracy: 0.9631 - dice_coefficient: 0.7880 - iou_metric: 0.9305 - loss: 0.4055\n",
            "Epoch 94: val_dice_coefficient did not improve from 0.70672\n",
            "\u001b[1m105/105\u001b[0m \u001b[32m━━━━━━━━━━━━━━━━━━━━\u001b[0m\u001b[37m\u001b[0m \u001b[1m33s\u001b[0m 191ms/step - accuracy: 0.9631 - dice_coefficient: 0.7880 - iou_metric: 0.9305 - loss: 0.4057 - val_accuracy: 0.9592 - val_dice_coefficient: 0.7044 - val_iou_metric: 0.9240 - val_loss: 0.5462 - learning_rate: 1.0000e-04\n",
            "Epoch 95/100\n",
            "\u001b[1m105/105\u001b[0m \u001b[32m━━━━━━━━━━━━━━━━━━━━\u001b[0m\u001b[37m\u001b[0m \u001b[1m0s\u001b[0m 187ms/step - accuracy: 0.9607 - dice_coefficient: 0.7776 - iou_metric: 0.9264 - loss: 0.4269\n",
            "Epoch 95: val_dice_coefficient did not improve from 0.70672\n",
            "\u001b[1m105/105\u001b[0m \u001b[32m━━━━━━━━━━━━━━━━━━━━\u001b[0m\u001b[37m\u001b[0m \u001b[1m21s\u001b[0m 193ms/step - accuracy: 0.9607 - dice_coefficient: 0.7777 - iou_metric: 0.9264 - loss: 0.4269 - val_accuracy: 0.9587 - val_dice_coefficient: 0.6960 - val_iou_metric: 0.9230 - val_loss: 0.5543 - learning_rate: 1.0000e-04\n",
            "Epoch 96/100\n",
            "\u001b[1m105/105\u001b[0m \u001b[32m━━━━━━━━━━━━━━━━━━━━\u001b[0m\u001b[37m\u001b[0m \u001b[1m0s\u001b[0m 182ms/step - accuracy: 0.9596 - dice_coefficient: 0.7827 - iou_metric: 0.9243 - loss: 0.4239\n",
            "Epoch 96: val_dice_coefficient did not improve from 0.70672\n",
            "\u001b[1m105/105\u001b[0m \u001b[32m━━━━━━━━━━━━━━━━━━━━\u001b[0m\u001b[37m\u001b[0m \u001b[1m20s\u001b[0m 187ms/step - accuracy: 0.9596 - dice_coefficient: 0.7827 - iou_metric: 0.9243 - loss: 0.4239 - val_accuracy: 0.9611 - val_dice_coefficient: 0.7013 - val_iou_metric: 0.9266 - val_loss: 0.5522 - learning_rate: 1.0000e-04\n",
            "Epoch 97/100\n",
            "\u001b[1m105/105\u001b[0m \u001b[32m━━━━━━━━━━━━━━━━━━━━\u001b[0m\u001b[37m\u001b[0m \u001b[1m0s\u001b[0m 185ms/step - accuracy: 0.9622 - dice_coefficient: 0.7908 - iou_metric: 0.9292 - loss: 0.4009\n",
            "Epoch 97: val_dice_coefficient improved from 0.70672 to 0.70696, saving model to best_weed_model.h5\n"
          ]
        },
        {
          "output_type": "stream",
          "name": "stderr",
          "text": [
            "WARNING:absl:You are saving your model as an HDF5 file via `model.save()` or `keras.saving.save_model(model)`. This file format is considered legacy. We recommend using instead the native Keras format, e.g. `model.save('my_model.keras')` or `keras.saving.save_model(model, 'my_model.keras')`. \n"
          ]
        },
        {
          "output_type": "stream",
          "name": "stdout",
          "text": [
            "\b\b\b\b\b\b\b\b\b\b\b\b\b\b\b\b\b\b\b\b\b\b\b\b\b\b\b\b\b\b\b\b\b\b\b\b\b\b\b\b\b\b\b\b\b\b\b\b\b\b\b\b\b\b\b\b\b\b\b\b\b\b\b\b\b\b\b\b\b\b\b\b\b\b\b\b\b\b\b\b\b\b\b\b\b\b\b\b\b\b\b\b\b\b\b\b\b\b\b\b\b\b\b\b\b\b\b\b\b\b\b\b\b\b\b\b\b\b\b\b\b\b\b\b\r\u001b[1m105/105\u001b[0m \u001b[32m━━━━━━━━━━━━━━━━━━━━\u001b[0m\u001b[37m\u001b[0m \u001b[1m33s\u001b[0m 308ms/step - accuracy: 0.9622 - dice_coefficient: 0.7908 - iou_metric: 0.9292 - loss: 0.4009 - val_accuracy: 0.9599 - val_dice_coefficient: 0.7070 - val_iou_metric: 0.9253 - val_loss: 0.5381 - learning_rate: 1.0000e-04\n",
            "Epoch 98/100\n",
            "\u001b[1m105/105\u001b[0m \u001b[32m━━━━━━━━━━━━━━━━━━━━\u001b[0m\u001b[37m\u001b[0m \u001b[1m0s\u001b[0m 186ms/step - accuracy: 0.9620 - dice_coefficient: 0.7887 - iou_metric: 0.9287 - loss: 0.4099\n",
            "Epoch 98: val_dice_coefficient did not improve from 0.70696\n",
            "\u001b[1m105/105\u001b[0m \u001b[32m━━━━━━━━━━━━━━━━━━━━\u001b[0m\u001b[37m\u001b[0m \u001b[1m21s\u001b[0m 191ms/step - accuracy: 0.9620 - dice_coefficient: 0.7887 - iou_metric: 0.9287 - loss: 0.4099 - val_accuracy: 0.9554 - val_dice_coefficient: 0.7033 - val_iou_metric: 0.9165 - val_loss: 0.5368 - learning_rate: 1.0000e-04\n",
            "Epoch 99/100\n",
            "\u001b[1m105/105\u001b[0m \u001b[32m━━━━━━━━━━━━━━━━━━━━\u001b[0m\u001b[37m\u001b[0m \u001b[1m0s\u001b[0m 184ms/step - accuracy: 0.9627 - dice_coefficient: 0.7980 - iou_metric: 0.9300 - loss: 0.3905\n",
            "Epoch 99: val_dice_coefficient did not improve from 0.70696\n",
            "\u001b[1m105/105\u001b[0m \u001b[32m━━━━━━━━━━━━━━━━━━━━\u001b[0m\u001b[37m\u001b[0m \u001b[1m42s\u001b[0m 189ms/step - accuracy: 0.9627 - dice_coefficient: 0.7979 - iou_metric: 0.9300 - loss: 0.3906 - val_accuracy: 0.9560 - val_dice_coefficient: 0.7048 - val_iou_metric: 0.9183 - val_loss: 0.5270 - learning_rate: 1.0000e-04\n",
            "Epoch 100/100\n",
            "\u001b[1m105/105\u001b[0m \u001b[32m━━━━━━━━━━━━━━━━━━━━\u001b[0m\u001b[37m\u001b[0m \u001b[1m0s\u001b[0m 188ms/step - accuracy: 0.9616 - dice_coefficient: 0.7867 - iou_metric: 0.9278 - loss: 0.4147\n",
            "Epoch 100: val_dice_coefficient did not improve from 0.70696\n",
            "\u001b[1m105/105\u001b[0m \u001b[32m━━━━━━━━━━━━━━━━━━━━\u001b[0m\u001b[37m\u001b[0m \u001b[1m21s\u001b[0m 193ms/step - accuracy: 0.9616 - dice_coefficient: 0.7866 - iou_metric: 0.9279 - loss: 0.4148 - val_accuracy: 0.9595 - val_dice_coefficient: 0.7068 - val_iou_metric: 0.9235 - val_loss: 0.5270 - learning_rate: 1.0000e-04\n",
            "Visualizando predicciones...\n",
            "Visualizing 4 samples from the validation set...\n",
            "\u001b[1m1/1\u001b[0m \u001b[32m━━━━━━━━━━━━━━━━━━━━\u001b[0m\u001b[37m\u001b[0m \u001b[1m9s\u001b[0m 9s/step\n"
          ]
        },
        {
          "output_type": "display_data",
          "data": {
            "text/plain": [
              "<Figure size 1500x2000 with 12 Axes>"
            ],
            "image/png": "[encoded data removed]"
          },
          "metadata": {}
        },
        {
          "output_type": "stream",
          "name": "stdout",
          "text": [
            "¡Entrenamiento completado! El mejor modelo se guardó como 'best_weed_model.h5'\n"
          ]
        },
        {
          "output_type": "display_data",
          "data": {
            "text/plain": [
              "<Figure size 1200x500 with 2 Axes>"
            ],
            "image/png": "[encoded data removed]"
          },
          "metadata": {}
        },
        {
          "output_type": "stream",
          "name": "stdout",
          "text": [
            "\n",
            "Evaluando el modelo final en el conjunto de validación:\n",
            "\u001b[1m14/14\u001b[0m \u001b[32m━━━━━━━━━━━━━━━━━━━━\u001b[0m\u001b[37m\u001b[0m \u001b[1m1s\u001b[0m 41ms/step - accuracy: 0.9601 - dice_coefficient: 0.7049 - iou_metric: 0.9254 - loss: 0.5825\n",
            "Validation Loss: 0.5381\n",
            "Validation Dice Coefficient: 0.7070\n",
            "Validation IoU: 0.9253\n",
            "Validation Accuracy: 0.9599\n",
            "IoU for Background: 0.9489\n",
            "IoU for Cow-tongue: 0.9114\n",
            "IoU for Dandelion: 0.8948\n",
            "IoU for Kikuyo: 0.8698\n",
            "IoU for Other: 0.6629\n",
            "IoU for Potato: 0.8761\n"
          ]
        }
      ],
      "source": [
        "import tensorflow as tf\n",
        "from tensorflow.keras import layers, Model, regularizers\n",
        "import numpy as np\n",
        "import matplotlib.pyplot as plt\n",
        "import os\n",
        "from glob import glob\n",
        "\n",
        "# --- Configuración del modelo ---\n",
        "IMG_HEIGHT = 128\n",
        "IMG_WIDTH = 128\n",
        "NUM_CLASSES = 6   # 0-background, 1-Cow-tongue, 2-Dandelion, 3-Kikuyo, 4-Other, 5-Potato\n",
        "BATCH_SIZE = 16\n",
        "EPOCHS = 100 # Increased epochs, relying on EarlyStopping\n",
        "LEARNING_RATE = 1e-4 # Initial LR, will be reduced by ReduceLROnPlateau\n",
        "\n",
        "# --- Paths ---\n",
        "BASE_PATH = '/content/Balanced'\n",
        "TRAIN_IMAGES_PATH = os.path.join(BASE_PATH, 'train/images')\n",
        "TRAIN_MASKS_PATH = os.path.join(BASE_PATH, 'train/masks')\n",
        "VAL_IMAGES_PATH = os.path.join(BASE_PATH, 'val/images')\n",
        "VAL_MASKS_PATH = os.path.join(BASE_PATH, 'val/masks')\n",
        "\n",
        "# --- Módulos del modelo ---\n",
        "class ASPPModule(layers.Layer):\n",
        "    def __init__(self, filters=128, **kwargs): # Increased filters\n",
        "        super(ASPPModule, self).__init__(**kwargs)\n",
        "        self.filters = filters\n",
        "\n",
        "        self.conv_1x1 = layers.Conv2D(filters, 1, padding='same', use_bias=False)\n",
        "        self.bn_1x1 = layers.BatchNormalization()\n",
        "        self.relu_1x1 = layers.ReLU()\n",
        "\n",
        "        self.conv_3x3_6 = layers.Conv2D(filters, 3, padding='same', dilation_rate=6, use_bias=False)\n",
        "        self.bn_3x3_6 = layers.BatchNormalization()\n",
        "        self.relu_3x3_6 = layers.ReLU()\n",
        "\n",
        "        self.conv_3x3_12 = layers.Conv2D(filters, 3, padding='same', dilation_rate=12, use_bias=False)\n",
        "        self.bn_3x3_12 = layers.BatchNormalization()\n",
        "        self.relu_3x3_12 = layers.ReLU()\n",
        "\n",
        "        self.conv_3x3_18 = layers.Conv2D(filters, 3, padding='same', dilation_rate=18, use_bias=False) # Added another dilation rate\n",
        "        self.bn_3x3_18 = layers.BatchNormalization()\n",
        "        self.relu_3x3_18 = layers.ReLU()\n",
        "\n",
        "        self.global_avg_pool = layers.GlobalAveragePooling2D(keepdims=True)\n",
        "        self.conv_1x1_gap = layers.Conv2D(filters, 1, padding='same', use_bias=False)\n",
        "        self.bn_1x1_gap = layers.BatchNormalization()\n",
        "        self.relu_1x1_gap = layers.ReLU()\n",
        "\n",
        "        self.conv_final = layers.Conv2D(filters, 1, padding='same', use_bias=False)\n",
        "        self.bn_final = layers.BatchNormalization()\n",
        "        self.relu_final = layers.ReLU()\n",
        "        self.dropout = layers.Dropout(0.2) # Slightly reduced dropout\n",
        "\n",
        "    def call(self, inputs, training=None):\n",
        "        input_shape = tf.shape(inputs)\n",
        "\n",
        "        conv_1x1 = self.relu_1x1(self.bn_1x1(self.conv_1x1(inputs), training=training))\n",
        "        conv_3x3_6 = self.relu_3x3_6(self.bn_3x3_6(self.conv_3x3_6(inputs), training=training))\n",
        "        conv_3x3_12 = self.relu_3x3_12(self.bn_3x3_12(self.conv_3x3_12(inputs), training=training))\n",
        "        conv_3x3_18 = self.relu_3x3_18(self.bn_3x3_18(self.conv_3x3_18(inputs), training=training)) # Added to call\n",
        "\n",
        "        gap = self.global_avg_pool(inputs)\n",
        "        gap = self.relu_1x1_gap(self.bn_1x1_gap(self.conv_1x1_gap(gap), training=training))\n",
        "        gap = tf.image.resize(gap, [input_shape[1], input_shape[2]], method='bilinear')\n",
        "\n",
        "        concat = layers.Concatenate()([conv_1x1, conv_3x3_6, conv_3x3_12, conv_3x3_18, gap]) # Concatenated all ASPP branches\n",
        "\n",
        "        output = self.relu_final(self.bn_final(self.conv_final(concat), training=training))\n",
        "        output = self.dropout(output, training=training)\n",
        "\n",
        "        return output\n",
        "\n",
        "class DeformableAttention(layers.Layer):\n",
        "    def __init__(self, filters, **kwargs):\n",
        "        super(DeformableAttention, self).__init__(**kwargs)\n",
        "        self.filters = filters\n",
        "\n",
        "    def build(self, input_shape):\n",
        "        self.attention_conv = layers.Conv2D(self.filters, 1, padding='same', activation='sigmoid', name='attention_weights_conv', use_bias=False)\n",
        "        self.bn_attention = layers.BatchNormalization()\n",
        "\n",
        "        self.feature_conv = layers.Conv2D(self.filters, 3, padding='same', name='feature_processing_conv', use_bias=False)\n",
        "        self.bn_feature = layers.BatchNormalization()\n",
        "        self.relu_feature = layers.ReLU()\n",
        "\n",
        "        super(DeformableAttention, self).build(input_shape)\n",
        "\n",
        "    def call(self, inputs, training=None):\n",
        "        attention_weights = self.bn_attention(self.attention_conv(inputs), training=training)\n",
        "        features = self.relu_feature(self.bn_feature(self.feature_conv(inputs), training=training))\n",
        "        attended_features = features * attention_weights\n",
        "        return attended_features\n",
        "\n",
        "def create_efficient_backbone(input_shape):\n",
        "    base_model = tf.keras.applications.EfficientNetV2B0(\n",
        "        input_shape=input_shape,\n",
        "        weights='imagenet',\n",
        "        include_top=False\n",
        "    )\n",
        "    base_model.trainable = True\n",
        "\n",
        "    # Confirming layer names and their ACTUAL resolutions for 128x128 input\n",
        "    # based on your debug outputs:\n",
        "    # feat1: block1a_project_activation -> (None, 64, 64, 24)\n",
        "    # feat2: block2a_expand_activation -> (None, 32, 32, 32)\n",
        "    # feat3: block3a_expand_activation -> (None, 16, 16, 128)  <--- THIS IS KEY!\n",
        "    # feat4: block4a_expand_activation -> (None, 16, 16, 192) <--- THIS IS KEY!\n",
        "    # feat5: top_activation -> (None, 4, 4, 1280)\n",
        "\n",
        "    layer_names = [\n",
        "        'block1a_project_activation',\n",
        "        'block2a_expand_activation',\n",
        "        'block3a_expand_activation',\n",
        "        'block4a_expand_activation',\n",
        "        'top_activation'\n",
        "    ]\n",
        "\n",
        "    outputs = [base_model.get_layer(name).output for name in layer_names]\n",
        "\n",
        "    return Model(inputs=base_model.input, outputs=outputs, name='EfficientNetV2B0_Backbone')\n",
        "\n",
        "def create_weed_detection_model(input_shape=(IMG_HEIGHT, IMG_WIDTH, 3), num_classes=NUM_CLASSES):\n",
        "    inputs = layers.Input(shape=input_shape)\n",
        "\n",
        "    backbone = create_efficient_backbone(input_shape)\n",
        "    feat1, feat2, feat3, feat4, feat5 = backbone(inputs) # Get all feature maps\n",
        "\n",
        "    # Encoder part\n",
        "    deep_features = feat5 # (None, 4, 4, 1280) - Deepest features\n",
        "\n",
        "    aspp_features = ASPPModule(filters=256)(deep_features) # (None, 4, 4, 256)\n",
        "    attended_features = DeformableAttention(filters=256)(aspp_features) # (None, 4, 4, 256)\n",
        "\n",
        "    # --- Decoder Path: Re-structured for correct dimension matching ---\n",
        "\n",
        "    # Stage 1: Upsample from 4x4 to 16x16, then concatenate with feat4 AND feat3\n",
        "    # Both feat3 and feat4 are 16x16, so they should be combined at this 16x16 stage.\n",
        "\n",
        "    # 1. Upsample from 4x4 to 8x8\n",
        "    decoder_up1 = layers.Conv2DTranspose(128, 2, strides=2, padding='same', use_bias=False)(attended_features)\n",
        "    decoder_up1 = layers.BatchNormalization()(decoder_up1)\n",
        "    decoder_up1 = layers.ReLU()(decoder_up1)\n",
        "    decoder_up1 = layers.Dropout(0.2)(decoder_up1) # (None, 8, 8, 128)\n",
        "\n",
        "    # 2. Upsample from 8x8 to 16x16\n",
        "    decoder_up2 = layers.Conv2DTranspose(128, 2, strides=2, padding='same', use_bias=False)(decoder_up1)\n",
        "    decoder_up2 = layers.BatchNormalization()(decoder_up2)\n",
        "    decoder_up2 = layers.ReLU()(decoder_up2)\n",
        "    decoder_up2 = layers.Dropout(0.2)(decoder_up2) # (None, 16, 16, 128)\n",
        "\n",
        "    # Process feat4 (16x16) and feat3 (16x16)\n",
        "    # Both will be concatenated with decoder_up2 (16x16)\n",
        "    feat4_processed = layers.Conv2D(128, 1, padding='same', use_bias=False)(feat4)\n",
        "    feat4_processed = layers.BatchNormalization()(feat4_processed)\n",
        "    feat4_processed = layers.ReLU()(feat4_processed) # (None, 16, 16, 128)\n",
        "\n",
        "    feat3_processed = layers.Conv2D(128, 1, padding='same', use_bias=False)(feat3) # Changed filters to 128 for consistency\n",
        "    feat3_processed = layers.BatchNormalization()(feat3_processed)\n",
        "    feat3_processed = layers.ReLU()(feat3_processed) # (None, 16, 16, 128)\n",
        "\n",
        "    # Concatenate decoder_up2, feat4_processed, and feat3_processed\n",
        "    decoder_concat1 = layers.Concatenate()([decoder_up2, feat4_processed, feat3_processed]) # Combine 16x16 features\n",
        "\n",
        "    decoder_conv1 = layers.Conv2D(128, 3, padding='same', use_bias=False)(decoder_concat1)\n",
        "    decoder_conv1 = layers.BatchNormalization()(decoder_conv1)\n",
        "    decoder_conv1 = layers.ReLU()(decoder_conv1)\n",
        "    decoder_conv1 = layers.Conv2D(128, 3, padding='same', use_bias=False)(decoder_conv1)\n",
        "    decoder_conv1 = layers.BatchNormalization()(decoder_conv1)\n",
        "    decoder_conv1 = layers.ReLU()(decoder_conv1)\n",
        "    decoder_conv1 = layers.Dropout(0.2)(decoder_conv1) # (None, 16, 16, 128)\n",
        "\n",
        "    # Stage 2: Upsample from 16x16 to 32x32, then concatenate with feat2 (32x32)\n",
        "    decoder_up3 = layers.Conv2DTranspose(64, 2, strides=2, padding='same', use_bias=False)(decoder_conv1)\n",
        "    decoder_up3 = layers.BatchNormalization()(decoder_up3)\n",
        "    decoder_up3 = layers.ReLU()(decoder_up3)\n",
        "    decoder_up3 = layers.Dropout(0.2)(decoder_up3) # (None, 32, 32, 64)\n",
        "\n",
        "    # Process feat2 (32x32)\n",
        "    feat2_processed = layers.Conv2D(64, 1, padding='same', use_bias=False)(feat2)\n",
        "    feat2_processed = layers.BatchNormalization()(feat2_processed)\n",
        "    feat2_processed = layers.ReLU()(feat2_processed) # (None, 32, 32, 64)\n",
        "\n",
        "    decoder_concat2 = layers.Concatenate()([decoder_up3, feat2_processed])\n",
        "    decoder_conv2 = layers.Conv2D(64, 3, padding='same', use_bias=False)(decoder_concat2)\n",
        "    decoder_conv2 = layers.BatchNormalization()(decoder_conv2)\n",
        "    decoder_conv2 = layers.ReLU()(decoder_conv2)\n",
        "    decoder_conv2 = layers.Conv2D(64, 3, padding='same', use_bias=False)(decoder_conv2)\n",
        "    decoder_conv2 = layers.BatchNormalization()(decoder_conv2)\n",
        "    decoder_conv2 = layers.ReLU()(decoder_conv2)\n",
        "    decoder_conv2 = layers.Dropout(0.2)(decoder_conv2) # (None, 32, 32, 64)\n",
        "\n",
        "    # Stage 3: Upsample from 32x32 to 64x64, then concatenate with feat1 (64x64)\n",
        "    decoder_up4 = layers.Conv2DTranspose(32, 2, strides=2, padding='same', use_bias=False)(decoder_conv2)\n",
        "    decoder_up4 = layers.BatchNormalization()(decoder_up4)\n",
        "    decoder_up4 = layers.ReLU()(decoder_up4)\n",
        "    decoder_up4 = layers.Dropout(0.2)(decoder_up4) # (None, 64, 64, 32)\n",
        "\n",
        "    # Process feat1 (64x64)\n",
        "    feat1_processed = layers.Conv2D(32, 1, padding='same', use_bias=False)(feat1) # Changed filters to 32\n",
        "    feat1_processed = layers.BatchNormalization()(feat1_processed)\n",
        "    feat1_processed = layers.ReLU()(feat1_processed) # (None, 64, 64, 32)\n",
        "\n",
        "    decoder_concat3 = layers.Concatenate()([decoder_up4, feat1_processed])\n",
        "    decoder_conv3 = layers.Conv2D(32, 3, padding='same', use_bias=False)(decoder_concat3)\n",
        "    decoder_conv3 = layers.BatchNormalization()(decoder_conv3)\n",
        "    decoder_conv3 = layers.ReLU()(decoder_conv3)\n",
        "    decoder_conv3 = layers.Conv2D(32, 3, padding='same', use_bias=False)(decoder_conv3)\n",
        "    decoder_conv3 = layers.BatchNormalization()(decoder_conv3)\n",
        "    decoder_conv3 = layers.ReLU()(decoder_conv3)\n",
        "    decoder_conv3 = layers.Dropout(0.2)(decoder_conv3) # (None, 64, 64, 32)\n",
        "\n",
        "    # Final Stage: Upsample from 64x64 to 128x128 (original resolution)\n",
        "    outputs = layers.Conv2DTranspose(NUM_CLASSES, 2, strides=2, padding='same', use_bias=False)(decoder_conv3)\n",
        "    # This will result in (None, 128, 128, num_classes)\n",
        "    outputs = layers.Conv2D(NUM_CLASSES, 1, padding='same', activation='softmax', name='segmentation_output')(outputs)\n",
        "\n",
        "    model = Model(inputs=inputs, outputs=outputs, name='WeedDetectionModel')\n",
        "\n",
        "    return model\n",
        "\n",
        "# --- Métricas y Funciones de Pérdida (Resto del código permanece igual) ---\n",
        "# --- Métricas y Funciones de Pérdida ---\n",
        "def dice_coefficient(y_true, y_pred, smooth=1e-6):\n",
        "    y_true_f = tf.reshape(tf.cast(y_true, tf.float32), [-1, NUM_CLASSES])\n",
        "    y_pred_f = tf.reshape(tf.cast(y_pred, tf.float32), [-1, NUM_CLASSES])\n",
        "\n",
        "    intersection = tf.reduce_sum(y_true_f * y_pred_f, axis=0)\n",
        "    dice_scores = (2. * intersection + smooth) / (tf.reduce_sum(y_true_f, axis=0) + tf.reduce_sum(y_pred_f, axis=0) + smooth)\n",
        "\n",
        "    return tf.reduce_mean(dice_scores)\n",
        "\n",
        "# Corrected Focal Loss Implementation\n",
        "def focal_loss(gamma=2.0, alpha=0.25):\n",
        "    def focal_loss_fixed(y_true, y_pred):\n",
        "        y_true = tf.cast(y_true, tf.float32)\n",
        "        epsilon = tf.keras.backend.epsilon()\n",
        "        y_pred = tf.clip_by_value(y_pred, epsilon, 1. - epsilon)\n",
        "\n",
        "        # Calculate cross_entropy per pixel per class\n",
        "        cross_entropy = -y_true * tf.math.log(y_pred)\n",
        "\n",
        "        # Calculate focal loss modulation term per pixel per class\n",
        "        loss = alpha * tf.pow(1 - y_pred, gamma) * cross_entropy\n",
        "\n",
        "        # DO NOT sum over axis=-1 here. Return the loss per pixel per class.\n",
        "        return loss # Shape will be [?, H, W, NUM_CLASSES]\n",
        "    return focal_loss_fixed\n",
        "\n",
        "def dice_loss(y_true, y_pred):\n",
        "    return 1 - dice_coefficient(y_true, y_pred)\n",
        "\n",
        "def combined_loss(y_true, y_pred):\n",
        "    y_true = tf.cast(y_true, tf.float32)\n",
        "\n",
        "    # Class weights for each of the NUM_CLASSES\n",
        "    class_weights = tf.constant([0.4, 4.0, 3.5, 1.0, 2.0, 4.0]) # Shape [6]\n",
        "\n",
        "    # Calculate unreduced focal loss per pixel per class\n",
        "    f_loss_per_pixel_per_class = focal_loss(gamma=2.0, alpha=0.75)(y_true, y_pred) # Shape [?, H, W, NUM_CLASSES]\n",
        "\n",
        "    # Apply class weights. Reshape class_weights to [1, 1, 1, NUM_CLASSES] for broadcasting.\n",
        "    # Alternatively, TensorFlow's broadcasting should handle [6] automatically if applied to the last dimension.\n",
        "    weighted_f_loss = f_loss_per_pixel_per_class * class_weights\n",
        "\n",
        "    # Now, sum the weighted focal loss across the class dimension and average over pixels/batch\n",
        "    f_loss_reduced = tf.reduce_sum(weighted_f_loss, axis=-1) # Sum over classes for each pixel\n",
        "    f_loss_mean = tf.reduce_mean(f_loss_reduced) # Average over spatial dimensions and batch\n",
        "\n",
        "    d_loss = dice_loss(y_true, y_pred)\n",
        "\n",
        "    return f_loss_mean + (1.5 * d_loss) # Combine mean focal loss with dice loss\n",
        "\n",
        "def iou_metric(y_true, y_pred):\n",
        "    y_true = tf.cast(y_true, tf.float32)\n",
        "    y_pred = tf.cast(y_pred, tf.float32)\n",
        "\n",
        "    y_pred = tf.one_hot(tf.argmax(y_pred, axis=-1), depth=NUM_CLASSES)\n",
        "\n",
        "    intersection = tf.reduce_sum(y_true * y_pred, axis=[1, 2, 3])\n",
        "    union = tf.reduce_sum(y_true, axis=[1, 2, 3]) + tf.reduce_sum(y_pred, axis=[1, 2, 3]) - intersection\n",
        "\n",
        "    iou = tf.where(tf.equal(union, 0), 1.0, intersection / union)\n",
        "    return tf.reduce_mean(iou)\n",
        "\n",
        "def iou_per_class(y_true, y_pred):\n",
        "    y_true = tf.cast(y_true, tf.float32)\n",
        "    y_pred = tf.cast(y_pred, tf.float32)\n",
        "\n",
        "    y_pred = tf.one_hot(tf.argmax(y_pred, axis=-1), depth=NUM_CLASSES)\n",
        "\n",
        "    intersection = tf.reduce_sum(y_true * y_pred, axis=[1, 2])\n",
        "    union = tf.reduce_sum(y_true, axis=[1, 2]) + tf.reduce_sum(y_pred, axis=[1, 2]) - intersection\n",
        "\n",
        "    iou = tf.where(tf.equal(union, 0), 1.0, intersection / union)\n",
        "    return tf.reduce_mean(iou, axis=0)\n",
        "\n",
        "# --- Carga y Preprocesamiento de Datos ---\n",
        "def load_and_preprocess_data(images_path, masks_path):\n",
        "    def load_image_only(image_path):\n",
        "        image = tf.io.read_file(image_path)\n",
        "        image = tf.image.decode_image(image, channels=3, expand_animations=False)\n",
        "        image.set_shape([None, None, 3]) # Ensure 3 channels\n",
        "        image = tf.image.resize(image, [IMG_HEIGHT, IMG_WIDTH], method='bilinear')\n",
        "        return tf.cast(image, tf.float32) # Return image in 0-255 range\n",
        "\n",
        "    def load_mask_only(mask_path):\n",
        "        mask = tf.io.read_file(mask_path)\n",
        "        mask = tf.image.decode_png(mask, channels=1)\n",
        "        mask = tf.image.resize(mask, [IMG_HEIGHT, IMG_WIDTH], method='nearest')\n",
        "        mask = tf.cast(mask, tf.int32)\n",
        "        mask = tf.squeeze(mask, axis=-1)\n",
        "        mask = tf.one_hot(mask, NUM_CLASSES)\n",
        "        return mask\n",
        "\n",
        "    def augment_and_preprocess(image, mask):\n",
        "        # Spatial augmentations (flips, rotations)\n",
        "        if tf.random.uniform([]) > 0.5:\n",
        "            image = tf.image.flip_left_right(image)\n",
        "            mask = tf.image.flip_left_right(mask)\n",
        "\n",
        "        if tf.random.uniform([]) > 0.5:\n",
        "            image = tf.image.flip_up_down(image)\n",
        "            mask = tf.image.flip_up_down(mask)\n",
        "\n",
        "        if tf.random.uniform([]) > 0.5:\n",
        "            k = tf.random.uniform([], minval=1, maxval=4, dtype=tf.int32)\n",
        "            image = tf.image.rot90(image, k)\n",
        "            mask = tf.image.rot90(mask, k)\n",
        "\n",
        "        # Color augmentations on 0-255 scale\n",
        "        image = tf.image.random_brightness(image, max_delta=0.4 * 255)\n",
        "        image = tf.image.random_contrast(image, lower=0.6, upper=1.4)\n",
        "        image = tf.image.random_hue(image, max_delta=0.15)\n",
        "        image = tf.image.random_saturation(image, lower=0.6, upper=1.4)\n",
        "\n",
        "        # Clip values to 0-255 after color augmentations\n",
        "        image = tf.clip_by_value(image, 0.0, 255.0)\n",
        "\n",
        "        # Apply EfficientNetV2 preprocessing *after* all augmentations\n",
        "        image = tf.keras.applications.efficientnet_v2.preprocess_input(image)\n",
        "\n",
        "        return image, mask\n",
        "\n",
        "    train_image_paths = sorted(glob(os.path.join(TRAIN_IMAGES_PATH, '*.jpg')))\n",
        "    train_mask_paths = sorted(glob(os.path.join(TRAIN_MASKS_PATH, '*.png')))\n",
        "    val_image_paths = sorted(glob(os.path.join(VAL_IMAGES_PATH, '*.jpg')))\n",
        "    val_mask_paths = sorted(glob(os.path.join(VAL_MASKS_PATH, '*.png')))\n",
        "\n",
        "    if not train_image_paths:\n",
        "        raise FileNotFoundError(f\"No image files found in: {TRAIN_IMAGES_PATH}. Check path and file extensions.\")\n",
        "    if not train_mask_paths:\n",
        "        raise FileNotFoundError(f\"No mask files found in: {TRAIN_MASKS_PATH}. Check path and file extensions.\")\n",
        "    if not val_image_paths:\n",
        "        raise FileNotFoundError(f\"No image files found in: {VAL_IMAGES_PATH}. Check path and file extensions.\")\n",
        "    if not val_mask_paths:\n",
        "        raise FileNotFoundError(f\"No mask files found in: {VAL_MASKS_PATH}. Check path and file extensions.\")\n",
        "\n",
        "    print(f\"Found {len(train_image_paths)} training images and {len(train_mask_paths)} training masks\")\n",
        "    print(f\"Found {len(val_image_paths)} validation images and {len(val_mask_paths)} validation masks\")\n",
        "\n",
        "    train_image_ds = tf.data.Dataset.from_tensor_slices(train_image_paths).map(load_image_only, num_parallel_calls=tf.data.AUTOTUNE)\n",
        "    train_mask_ds = tf.data.Dataset.from_tensor_slices(train_mask_paths).map(load_mask_only, num_parallel_calls=tf.data.AUTOTUNE)\n",
        "    train_dataset = tf.data.Dataset.zip((train_image_ds, train_mask_ds))\n",
        "    train_dataset = train_dataset.shuffle(buffer_size=1000).map(augment_and_preprocess, num_parallel_calls=tf.data.AUTOTUNE)\n",
        "    train_dataset = train_dataset.batch(BATCH_SIZE).prefetch(tf.data.AUTOTUNE)\n",
        "\n",
        "    val_image_ds = tf.data.Dataset.from_tensor_slices(val_image_paths).map(load_image_only, num_parallel_calls=tf.data.AUTOTUNE)\n",
        "    val_mask_ds = tf.data.Dataset.from_tensor_slices(val_mask_paths).map(load_mask_only, num_parallel_calls=tf.data.AUTOTUNE)\n",
        "    val_dataset = tf.data.Dataset.zip((val_image_ds, val_mask_ds))\n",
        "    # For validation, apply preprocessing without augmentation\n",
        "    val_dataset = val_dataset.map(lambda img, mask: (tf.keras.applications.efficientnet_v2.preprocess_input(img), mask), num_parallel_calls=tf.data.AUTOTUNE)\n",
        "    val_dataset = val_dataset.cache().batch(BATCH_SIZE).prefetch(tf.data.AUTOTUNE)\n",
        "\n",
        "    return train_dataset, val_dataset\n",
        "\n",
        "\n",
        "def train_model(train_dataset, val_dataset, model_save_path='best_weed_model.h5'):\n",
        "    model = create_weed_detection_model()\n",
        "    model.summary()\n",
        "\n",
        "    optimizer = tf.keras.optimizers.AdamW(learning_rate=LEARNING_RATE, weight_decay=1e-5)\n",
        "\n",
        "    model.compile(\n",
        "        optimizer=optimizer,\n",
        "        loss=combined_loss,\n",
        "        metrics=[dice_coefficient, iou_metric, 'accuracy']\n",
        "    )\n",
        "\n",
        "    callbacks = [\n",
        "        tf.keras.callbacks.ModelCheckpoint(\n",
        "            model_save_path,\n",
        "            monitor='val_dice_coefficient',\n",
        "            save_best_only=True,\n",
        "            mode='max',\n",
        "            verbose=1\n",
        "        ),\n",
        "        tf.keras.callbacks.EarlyStopping(\n",
        "            monitor='val_dice_coefficient',\n",
        "            patience=50,\n",
        "            mode='max',\n",
        "            restore_best_weights=True\n",
        "        ),\n",
        "        tf.keras.callbacks.ReduceLROnPlateau(\n",
        "            monitor='val_loss',\n",
        "            factor=0.3,\n",
        "            patience=20,\n",
        "            min_lr=1e-7,\n",
        "            verbose=1\n",
        "        ),\n",
        "    ]\n",
        "\n",
        "    print(f\"Starting training for {EPOCHS} epochs...\")\n",
        "    history = model.fit(\n",
        "        train_dataset,\n",
        "        epochs=EPOCHS,\n",
        "        validation_data=val_dataset,\n",
        "        callbacks=callbacks,\n",
        "        verbose=1\n",
        "    )\n",
        "\n",
        "    return model, history\n",
        "\n",
        "def visualize_predictions(model, val_dataset, num_samples=4):\n",
        "    class_names = ['Background', 'Cow-tongue', 'Dandelion', 'Kikuyo', 'Other', 'Potato']\n",
        "\n",
        "    print(f\"Visualizing {num_samples} samples from the validation set...\")\n",
        "\n",
        "    for images, masks in val_dataset.take(1):\n",
        "        predictions = model.predict(images)\n",
        "\n",
        "        fig, axes = plt.subplots(num_samples, 3, figsize=(15, 5 * num_samples))\n",
        "\n",
        "        for i in range(min(num_samples, images.shape[0])):\n",
        "            original_image = images[i] * 127.5 + 127.5 # Reverse EfficientNet preprocessing\n",
        "            original_image = tf.clip_by_value(original_image, 0.0, 255.0)\n",
        "            original_image = tf.cast(original_image, tf.uint8)\n",
        "\n",
        "            axes[i, 0].imshow(original_image)\n",
        "            axes[i, 0].set_title('Original Image')\n",
        "            axes[i, 0].axis('off')\n",
        "\n",
        "            true_mask = np.argmax(masks[i].numpy(), axis=-1)\n",
        "            axes[i, 1].imshow(true_mask, cmap='tab10', vmin=0, vmax=NUM_CLASSES - 1)\n",
        "            axes[i, 1].set_title('True Mask')\n",
        "            axes[i, 1].axis('off')\n",
        "\n",
        "            pred_mask = np.argmax(predictions[i], axis=-1)\n",
        "            axes[i, 2].imshow(pred_mask, cmap='tab10', vmin=0, vmax=NUM_CLASSES - 1)\n",
        "            axes[i, 2].set_title('Predicted Mask')\n",
        "            axes[i, 2].axis('off')\n",
        "\n",
        "        plt.tight_layout()\n",
        "        plt.show()\n",
        "        break\n",
        "\n",
        "if __name__ == \"__main__\":\n",
        "    if not os.path.exists(TRAIN_IMAGES_PATH):\n",
        "        print(f\"Error: La ruta de imágenes de entrenamiento NO existe: {TRAIN_IMAGES_PATH}\")\n",
        "        exit()\n",
        "    if not os.path.exists(TRAIN_MASKS_PATH):\n",
        "        print(f\"Error: La ruta de máscaras de entrenamiento NO existe: {TRAIN_MASKS_PATH}\")\n",
        "        exit()\n",
        "    if not os.path.exists(VAL_IMAGES_PATH):\n",
        "        print(f\"Error: La ruta de imágenes de validación NO existe: {VAL_IMAGES_PATH}\")\n",
        "        exit()\n",
        "    if not os.path.exists(VAL_MASKS_PATH):\n",
        "        print(f\"Error: La ruta de máscaras de validación NO existe: {VAL_MASKS_PATH}\")\n",
        "        exit()\n",
        "\n",
        "    print(\"Creando datasets...\")\n",
        "    train_ds, val_ds = create_datasets()\n",
        "\n",
        "    print(\"Entrenando modelo...\")\n",
        "    model, history = train_model(train_ds, val_ds)\n",
        "\n",
        "    print(\"Visualizando predicciones...\")\n",
        "    visualize_predictions(model, val_ds)\n",
        "\n",
        "    print(\"¡Entrenamiento completado! El mejor modelo se guardó como 'best_weed_model.h5'\")\n",
        "\n",
        "    plt.figure(figsize=(12, 5))\n",
        "\n",
        "    plt.subplot(1, 2, 1)\n",
        "    plt.plot(history.history['dice_coefficient'], label='Dice Coeff (Train)')\n",
        "    plt.plot(history.history['val_dice_coefficient'], label='Dice Coeff (Validation)')\n",
        "    plt.title('Dice Coefficient over Epochs')\n",
        "    plt.xlabel('Epoch')\n",
        "    plt.ylabel('Dice Coefficient')\n",
        "    plt.legend()\n",
        "    plt.grid(True)\n",
        "\n",
        "    plt.subplot(1, 2, 2)\n",
        "    plt.plot(history.history['loss'], label='Loss (Train)')\n",
        "    plt.plot(history.history['val_loss'], label='Loss (Validation)')\n",
        "    plt.title('Loss over Epochs')\n",
        "    plt.xlabel('Epoch')\n",
        "    plt.ylabel('Loss')\n",
        "    plt.legend()\n",
        "    plt.grid(True)\n",
        "\n",
        "    plt.show()\n",
        "\n",
        "    print(\"\\nEvaluando el modelo final en el conjunto de validación:\")\n",
        "    final_metrics = model.evaluate(val_ds)\n",
        "    print(f\"Validation Loss: {final_metrics[0]:.4f}\")\n",
        "    print(f\"Validation Dice Coefficient: {final_metrics[1]:.4f}\")\n",
        "    print(f\"Validation IoU: {final_metrics[2]:.4f}\")\n",
        "    print(f\"Validation Accuracy: {final_metrics[3]:.4f}\")\n",
        "\n",
        "    iou_per_class_values = []\n",
        "    for images_batch, masks_batch in val_ds:\n",
        "        predictions_batch = model.predict(images_batch, verbose=0)\n",
        "        iou_per_class_values.append(iou_per_class(masks_batch, predictions_batch))\n",
        "\n",
        "    iou_per_class_values = tf.reduce_mean(tf.stack(iou_per_class_values), axis=0).numpy()\n",
        "\n",
        "    class_names = ['Background', 'Cow-tongue', 'Dandelion', 'Kikuyo', 'Other', 'Potato']\n",
        "    for i, iou in enumerate(iou_per_class_values):\n",
        "        print(f\"IoU for {class_names[i]}: {iou:.4f}\")"
      ]
    }
  ],
  "metadata": {
    "accelerator": "GPU",
    "colab": {
      "gpuType": "T4",
      "provenance": [],
      "authorship_tag": "ABX9TyPDKEBJdcVUtLkq1GHs+Qvh",
      "include_colab_link": true
    },
    "kernelspec": {
      "display_name": "Python 3",
      "name": "python3"
    },
    "language_info": {
      "name": "python"
    }
  },
  "nbformat": 4,
  "nbformat_minor": 0
}